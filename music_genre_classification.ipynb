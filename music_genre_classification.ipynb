{
  "cells": [
    {
      "cell_type": "markdown",
      "metadata": {
        "id": "nlRVMalGY_HF"
      },
      "source": [
        "# **Library Imports**"
      ]
    },
    {
      "cell_type": "code",
      "source": [
        "!pip install --quiet comet_ml\n",
        "import comet_ml\n",
        "import getpass\n",
        "\n",
        "comet_api_key = getpass.getpass('Enter key')"
      ],
      "metadata": {
        "colab": {
          "base_uri": "https://localhost:8080/"
        },
        "collapsed": true,
        "id": "ClX6NlsRx0PS",
        "outputId": "2f64d6d7-720e-4d5d-8314-cc60065544f1"
      },
      "execution_count": 3,
      "outputs": [
        {
          "name": "stdout",
          "output_type": "stream",
          "text": [
            "Enter key··········\n"
          ]
        }
      ]
    },
    {
      "cell_type": "code",
      "execution_count": 4,
      "metadata": {
        "collapsed": true,
        "id": "HGePClEgLA8_",
        "colab": {
          "base_uri": "https://localhost:8080/"
        },
        "outputId": "ab11a70a-0929-4648-cbc0-808c98c50698"
      },
      "outputs": [
        {
          "output_type": "stream",
          "name": "stdout",
          "text": [
            "\u001b[?25l   \u001b[90m━━━━━━━━━━━━━━━━━━━━━━━━━━━━━━━━━━━━━━━━\u001b[0m \u001b[32m0.0/983.2 kB\u001b[0m \u001b[31m?\u001b[0m eta \u001b[36m-:--:--\u001b[0m\r\u001b[2K   \u001b[91m━━━━━━━━━━━━━━━━━━━━━━━━━━━━━━━━━━━━━━━\u001b[0m\u001b[91m╸\u001b[0m \u001b[32m983.0/983.2 kB\u001b[0m \u001b[31m37.3 MB/s\u001b[0m eta \u001b[36m0:00:01\u001b[0m\r\u001b[2K   \u001b[90m━━━━━━━━━━━━━━━━━━━━━━━━━━━━━━━━━━━━━━━━\u001b[0m \u001b[32m983.2/983.2 kB\u001b[0m \u001b[31m24.7 MB/s\u001b[0m eta \u001b[36m0:00:00\u001b[0m\n",
            "\u001b[?25h"
          ]
        }
      ],
      "source": [
        "from comet_ml import Experiment\n",
        "import torch\n",
        "\n",
        "from google.colab import files\n",
        "\n",
        "import torchvision as tv\n",
        "from torchvision.datasets import ImageFolder\n",
        "from torch.utils.data import random_split, DataLoader, Dataset, ConcatDataset\n",
        "import matplotlib.pyplot as plt\n",
        "\n",
        "import torch.nn as nn\n",
        "\n",
        "!pip install --quiet torchmetrics\n",
        "from torchmetrics.classification import MulticlassAccuracy, MulticlassPrecision, MulticlassRecall, MulticlassF1Score, MulticlassConfusionMatrix\n",
        "from tqdm import tqdm\n",
        "\n",
        "from torch.optim import Adam, RMSprop\n",
        "\n",
        "import numpy as np\n",
        "\n",
        "import seaborn as sns\n"
      ]
    },
    {
      "cell_type": "code",
      "source": [
        "experiment = comet_ml.Experiment(api_key=comet_api_key, workspace='davidafshepherd', project_name=\"music_genre_classification\", auto_metric_logging=False, auto_output_logging=False)"
      ],
      "metadata": {
        "colab": {
          "base_uri": "https://localhost:8080/"
        },
        "id": "aA07D_cJzffF",
        "outputId": "25388e11-395a-49b5-8cd4-7f617c00dd1d",
        "collapsed": true
      },
      "execution_count": 5,
      "outputs": [
        {
          "output_type": "stream",
          "name": "stderr",
          "text": [
            "\u001b[1;38;5;214mCOMET WARNING:\u001b[0m As you are running in a Jupyter environment, you will need to call `experiment.end()` when finished to ensure all metrics and code are logged before exiting.\n",
            "\u001b[1;38;5;39mCOMET INFO:\u001b[0m Experiment is live on comet.com https://www.comet.com/davidafshepherd/music-genre-classification/d91838756e214762b98511614d415b65\n",
            "\n"
          ]
        }
      ]
    },
    {
      "cell_type": "code",
      "source": [
        "device = torch.device('cuda' if torch.cuda.is_available() else 'cpu')"
      ],
      "metadata": {
        "id": "QEf61WsfN7_8"
      },
      "execution_count": 6,
      "outputs": []
    },
    {
      "cell_type": "markdown",
      "metadata": {
        "id": "9LOonaR9dTEp"
      },
      "source": [
        "# **Download dataset from Kaggle**"
      ]
    },
    {
      "cell_type": "code",
      "source": [
        "# Upload kaggle.json\n",
        "files.upload()"
      ],
      "metadata": {
        "collapsed": true,
        "id": "yDWr3gQ_-b4g"
      },
      "execution_count": null,
      "outputs": []
    },
    {
      "cell_type": "code",
      "source": [
        "# Move kaggle.json to correct location\n",
        "!mkdir -p ~/.kaggle\n",
        "!cp kaggle.json ~/.kaggle/\n",
        "!chmod 600 ~/.kaggle/kaggle.json"
      ],
      "metadata": {
        "id": "pfNt6-E3_NA5"
      },
      "execution_count": 8,
      "outputs": []
    },
    {
      "cell_type": "code",
      "source": [
        "# Download dataset\n",
        "!kaggle datasets download andradaolteanu/gtzan-dataset-music-genre-classification"
      ],
      "metadata": {
        "colab": {
          "base_uri": "https://localhost:8080/"
        },
        "id": "-GnVQbCm_Yux",
        "outputId": "daf0a6e6-756f-4914-8718-cac6801d9733"
      },
      "execution_count": 9,
      "outputs": [
        {
          "output_type": "stream",
          "name": "stdout",
          "text": [
            "Dataset URL: https://www.kaggle.com/datasets/andradaolteanu/gtzan-dataset-music-genre-classification\n",
            "License(s): other\n",
            "Downloading gtzan-dataset-music-genre-classification.zip to /content\n",
            " 97% 1.17G/1.21G [00:14<00:00, 157MB/s]\n",
            "100% 1.21G/1.21G [00:15<00:00, 86.2MB/s]\n"
          ]
        }
      ]
    },
    {
      "cell_type": "code",
      "source": [
        "#Unzip dataset\n",
        "!unzip gtzan-dataset-music-genre-classification.zip -d gtzan"
      ],
      "metadata": {
        "colab": {
          "base_uri": "https://localhost:8080/"
        },
        "collapsed": true,
        "id": "G0h-SNLQGDvu",
        "outputId": "fdf67b44-0362-464f-8350-0232b73722bc"
      },
      "execution_count": 10,
      "outputs": [
        {
          "output_type": "stream",
          "name": "stdout",
          "text": [
            "Archive:  gtzan-dataset-music-genre-classification.zip\n",
            "  inflating: gtzan/Data/features_30_sec.csv  \n",
            "  inflating: gtzan/Data/features_3_sec.csv  \n",
            "  inflating: gtzan/Data/genres_original/blues/blues.00000.wav  \n",
            "  inflating: gtzan/Data/genres_original/blues/blues.00001.wav  \n",
            "  inflating: gtzan/Data/genres_original/blues/blues.00002.wav  \n",
            "  inflating: gtzan/Data/genres_original/blues/blues.00003.wav  \n",
            "  inflating: gtzan/Data/genres_original/blues/blues.00004.wav  \n",
            "  inflating: gtzan/Data/genres_original/blues/blues.00005.wav  \n",
            "  inflating: gtzan/Data/genres_original/blues/blues.00006.wav  \n",
            "  inflating: gtzan/Data/genres_original/blues/blues.00007.wav  \n",
            "  inflating: gtzan/Data/genres_original/blues/blues.00008.wav  \n",
            "  inflating: gtzan/Data/genres_original/blues/blues.00009.wav  \n",
            "  inflating: gtzan/Data/genres_original/blues/blues.00010.wav  \n",
            "  inflating: gtzan/Data/genres_original/blues/blues.00011.wav  \n",
            "  inflating: gtzan/Data/genres_original/blues/blues.00012.wav  \n",
            "  inflating: gtzan/Data/genres_original/blues/blues.00013.wav  \n",
            "  inflating: gtzan/Data/genres_original/blues/blues.00014.wav  \n",
            "  inflating: gtzan/Data/genres_original/blues/blues.00015.wav  \n",
            "  inflating: gtzan/Data/genres_original/blues/blues.00016.wav  \n",
            "  inflating: gtzan/Data/genres_original/blues/blues.00017.wav  \n",
            "  inflating: gtzan/Data/genres_original/blues/blues.00018.wav  \n",
            "  inflating: gtzan/Data/genres_original/blues/blues.00019.wav  \n",
            "  inflating: gtzan/Data/genres_original/blues/blues.00020.wav  \n",
            "  inflating: gtzan/Data/genres_original/blues/blues.00021.wav  \n",
            "  inflating: gtzan/Data/genres_original/blues/blues.00022.wav  \n",
            "  inflating: gtzan/Data/genres_original/blues/blues.00023.wav  \n",
            "  inflating: gtzan/Data/genres_original/blues/blues.00024.wav  \n",
            "  inflating: gtzan/Data/genres_original/blues/blues.00025.wav  \n",
            "  inflating: gtzan/Data/genres_original/blues/blues.00026.wav  \n",
            "  inflating: gtzan/Data/genres_original/blues/blues.00027.wav  \n",
            "  inflating: gtzan/Data/genres_original/blues/blues.00028.wav  \n",
            "  inflating: gtzan/Data/genres_original/blues/blues.00029.wav  \n",
            "  inflating: gtzan/Data/genres_original/blues/blues.00030.wav  \n",
            "  inflating: gtzan/Data/genres_original/blues/blues.00031.wav  \n",
            "  inflating: gtzan/Data/genres_original/blues/blues.00032.wav  \n",
            "  inflating: gtzan/Data/genres_original/blues/blues.00033.wav  \n",
            "  inflating: gtzan/Data/genres_original/blues/blues.00034.wav  \n",
            "  inflating: gtzan/Data/genres_original/blues/blues.00035.wav  \n",
            "  inflating: gtzan/Data/genres_original/blues/blues.00036.wav  \n",
            "  inflating: gtzan/Data/genres_original/blues/blues.00037.wav  \n",
            "  inflating: gtzan/Data/genres_original/blues/blues.00038.wav  \n",
            "  inflating: gtzan/Data/genres_original/blues/blues.00039.wav  \n",
            "  inflating: gtzan/Data/genres_original/blues/blues.00040.wav  \n",
            "  inflating: gtzan/Data/genres_original/blues/blues.00041.wav  \n",
            "  inflating: gtzan/Data/genres_original/blues/blues.00042.wav  \n",
            "  inflating: gtzan/Data/genres_original/blues/blues.00043.wav  \n",
            "  inflating: gtzan/Data/genres_original/blues/blues.00044.wav  \n",
            "  inflating: gtzan/Data/genres_original/blues/blues.00045.wav  \n",
            "  inflating: gtzan/Data/genres_original/blues/blues.00046.wav  \n",
            "  inflating: gtzan/Data/genres_original/blues/blues.00047.wav  \n",
            "  inflating: gtzan/Data/genres_original/blues/blues.00048.wav  \n",
            "  inflating: gtzan/Data/genres_original/blues/blues.00049.wav  \n",
            "  inflating: gtzan/Data/genres_original/blues/blues.00050.wav  \n",
            "  inflating: gtzan/Data/genres_original/blues/blues.00051.wav  \n",
            "  inflating: gtzan/Data/genres_original/blues/blues.00052.wav  \n",
            "  inflating: gtzan/Data/genres_original/blues/blues.00053.wav  \n",
            "  inflating: gtzan/Data/genres_original/blues/blues.00054.wav  \n",
            "  inflating: gtzan/Data/genres_original/blues/blues.00055.wav  \n",
            "  inflating: gtzan/Data/genres_original/blues/blues.00056.wav  \n",
            "  inflating: gtzan/Data/genres_original/blues/blues.00057.wav  \n",
            "  inflating: gtzan/Data/genres_original/blues/blues.00058.wav  \n",
            "  inflating: gtzan/Data/genres_original/blues/blues.00059.wav  \n",
            "  inflating: gtzan/Data/genres_original/blues/blues.00060.wav  \n",
            "  inflating: gtzan/Data/genres_original/blues/blues.00061.wav  \n",
            "  inflating: gtzan/Data/genres_original/blues/blues.00062.wav  \n",
            "  inflating: gtzan/Data/genres_original/blues/blues.00063.wav  \n",
            "  inflating: gtzan/Data/genres_original/blues/blues.00064.wav  \n",
            "  inflating: gtzan/Data/genres_original/blues/blues.00065.wav  \n",
            "  inflating: gtzan/Data/genres_original/blues/blues.00066.wav  \n",
            "  inflating: gtzan/Data/genres_original/blues/blues.00067.wav  \n",
            "  inflating: gtzan/Data/genres_original/blues/blues.00068.wav  \n",
            "  inflating: gtzan/Data/genres_original/blues/blues.00069.wav  \n",
            "  inflating: gtzan/Data/genres_original/blues/blues.00070.wav  \n",
            "  inflating: gtzan/Data/genres_original/blues/blues.00071.wav  \n",
            "  inflating: gtzan/Data/genres_original/blues/blues.00072.wav  \n",
            "  inflating: gtzan/Data/genres_original/blues/blues.00073.wav  \n",
            "  inflating: gtzan/Data/genres_original/blues/blues.00074.wav  \n",
            "  inflating: gtzan/Data/genres_original/blues/blues.00075.wav  \n",
            "  inflating: gtzan/Data/genres_original/blues/blues.00076.wav  \n",
            "  inflating: gtzan/Data/genres_original/blues/blues.00077.wav  \n",
            "  inflating: gtzan/Data/genres_original/blues/blues.00078.wav  \n",
            "  inflating: gtzan/Data/genres_original/blues/blues.00079.wav  \n",
            "  inflating: gtzan/Data/genres_original/blues/blues.00080.wav  \n",
            "  inflating: gtzan/Data/genres_original/blues/blues.00081.wav  \n",
            "  inflating: gtzan/Data/genres_original/blues/blues.00082.wav  \n",
            "  inflating: gtzan/Data/genres_original/blues/blues.00083.wav  \n",
            "  inflating: gtzan/Data/genres_original/blues/blues.00084.wav  \n",
            "  inflating: gtzan/Data/genres_original/blues/blues.00085.wav  \n",
            "  inflating: gtzan/Data/genres_original/blues/blues.00086.wav  \n",
            "  inflating: gtzan/Data/genres_original/blues/blues.00087.wav  \n",
            "  inflating: gtzan/Data/genres_original/blues/blues.00088.wav  \n",
            "  inflating: gtzan/Data/genres_original/blues/blues.00089.wav  \n",
            "  inflating: gtzan/Data/genres_original/blues/blues.00090.wav  \n",
            "  inflating: gtzan/Data/genres_original/blues/blues.00091.wav  \n",
            "  inflating: gtzan/Data/genres_original/blues/blues.00092.wav  \n",
            "  inflating: gtzan/Data/genres_original/blues/blues.00093.wav  \n",
            "  inflating: gtzan/Data/genres_original/blues/blues.00094.wav  \n",
            "  inflating: gtzan/Data/genres_original/blues/blues.00095.wav  \n",
            "  inflating: gtzan/Data/genres_original/blues/blues.00096.wav  \n",
            "  inflating: gtzan/Data/genres_original/blues/blues.00097.wav  \n",
            "  inflating: gtzan/Data/genres_original/blues/blues.00098.wav  \n",
            "  inflating: gtzan/Data/genres_original/blues/blues.00099.wav  \n",
            "  inflating: gtzan/Data/genres_original/classical/classical.00000.wav  \n",
            "  inflating: gtzan/Data/genres_original/classical/classical.00001.wav  \n",
            "  inflating: gtzan/Data/genres_original/classical/classical.00002.wav  \n",
            "  inflating: gtzan/Data/genres_original/classical/classical.00003.wav  \n",
            "  inflating: gtzan/Data/genres_original/classical/classical.00004.wav  \n",
            "  inflating: gtzan/Data/genres_original/classical/classical.00005.wav  \n",
            "  inflating: gtzan/Data/genres_original/classical/classical.00006.wav  \n",
            "  inflating: gtzan/Data/genres_original/classical/classical.00007.wav  \n",
            "  inflating: gtzan/Data/genres_original/classical/classical.00008.wav  \n",
            "  inflating: gtzan/Data/genres_original/classical/classical.00009.wav  \n",
            "  inflating: gtzan/Data/genres_original/classical/classical.00010.wav  \n",
            "  inflating: gtzan/Data/genres_original/classical/classical.00011.wav  \n",
            "  inflating: gtzan/Data/genres_original/classical/classical.00012.wav  \n",
            "  inflating: gtzan/Data/genres_original/classical/classical.00013.wav  \n",
            "  inflating: gtzan/Data/genres_original/classical/classical.00014.wav  \n",
            "  inflating: gtzan/Data/genres_original/classical/classical.00015.wav  \n",
            "  inflating: gtzan/Data/genres_original/classical/classical.00016.wav  \n",
            "  inflating: gtzan/Data/genres_original/classical/classical.00017.wav  \n",
            "  inflating: gtzan/Data/genres_original/classical/classical.00018.wav  \n",
            "  inflating: gtzan/Data/genres_original/classical/classical.00019.wav  \n",
            "  inflating: gtzan/Data/genres_original/classical/classical.00020.wav  \n",
            "  inflating: gtzan/Data/genres_original/classical/classical.00021.wav  \n",
            "  inflating: gtzan/Data/genres_original/classical/classical.00022.wav  \n",
            "  inflating: gtzan/Data/genres_original/classical/classical.00023.wav  \n",
            "  inflating: gtzan/Data/genres_original/classical/classical.00024.wav  \n",
            "  inflating: gtzan/Data/genres_original/classical/classical.00025.wav  \n",
            "  inflating: gtzan/Data/genres_original/classical/classical.00026.wav  \n",
            "  inflating: gtzan/Data/genres_original/classical/classical.00027.wav  \n",
            "  inflating: gtzan/Data/genres_original/classical/classical.00028.wav  \n",
            "  inflating: gtzan/Data/genres_original/classical/classical.00029.wav  \n",
            "  inflating: gtzan/Data/genres_original/classical/classical.00030.wav  \n",
            "  inflating: gtzan/Data/genres_original/classical/classical.00031.wav  \n",
            "  inflating: gtzan/Data/genres_original/classical/classical.00032.wav  \n",
            "  inflating: gtzan/Data/genres_original/classical/classical.00033.wav  \n",
            "  inflating: gtzan/Data/genres_original/classical/classical.00034.wav  \n",
            "  inflating: gtzan/Data/genres_original/classical/classical.00035.wav  \n",
            "  inflating: gtzan/Data/genres_original/classical/classical.00036.wav  \n",
            "  inflating: gtzan/Data/genres_original/classical/classical.00037.wav  \n",
            "  inflating: gtzan/Data/genres_original/classical/classical.00038.wav  \n",
            "  inflating: gtzan/Data/genres_original/classical/classical.00039.wav  \n",
            "  inflating: gtzan/Data/genres_original/classical/classical.00040.wav  \n",
            "  inflating: gtzan/Data/genres_original/classical/classical.00041.wav  \n",
            "  inflating: gtzan/Data/genres_original/classical/classical.00042.wav  \n",
            "  inflating: gtzan/Data/genres_original/classical/classical.00043.wav  \n",
            "  inflating: gtzan/Data/genres_original/classical/classical.00044.wav  \n",
            "  inflating: gtzan/Data/genres_original/classical/classical.00045.wav  \n",
            "  inflating: gtzan/Data/genres_original/classical/classical.00046.wav  \n",
            "  inflating: gtzan/Data/genres_original/classical/classical.00047.wav  \n",
            "  inflating: gtzan/Data/genres_original/classical/classical.00048.wav  \n",
            "  inflating: gtzan/Data/genres_original/classical/classical.00049.wav  \n",
            "  inflating: gtzan/Data/genres_original/classical/classical.00050.wav  \n",
            "  inflating: gtzan/Data/genres_original/classical/classical.00051.wav  \n",
            "  inflating: gtzan/Data/genres_original/classical/classical.00052.wav  \n",
            "  inflating: gtzan/Data/genres_original/classical/classical.00053.wav  \n",
            "  inflating: gtzan/Data/genres_original/classical/classical.00054.wav  \n",
            "  inflating: gtzan/Data/genres_original/classical/classical.00055.wav  \n",
            "  inflating: gtzan/Data/genres_original/classical/classical.00056.wav  \n",
            "  inflating: gtzan/Data/genres_original/classical/classical.00057.wav  \n",
            "  inflating: gtzan/Data/genres_original/classical/classical.00058.wav  \n",
            "  inflating: gtzan/Data/genres_original/classical/classical.00059.wav  \n",
            "  inflating: gtzan/Data/genres_original/classical/classical.00060.wav  \n",
            "  inflating: gtzan/Data/genres_original/classical/classical.00061.wav  \n",
            "  inflating: gtzan/Data/genres_original/classical/classical.00062.wav  \n",
            "  inflating: gtzan/Data/genres_original/classical/classical.00063.wav  \n",
            "  inflating: gtzan/Data/genres_original/classical/classical.00064.wav  \n",
            "  inflating: gtzan/Data/genres_original/classical/classical.00065.wav  \n",
            "  inflating: gtzan/Data/genres_original/classical/classical.00066.wav  \n",
            "  inflating: gtzan/Data/genres_original/classical/classical.00067.wav  \n",
            "  inflating: gtzan/Data/genres_original/classical/classical.00068.wav  \n",
            "  inflating: gtzan/Data/genres_original/classical/classical.00069.wav  \n",
            "  inflating: gtzan/Data/genres_original/classical/classical.00070.wav  \n",
            "  inflating: gtzan/Data/genres_original/classical/classical.00071.wav  \n",
            "  inflating: gtzan/Data/genres_original/classical/classical.00072.wav  \n",
            "  inflating: gtzan/Data/genres_original/classical/classical.00073.wav  \n",
            "  inflating: gtzan/Data/genres_original/classical/classical.00074.wav  \n",
            "  inflating: gtzan/Data/genres_original/classical/classical.00075.wav  \n",
            "  inflating: gtzan/Data/genres_original/classical/classical.00076.wav  \n",
            "  inflating: gtzan/Data/genres_original/classical/classical.00077.wav  \n",
            "  inflating: gtzan/Data/genres_original/classical/classical.00078.wav  \n",
            "  inflating: gtzan/Data/genres_original/classical/classical.00079.wav  \n",
            "  inflating: gtzan/Data/genres_original/classical/classical.00080.wav  \n",
            "  inflating: gtzan/Data/genres_original/classical/classical.00081.wav  \n",
            "  inflating: gtzan/Data/genres_original/classical/classical.00082.wav  \n",
            "  inflating: gtzan/Data/genres_original/classical/classical.00083.wav  \n",
            "  inflating: gtzan/Data/genres_original/classical/classical.00084.wav  \n",
            "  inflating: gtzan/Data/genres_original/classical/classical.00085.wav  \n",
            "  inflating: gtzan/Data/genres_original/classical/classical.00086.wav  \n",
            "  inflating: gtzan/Data/genres_original/classical/classical.00087.wav  \n",
            "  inflating: gtzan/Data/genres_original/classical/classical.00088.wav  \n",
            "  inflating: gtzan/Data/genres_original/classical/classical.00089.wav  \n",
            "  inflating: gtzan/Data/genres_original/classical/classical.00090.wav  \n",
            "  inflating: gtzan/Data/genres_original/classical/classical.00091.wav  \n",
            "  inflating: gtzan/Data/genres_original/classical/classical.00092.wav  \n",
            "  inflating: gtzan/Data/genres_original/classical/classical.00093.wav  \n",
            "  inflating: gtzan/Data/genres_original/classical/classical.00094.wav  \n",
            "  inflating: gtzan/Data/genres_original/classical/classical.00095.wav  \n",
            "  inflating: gtzan/Data/genres_original/classical/classical.00096.wav  \n",
            "  inflating: gtzan/Data/genres_original/classical/classical.00097.wav  \n",
            "  inflating: gtzan/Data/genres_original/classical/classical.00098.wav  \n",
            "  inflating: gtzan/Data/genres_original/classical/classical.00099.wav  \n",
            "  inflating: gtzan/Data/genres_original/country/country.00000.wav  \n",
            "  inflating: gtzan/Data/genres_original/country/country.00001.wav  \n",
            "  inflating: gtzan/Data/genres_original/country/country.00002.wav  \n",
            "  inflating: gtzan/Data/genres_original/country/country.00003.wav  \n",
            "  inflating: gtzan/Data/genres_original/country/country.00004.wav  \n",
            "  inflating: gtzan/Data/genres_original/country/country.00005.wav  \n",
            "  inflating: gtzan/Data/genres_original/country/country.00006.wav  \n",
            "  inflating: gtzan/Data/genres_original/country/country.00007.wav  \n",
            "  inflating: gtzan/Data/genres_original/country/country.00008.wav  \n",
            "  inflating: gtzan/Data/genres_original/country/country.00009.wav  \n",
            "  inflating: gtzan/Data/genres_original/country/country.00010.wav  \n",
            "  inflating: gtzan/Data/genres_original/country/country.00011.wav  \n",
            "  inflating: gtzan/Data/genres_original/country/country.00012.wav  \n",
            "  inflating: gtzan/Data/genres_original/country/country.00013.wav  \n",
            "  inflating: gtzan/Data/genres_original/country/country.00014.wav  \n",
            "  inflating: gtzan/Data/genres_original/country/country.00015.wav  \n",
            "  inflating: gtzan/Data/genres_original/country/country.00016.wav  \n",
            "  inflating: gtzan/Data/genres_original/country/country.00017.wav  \n",
            "  inflating: gtzan/Data/genres_original/country/country.00018.wav  \n",
            "  inflating: gtzan/Data/genres_original/country/country.00019.wav  \n",
            "  inflating: gtzan/Data/genres_original/country/country.00020.wav  \n",
            "  inflating: gtzan/Data/genres_original/country/country.00021.wav  \n",
            "  inflating: gtzan/Data/genres_original/country/country.00022.wav  \n",
            "  inflating: gtzan/Data/genres_original/country/country.00023.wav  \n",
            "  inflating: gtzan/Data/genres_original/country/country.00024.wav  \n",
            "  inflating: gtzan/Data/genres_original/country/country.00025.wav  \n",
            "  inflating: gtzan/Data/genres_original/country/country.00026.wav  \n",
            "  inflating: gtzan/Data/genres_original/country/country.00027.wav  \n",
            "  inflating: gtzan/Data/genres_original/country/country.00028.wav  \n",
            "  inflating: gtzan/Data/genres_original/country/country.00029.wav  \n",
            "  inflating: gtzan/Data/genres_original/country/country.00030.wav  \n",
            "  inflating: gtzan/Data/genres_original/country/country.00031.wav  \n",
            "  inflating: gtzan/Data/genres_original/country/country.00032.wav  \n",
            "  inflating: gtzan/Data/genres_original/country/country.00033.wav  \n",
            "  inflating: gtzan/Data/genres_original/country/country.00034.wav  \n",
            "  inflating: gtzan/Data/genres_original/country/country.00035.wav  \n",
            "  inflating: gtzan/Data/genres_original/country/country.00036.wav  \n",
            "  inflating: gtzan/Data/genres_original/country/country.00037.wav  \n",
            "  inflating: gtzan/Data/genres_original/country/country.00038.wav  \n",
            "  inflating: gtzan/Data/genres_original/country/country.00039.wav  \n",
            "  inflating: gtzan/Data/genres_original/country/country.00040.wav  \n",
            "  inflating: gtzan/Data/genres_original/country/country.00041.wav  \n",
            "  inflating: gtzan/Data/genres_original/country/country.00042.wav  \n",
            "  inflating: gtzan/Data/genres_original/country/country.00043.wav  \n",
            "  inflating: gtzan/Data/genres_original/country/country.00044.wav  \n",
            "  inflating: gtzan/Data/genres_original/country/country.00045.wav  \n",
            "  inflating: gtzan/Data/genres_original/country/country.00046.wav  \n",
            "  inflating: gtzan/Data/genres_original/country/country.00047.wav  \n",
            "  inflating: gtzan/Data/genres_original/country/country.00048.wav  \n",
            "  inflating: gtzan/Data/genres_original/country/country.00049.wav  \n",
            "  inflating: gtzan/Data/genres_original/country/country.00050.wav  \n",
            "  inflating: gtzan/Data/genres_original/country/country.00051.wav  \n",
            "  inflating: gtzan/Data/genres_original/country/country.00052.wav  \n",
            "  inflating: gtzan/Data/genres_original/country/country.00053.wav  \n",
            "  inflating: gtzan/Data/genres_original/country/country.00054.wav  \n",
            "  inflating: gtzan/Data/genres_original/country/country.00055.wav  \n",
            "  inflating: gtzan/Data/genres_original/country/country.00056.wav  \n",
            "  inflating: gtzan/Data/genres_original/country/country.00057.wav  \n",
            "  inflating: gtzan/Data/genres_original/country/country.00058.wav  \n",
            "  inflating: gtzan/Data/genres_original/country/country.00059.wav  \n",
            "  inflating: gtzan/Data/genres_original/country/country.00060.wav  \n",
            "  inflating: gtzan/Data/genres_original/country/country.00061.wav  \n",
            "  inflating: gtzan/Data/genres_original/country/country.00062.wav  \n",
            "  inflating: gtzan/Data/genres_original/country/country.00063.wav  \n",
            "  inflating: gtzan/Data/genres_original/country/country.00064.wav  \n",
            "  inflating: gtzan/Data/genres_original/country/country.00065.wav  \n",
            "  inflating: gtzan/Data/genres_original/country/country.00066.wav  \n",
            "  inflating: gtzan/Data/genres_original/country/country.00067.wav  \n",
            "  inflating: gtzan/Data/genres_original/country/country.00068.wav  \n",
            "  inflating: gtzan/Data/genres_original/country/country.00069.wav  \n",
            "  inflating: gtzan/Data/genres_original/country/country.00070.wav  \n",
            "  inflating: gtzan/Data/genres_original/country/country.00071.wav  \n",
            "  inflating: gtzan/Data/genres_original/country/country.00072.wav  \n",
            "  inflating: gtzan/Data/genres_original/country/country.00073.wav  \n",
            "  inflating: gtzan/Data/genres_original/country/country.00074.wav  \n",
            "  inflating: gtzan/Data/genres_original/country/country.00075.wav  \n",
            "  inflating: gtzan/Data/genres_original/country/country.00076.wav  \n",
            "  inflating: gtzan/Data/genres_original/country/country.00077.wav  \n",
            "  inflating: gtzan/Data/genres_original/country/country.00078.wav  \n",
            "  inflating: gtzan/Data/genres_original/country/country.00079.wav  \n",
            "  inflating: gtzan/Data/genres_original/country/country.00080.wav  \n",
            "  inflating: gtzan/Data/genres_original/country/country.00081.wav  \n",
            "  inflating: gtzan/Data/genres_original/country/country.00082.wav  \n",
            "  inflating: gtzan/Data/genres_original/country/country.00083.wav  \n",
            "  inflating: gtzan/Data/genres_original/country/country.00084.wav  \n",
            "  inflating: gtzan/Data/genres_original/country/country.00085.wav  \n",
            "  inflating: gtzan/Data/genres_original/country/country.00086.wav  \n",
            "  inflating: gtzan/Data/genres_original/country/country.00087.wav  \n",
            "  inflating: gtzan/Data/genres_original/country/country.00088.wav  \n",
            "  inflating: gtzan/Data/genres_original/country/country.00089.wav  \n",
            "  inflating: gtzan/Data/genres_original/country/country.00090.wav  \n",
            "  inflating: gtzan/Data/genres_original/country/country.00091.wav  \n",
            "  inflating: gtzan/Data/genres_original/country/country.00092.wav  \n",
            "  inflating: gtzan/Data/genres_original/country/country.00093.wav  \n",
            "  inflating: gtzan/Data/genres_original/country/country.00094.wav  \n",
            "  inflating: gtzan/Data/genres_original/country/country.00095.wav  \n",
            "  inflating: gtzan/Data/genres_original/country/country.00096.wav  \n",
            "  inflating: gtzan/Data/genres_original/country/country.00097.wav  \n",
            "  inflating: gtzan/Data/genres_original/country/country.00098.wav  \n",
            "  inflating: gtzan/Data/genres_original/country/country.00099.wav  \n",
            "  inflating: gtzan/Data/genres_original/disco/disco.00000.wav  \n",
            "  inflating: gtzan/Data/genres_original/disco/disco.00001.wav  \n",
            "  inflating: gtzan/Data/genres_original/disco/disco.00002.wav  \n",
            "  inflating: gtzan/Data/genres_original/disco/disco.00003.wav  \n",
            "  inflating: gtzan/Data/genres_original/disco/disco.00004.wav  \n",
            "  inflating: gtzan/Data/genres_original/disco/disco.00005.wav  \n",
            "  inflating: gtzan/Data/genres_original/disco/disco.00006.wav  \n",
            "  inflating: gtzan/Data/genres_original/disco/disco.00007.wav  \n",
            "  inflating: gtzan/Data/genres_original/disco/disco.00008.wav  \n",
            "  inflating: gtzan/Data/genres_original/disco/disco.00009.wav  \n",
            "  inflating: gtzan/Data/genres_original/disco/disco.00010.wav  \n",
            "  inflating: gtzan/Data/genres_original/disco/disco.00011.wav  \n",
            "  inflating: gtzan/Data/genres_original/disco/disco.00012.wav  \n",
            "  inflating: gtzan/Data/genres_original/disco/disco.00013.wav  \n",
            "  inflating: gtzan/Data/genres_original/disco/disco.00014.wav  \n",
            "  inflating: gtzan/Data/genres_original/disco/disco.00015.wav  \n",
            "  inflating: gtzan/Data/genres_original/disco/disco.00016.wav  \n",
            "  inflating: gtzan/Data/genres_original/disco/disco.00017.wav  \n",
            "  inflating: gtzan/Data/genres_original/disco/disco.00018.wav  \n",
            "  inflating: gtzan/Data/genres_original/disco/disco.00019.wav  \n",
            "  inflating: gtzan/Data/genres_original/disco/disco.00020.wav  \n",
            "  inflating: gtzan/Data/genres_original/disco/disco.00021.wav  \n",
            "  inflating: gtzan/Data/genres_original/disco/disco.00022.wav  \n",
            "  inflating: gtzan/Data/genres_original/disco/disco.00023.wav  \n",
            "  inflating: gtzan/Data/genres_original/disco/disco.00024.wav  \n",
            "  inflating: gtzan/Data/genres_original/disco/disco.00025.wav  \n",
            "  inflating: gtzan/Data/genres_original/disco/disco.00026.wav  \n",
            "  inflating: gtzan/Data/genres_original/disco/disco.00027.wav  \n",
            "  inflating: gtzan/Data/genres_original/disco/disco.00028.wav  \n",
            "  inflating: gtzan/Data/genres_original/disco/disco.00029.wav  \n",
            "  inflating: gtzan/Data/genres_original/disco/disco.00030.wav  \n",
            "  inflating: gtzan/Data/genres_original/disco/disco.00031.wav  \n",
            "  inflating: gtzan/Data/genres_original/disco/disco.00032.wav  \n",
            "  inflating: gtzan/Data/genres_original/disco/disco.00033.wav  \n",
            "  inflating: gtzan/Data/genres_original/disco/disco.00034.wav  \n",
            "  inflating: gtzan/Data/genres_original/disco/disco.00035.wav  \n",
            "  inflating: gtzan/Data/genres_original/disco/disco.00036.wav  \n",
            "  inflating: gtzan/Data/genres_original/disco/disco.00037.wav  \n",
            "  inflating: gtzan/Data/genres_original/disco/disco.00038.wav  \n",
            "  inflating: gtzan/Data/genres_original/disco/disco.00039.wav  \n",
            "  inflating: gtzan/Data/genres_original/disco/disco.00040.wav  \n",
            "  inflating: gtzan/Data/genres_original/disco/disco.00041.wav  \n",
            "  inflating: gtzan/Data/genres_original/disco/disco.00042.wav  \n",
            "  inflating: gtzan/Data/genres_original/disco/disco.00043.wav  \n",
            "  inflating: gtzan/Data/genres_original/disco/disco.00044.wav  \n",
            "  inflating: gtzan/Data/genres_original/disco/disco.00045.wav  \n",
            "  inflating: gtzan/Data/genres_original/disco/disco.00046.wav  \n",
            "  inflating: gtzan/Data/genres_original/disco/disco.00047.wav  \n",
            "  inflating: gtzan/Data/genres_original/disco/disco.00048.wav  \n",
            "  inflating: gtzan/Data/genres_original/disco/disco.00049.wav  \n",
            "  inflating: gtzan/Data/genres_original/disco/disco.00050.wav  \n",
            "  inflating: gtzan/Data/genres_original/disco/disco.00051.wav  \n",
            "  inflating: gtzan/Data/genres_original/disco/disco.00052.wav  \n",
            "  inflating: gtzan/Data/genres_original/disco/disco.00053.wav  \n",
            "  inflating: gtzan/Data/genres_original/disco/disco.00054.wav  \n",
            "  inflating: gtzan/Data/genres_original/disco/disco.00055.wav  \n",
            "  inflating: gtzan/Data/genres_original/disco/disco.00056.wav  \n",
            "  inflating: gtzan/Data/genres_original/disco/disco.00057.wav  \n",
            "  inflating: gtzan/Data/genres_original/disco/disco.00058.wav  \n",
            "  inflating: gtzan/Data/genres_original/disco/disco.00059.wav  \n",
            "  inflating: gtzan/Data/genres_original/disco/disco.00060.wav  \n",
            "  inflating: gtzan/Data/genres_original/disco/disco.00061.wav  \n",
            "  inflating: gtzan/Data/genres_original/disco/disco.00062.wav  \n",
            "  inflating: gtzan/Data/genres_original/disco/disco.00063.wav  \n",
            "  inflating: gtzan/Data/genres_original/disco/disco.00064.wav  \n",
            "  inflating: gtzan/Data/genres_original/disco/disco.00065.wav  \n",
            "  inflating: gtzan/Data/genres_original/disco/disco.00066.wav  \n",
            "  inflating: gtzan/Data/genres_original/disco/disco.00067.wav  \n",
            "  inflating: gtzan/Data/genres_original/disco/disco.00068.wav  \n",
            "  inflating: gtzan/Data/genres_original/disco/disco.00069.wav  \n",
            "  inflating: gtzan/Data/genres_original/disco/disco.00070.wav  \n",
            "  inflating: gtzan/Data/genres_original/disco/disco.00071.wav  \n",
            "  inflating: gtzan/Data/genres_original/disco/disco.00072.wav  \n",
            "  inflating: gtzan/Data/genres_original/disco/disco.00073.wav  \n",
            "  inflating: gtzan/Data/genres_original/disco/disco.00074.wav  \n",
            "  inflating: gtzan/Data/genres_original/disco/disco.00075.wav  \n",
            "  inflating: gtzan/Data/genres_original/disco/disco.00076.wav  \n",
            "  inflating: gtzan/Data/genres_original/disco/disco.00077.wav  \n",
            "  inflating: gtzan/Data/genres_original/disco/disco.00078.wav  \n",
            "  inflating: gtzan/Data/genres_original/disco/disco.00079.wav  \n",
            "  inflating: gtzan/Data/genres_original/disco/disco.00080.wav  \n",
            "  inflating: gtzan/Data/genres_original/disco/disco.00081.wav  \n",
            "  inflating: gtzan/Data/genres_original/disco/disco.00082.wav  \n",
            "  inflating: gtzan/Data/genres_original/disco/disco.00083.wav  \n",
            "  inflating: gtzan/Data/genres_original/disco/disco.00084.wav  \n",
            "  inflating: gtzan/Data/genres_original/disco/disco.00085.wav  \n",
            "  inflating: gtzan/Data/genres_original/disco/disco.00086.wav  \n",
            "  inflating: gtzan/Data/genres_original/disco/disco.00087.wav  \n",
            "  inflating: gtzan/Data/genres_original/disco/disco.00088.wav  \n",
            "  inflating: gtzan/Data/genres_original/disco/disco.00089.wav  \n",
            "  inflating: gtzan/Data/genres_original/disco/disco.00090.wav  \n",
            "  inflating: gtzan/Data/genres_original/disco/disco.00091.wav  \n",
            "  inflating: gtzan/Data/genres_original/disco/disco.00092.wav  \n",
            "  inflating: gtzan/Data/genres_original/disco/disco.00093.wav  \n",
            "  inflating: gtzan/Data/genres_original/disco/disco.00094.wav  \n",
            "  inflating: gtzan/Data/genres_original/disco/disco.00095.wav  \n",
            "  inflating: gtzan/Data/genres_original/disco/disco.00096.wav  \n",
            "  inflating: gtzan/Data/genres_original/disco/disco.00097.wav  \n",
            "  inflating: gtzan/Data/genres_original/disco/disco.00098.wav  \n",
            "  inflating: gtzan/Data/genres_original/disco/disco.00099.wav  \n",
            "  inflating: gtzan/Data/genres_original/hiphop/hiphop.00000.wav  \n",
            "  inflating: gtzan/Data/genres_original/hiphop/hiphop.00001.wav  \n",
            "  inflating: gtzan/Data/genres_original/hiphop/hiphop.00002.wav  \n",
            "  inflating: gtzan/Data/genres_original/hiphop/hiphop.00003.wav  \n",
            "  inflating: gtzan/Data/genres_original/hiphop/hiphop.00004.wav  \n",
            "  inflating: gtzan/Data/genres_original/hiphop/hiphop.00005.wav  \n",
            "  inflating: gtzan/Data/genres_original/hiphop/hiphop.00006.wav  \n",
            "  inflating: gtzan/Data/genres_original/hiphop/hiphop.00007.wav  \n",
            "  inflating: gtzan/Data/genres_original/hiphop/hiphop.00008.wav  \n",
            "  inflating: gtzan/Data/genres_original/hiphop/hiphop.00009.wav  \n",
            "  inflating: gtzan/Data/genres_original/hiphop/hiphop.00010.wav  \n",
            "  inflating: gtzan/Data/genres_original/hiphop/hiphop.00011.wav  \n",
            "  inflating: gtzan/Data/genres_original/hiphop/hiphop.00012.wav  \n",
            "  inflating: gtzan/Data/genres_original/hiphop/hiphop.00013.wav  \n",
            "  inflating: gtzan/Data/genres_original/hiphop/hiphop.00014.wav  \n",
            "  inflating: gtzan/Data/genres_original/hiphop/hiphop.00015.wav  \n",
            "  inflating: gtzan/Data/genres_original/hiphop/hiphop.00016.wav  \n",
            "  inflating: gtzan/Data/genres_original/hiphop/hiphop.00017.wav  \n",
            "  inflating: gtzan/Data/genres_original/hiphop/hiphop.00018.wav  \n",
            "  inflating: gtzan/Data/genres_original/hiphop/hiphop.00019.wav  \n",
            "  inflating: gtzan/Data/genres_original/hiphop/hiphop.00020.wav  \n",
            "  inflating: gtzan/Data/genres_original/hiphop/hiphop.00021.wav  \n",
            "  inflating: gtzan/Data/genres_original/hiphop/hiphop.00022.wav  \n",
            "  inflating: gtzan/Data/genres_original/hiphop/hiphop.00023.wav  \n",
            "  inflating: gtzan/Data/genres_original/hiphop/hiphop.00024.wav  \n",
            "  inflating: gtzan/Data/genres_original/hiphop/hiphop.00025.wav  \n",
            "  inflating: gtzan/Data/genres_original/hiphop/hiphop.00026.wav  \n",
            "  inflating: gtzan/Data/genres_original/hiphop/hiphop.00027.wav  \n",
            "  inflating: gtzan/Data/genres_original/hiphop/hiphop.00028.wav  \n",
            "  inflating: gtzan/Data/genres_original/hiphop/hiphop.00029.wav  \n",
            "  inflating: gtzan/Data/genres_original/hiphop/hiphop.00030.wav  \n",
            "  inflating: gtzan/Data/genres_original/hiphop/hiphop.00031.wav  \n",
            "  inflating: gtzan/Data/genres_original/hiphop/hiphop.00032.wav  \n",
            "  inflating: gtzan/Data/genres_original/hiphop/hiphop.00033.wav  \n",
            "  inflating: gtzan/Data/genres_original/hiphop/hiphop.00034.wav  \n",
            "  inflating: gtzan/Data/genres_original/hiphop/hiphop.00035.wav  \n",
            "  inflating: gtzan/Data/genres_original/hiphop/hiphop.00036.wav  \n",
            "  inflating: gtzan/Data/genres_original/hiphop/hiphop.00037.wav  \n",
            "  inflating: gtzan/Data/genres_original/hiphop/hiphop.00038.wav  \n",
            "  inflating: gtzan/Data/genres_original/hiphop/hiphop.00039.wav  \n",
            "  inflating: gtzan/Data/genres_original/hiphop/hiphop.00040.wav  \n",
            "  inflating: gtzan/Data/genres_original/hiphop/hiphop.00041.wav  \n",
            "  inflating: gtzan/Data/genres_original/hiphop/hiphop.00042.wav  \n",
            "  inflating: gtzan/Data/genres_original/hiphop/hiphop.00043.wav  \n",
            "  inflating: gtzan/Data/genres_original/hiphop/hiphop.00044.wav  \n",
            "  inflating: gtzan/Data/genres_original/hiphop/hiphop.00045.wav  \n",
            "  inflating: gtzan/Data/genres_original/hiphop/hiphop.00046.wav  \n",
            "  inflating: gtzan/Data/genres_original/hiphop/hiphop.00047.wav  \n",
            "  inflating: gtzan/Data/genres_original/hiphop/hiphop.00048.wav  \n",
            "  inflating: gtzan/Data/genres_original/hiphop/hiphop.00049.wav  \n",
            "  inflating: gtzan/Data/genres_original/hiphop/hiphop.00050.wav  \n",
            "  inflating: gtzan/Data/genres_original/hiphop/hiphop.00051.wav  \n",
            "  inflating: gtzan/Data/genres_original/hiphop/hiphop.00052.wav  \n",
            "  inflating: gtzan/Data/genres_original/hiphop/hiphop.00053.wav  \n",
            "  inflating: gtzan/Data/genres_original/hiphop/hiphop.00054.wav  \n",
            "  inflating: gtzan/Data/genres_original/hiphop/hiphop.00055.wav  \n",
            "  inflating: gtzan/Data/genres_original/hiphop/hiphop.00056.wav  \n",
            "  inflating: gtzan/Data/genres_original/hiphop/hiphop.00057.wav  \n",
            "  inflating: gtzan/Data/genres_original/hiphop/hiphop.00058.wav  \n",
            "  inflating: gtzan/Data/genres_original/hiphop/hiphop.00059.wav  \n",
            "  inflating: gtzan/Data/genres_original/hiphop/hiphop.00060.wav  \n",
            "  inflating: gtzan/Data/genres_original/hiphop/hiphop.00061.wav  \n",
            "  inflating: gtzan/Data/genres_original/hiphop/hiphop.00062.wav  \n",
            "  inflating: gtzan/Data/genres_original/hiphop/hiphop.00063.wav  \n",
            "  inflating: gtzan/Data/genres_original/hiphop/hiphop.00064.wav  \n",
            "  inflating: gtzan/Data/genres_original/hiphop/hiphop.00065.wav  \n",
            "  inflating: gtzan/Data/genres_original/hiphop/hiphop.00066.wav  \n",
            "  inflating: gtzan/Data/genres_original/hiphop/hiphop.00067.wav  \n",
            "  inflating: gtzan/Data/genres_original/hiphop/hiphop.00068.wav  \n",
            "  inflating: gtzan/Data/genres_original/hiphop/hiphop.00069.wav  \n",
            "  inflating: gtzan/Data/genres_original/hiphop/hiphop.00070.wav  \n",
            "  inflating: gtzan/Data/genres_original/hiphop/hiphop.00071.wav  \n",
            "  inflating: gtzan/Data/genres_original/hiphop/hiphop.00072.wav  \n",
            "  inflating: gtzan/Data/genres_original/hiphop/hiphop.00073.wav  \n",
            "  inflating: gtzan/Data/genres_original/hiphop/hiphop.00074.wav  \n",
            "  inflating: gtzan/Data/genres_original/hiphop/hiphop.00075.wav  \n",
            "  inflating: gtzan/Data/genres_original/hiphop/hiphop.00076.wav  \n",
            "  inflating: gtzan/Data/genres_original/hiphop/hiphop.00077.wav  \n",
            "  inflating: gtzan/Data/genres_original/hiphop/hiphop.00078.wav  \n",
            "  inflating: gtzan/Data/genres_original/hiphop/hiphop.00079.wav  \n",
            "  inflating: gtzan/Data/genres_original/hiphop/hiphop.00080.wav  \n",
            "  inflating: gtzan/Data/genres_original/hiphop/hiphop.00081.wav  \n",
            "  inflating: gtzan/Data/genres_original/hiphop/hiphop.00082.wav  \n",
            "  inflating: gtzan/Data/genres_original/hiphop/hiphop.00083.wav  \n",
            "  inflating: gtzan/Data/genres_original/hiphop/hiphop.00084.wav  \n",
            "  inflating: gtzan/Data/genres_original/hiphop/hiphop.00085.wav  \n",
            "  inflating: gtzan/Data/genres_original/hiphop/hiphop.00086.wav  \n",
            "  inflating: gtzan/Data/genres_original/hiphop/hiphop.00087.wav  \n",
            "  inflating: gtzan/Data/genres_original/hiphop/hiphop.00088.wav  \n",
            "  inflating: gtzan/Data/genres_original/hiphop/hiphop.00089.wav  \n",
            "  inflating: gtzan/Data/genres_original/hiphop/hiphop.00090.wav  \n",
            "  inflating: gtzan/Data/genres_original/hiphop/hiphop.00091.wav  \n",
            "  inflating: gtzan/Data/genres_original/hiphop/hiphop.00092.wav  \n",
            "  inflating: gtzan/Data/genres_original/hiphop/hiphop.00093.wav  \n",
            "  inflating: gtzan/Data/genres_original/hiphop/hiphop.00094.wav  \n",
            "  inflating: gtzan/Data/genres_original/hiphop/hiphop.00095.wav  \n",
            "  inflating: gtzan/Data/genres_original/hiphop/hiphop.00096.wav  \n",
            "  inflating: gtzan/Data/genres_original/hiphop/hiphop.00097.wav  \n",
            "  inflating: gtzan/Data/genres_original/hiphop/hiphop.00098.wav  \n",
            "  inflating: gtzan/Data/genres_original/hiphop/hiphop.00099.wav  \n",
            "  inflating: gtzan/Data/genres_original/jazz/jazz.00000.wav  \n",
            "  inflating: gtzan/Data/genres_original/jazz/jazz.00001.wav  \n",
            "  inflating: gtzan/Data/genres_original/jazz/jazz.00002.wav  \n",
            "  inflating: gtzan/Data/genres_original/jazz/jazz.00003.wav  \n",
            "  inflating: gtzan/Data/genres_original/jazz/jazz.00004.wav  \n",
            "  inflating: gtzan/Data/genres_original/jazz/jazz.00005.wav  \n",
            "  inflating: gtzan/Data/genres_original/jazz/jazz.00006.wav  \n",
            "  inflating: gtzan/Data/genres_original/jazz/jazz.00007.wav  \n",
            "  inflating: gtzan/Data/genres_original/jazz/jazz.00008.wav  \n",
            "  inflating: gtzan/Data/genres_original/jazz/jazz.00009.wav  \n",
            "  inflating: gtzan/Data/genres_original/jazz/jazz.00010.wav  \n",
            "  inflating: gtzan/Data/genres_original/jazz/jazz.00011.wav  \n",
            "  inflating: gtzan/Data/genres_original/jazz/jazz.00012.wav  \n",
            "  inflating: gtzan/Data/genres_original/jazz/jazz.00013.wav  \n",
            "  inflating: gtzan/Data/genres_original/jazz/jazz.00014.wav  \n",
            "  inflating: gtzan/Data/genres_original/jazz/jazz.00015.wav  \n",
            "  inflating: gtzan/Data/genres_original/jazz/jazz.00016.wav  \n",
            "  inflating: gtzan/Data/genres_original/jazz/jazz.00017.wav  \n",
            "  inflating: gtzan/Data/genres_original/jazz/jazz.00018.wav  \n",
            "  inflating: gtzan/Data/genres_original/jazz/jazz.00019.wav  \n",
            "  inflating: gtzan/Data/genres_original/jazz/jazz.00020.wav  \n",
            "  inflating: gtzan/Data/genres_original/jazz/jazz.00021.wav  \n",
            "  inflating: gtzan/Data/genres_original/jazz/jazz.00022.wav  \n",
            "  inflating: gtzan/Data/genres_original/jazz/jazz.00023.wav  \n",
            "  inflating: gtzan/Data/genres_original/jazz/jazz.00024.wav  \n",
            "  inflating: gtzan/Data/genres_original/jazz/jazz.00025.wav  \n",
            "  inflating: gtzan/Data/genres_original/jazz/jazz.00026.wav  \n",
            "  inflating: gtzan/Data/genres_original/jazz/jazz.00027.wav  \n",
            "  inflating: gtzan/Data/genres_original/jazz/jazz.00028.wav  \n",
            "  inflating: gtzan/Data/genres_original/jazz/jazz.00029.wav  \n",
            "  inflating: gtzan/Data/genres_original/jazz/jazz.00030.wav  \n",
            "  inflating: gtzan/Data/genres_original/jazz/jazz.00031.wav  \n",
            "  inflating: gtzan/Data/genres_original/jazz/jazz.00032.wav  \n",
            "  inflating: gtzan/Data/genres_original/jazz/jazz.00033.wav  \n",
            "  inflating: gtzan/Data/genres_original/jazz/jazz.00034.wav  \n",
            "  inflating: gtzan/Data/genres_original/jazz/jazz.00035.wav  \n",
            "  inflating: gtzan/Data/genres_original/jazz/jazz.00036.wav  \n",
            "  inflating: gtzan/Data/genres_original/jazz/jazz.00037.wav  \n",
            "  inflating: gtzan/Data/genres_original/jazz/jazz.00038.wav  \n",
            "  inflating: gtzan/Data/genres_original/jazz/jazz.00039.wav  \n",
            "  inflating: gtzan/Data/genres_original/jazz/jazz.00040.wav  \n",
            "  inflating: gtzan/Data/genres_original/jazz/jazz.00041.wav  \n",
            "  inflating: gtzan/Data/genres_original/jazz/jazz.00042.wav  \n",
            "  inflating: gtzan/Data/genres_original/jazz/jazz.00043.wav  \n",
            "  inflating: gtzan/Data/genres_original/jazz/jazz.00044.wav  \n",
            "  inflating: gtzan/Data/genres_original/jazz/jazz.00045.wav  \n",
            "  inflating: gtzan/Data/genres_original/jazz/jazz.00046.wav  \n",
            "  inflating: gtzan/Data/genres_original/jazz/jazz.00047.wav  \n",
            "  inflating: gtzan/Data/genres_original/jazz/jazz.00048.wav  \n",
            "  inflating: gtzan/Data/genres_original/jazz/jazz.00049.wav  \n",
            "  inflating: gtzan/Data/genres_original/jazz/jazz.00050.wav  \n",
            "  inflating: gtzan/Data/genres_original/jazz/jazz.00051.wav  \n",
            "  inflating: gtzan/Data/genres_original/jazz/jazz.00052.wav  \n",
            "  inflating: gtzan/Data/genres_original/jazz/jazz.00053.wav  \n",
            "  inflating: gtzan/Data/genres_original/jazz/jazz.00054.wav  \n",
            "  inflating: gtzan/Data/genres_original/jazz/jazz.00055.wav  \n",
            "  inflating: gtzan/Data/genres_original/jazz/jazz.00056.wav  \n",
            "  inflating: gtzan/Data/genres_original/jazz/jazz.00057.wav  \n",
            "  inflating: gtzan/Data/genres_original/jazz/jazz.00058.wav  \n",
            "  inflating: gtzan/Data/genres_original/jazz/jazz.00059.wav  \n",
            "  inflating: gtzan/Data/genres_original/jazz/jazz.00060.wav  \n",
            "  inflating: gtzan/Data/genres_original/jazz/jazz.00061.wav  \n",
            "  inflating: gtzan/Data/genres_original/jazz/jazz.00062.wav  \n",
            "  inflating: gtzan/Data/genres_original/jazz/jazz.00063.wav  \n",
            "  inflating: gtzan/Data/genres_original/jazz/jazz.00064.wav  \n",
            "  inflating: gtzan/Data/genres_original/jazz/jazz.00065.wav  \n",
            "  inflating: gtzan/Data/genres_original/jazz/jazz.00066.wav  \n",
            "  inflating: gtzan/Data/genres_original/jazz/jazz.00067.wav  \n",
            "  inflating: gtzan/Data/genres_original/jazz/jazz.00068.wav  \n",
            "  inflating: gtzan/Data/genres_original/jazz/jazz.00069.wav  \n",
            "  inflating: gtzan/Data/genres_original/jazz/jazz.00070.wav  \n",
            "  inflating: gtzan/Data/genres_original/jazz/jazz.00071.wav  \n",
            "  inflating: gtzan/Data/genres_original/jazz/jazz.00072.wav  \n",
            "  inflating: gtzan/Data/genres_original/jazz/jazz.00073.wav  \n",
            "  inflating: gtzan/Data/genres_original/jazz/jazz.00074.wav  \n",
            "  inflating: gtzan/Data/genres_original/jazz/jazz.00075.wav  \n",
            "  inflating: gtzan/Data/genres_original/jazz/jazz.00076.wav  \n",
            "  inflating: gtzan/Data/genres_original/jazz/jazz.00077.wav  \n",
            "  inflating: gtzan/Data/genres_original/jazz/jazz.00078.wav  \n",
            "  inflating: gtzan/Data/genres_original/jazz/jazz.00079.wav  \n",
            "  inflating: gtzan/Data/genres_original/jazz/jazz.00080.wav  \n",
            "  inflating: gtzan/Data/genres_original/jazz/jazz.00081.wav  \n",
            "  inflating: gtzan/Data/genres_original/jazz/jazz.00082.wav  \n",
            "  inflating: gtzan/Data/genres_original/jazz/jazz.00083.wav  \n",
            "  inflating: gtzan/Data/genres_original/jazz/jazz.00084.wav  \n",
            "  inflating: gtzan/Data/genres_original/jazz/jazz.00085.wav  \n",
            "  inflating: gtzan/Data/genres_original/jazz/jazz.00086.wav  \n",
            "  inflating: gtzan/Data/genres_original/jazz/jazz.00087.wav  \n",
            "  inflating: gtzan/Data/genres_original/jazz/jazz.00088.wav  \n",
            "  inflating: gtzan/Data/genres_original/jazz/jazz.00089.wav  \n",
            "  inflating: gtzan/Data/genres_original/jazz/jazz.00090.wav  \n",
            "  inflating: gtzan/Data/genres_original/jazz/jazz.00091.wav  \n",
            "  inflating: gtzan/Data/genres_original/jazz/jazz.00092.wav  \n",
            "  inflating: gtzan/Data/genres_original/jazz/jazz.00093.wav  \n",
            "  inflating: gtzan/Data/genres_original/jazz/jazz.00094.wav  \n",
            "  inflating: gtzan/Data/genres_original/jazz/jazz.00095.wav  \n",
            "  inflating: gtzan/Data/genres_original/jazz/jazz.00096.wav  \n",
            "  inflating: gtzan/Data/genres_original/jazz/jazz.00097.wav  \n",
            "  inflating: gtzan/Data/genres_original/jazz/jazz.00098.wav  \n",
            "  inflating: gtzan/Data/genres_original/jazz/jazz.00099.wav  \n",
            "  inflating: gtzan/Data/genres_original/metal/metal.00000.wav  \n",
            "  inflating: gtzan/Data/genres_original/metal/metal.00001.wav  \n",
            "  inflating: gtzan/Data/genres_original/metal/metal.00002.wav  \n",
            "  inflating: gtzan/Data/genres_original/metal/metal.00003.wav  \n",
            "  inflating: gtzan/Data/genres_original/metal/metal.00004.wav  \n",
            "  inflating: gtzan/Data/genres_original/metal/metal.00005.wav  \n",
            "  inflating: gtzan/Data/genres_original/metal/metal.00006.wav  \n",
            "  inflating: gtzan/Data/genres_original/metal/metal.00007.wav  \n",
            "  inflating: gtzan/Data/genres_original/metal/metal.00008.wav  \n",
            "  inflating: gtzan/Data/genres_original/metal/metal.00009.wav  \n",
            "  inflating: gtzan/Data/genres_original/metal/metal.00010.wav  \n",
            "  inflating: gtzan/Data/genres_original/metal/metal.00011.wav  \n",
            "  inflating: gtzan/Data/genres_original/metal/metal.00012.wav  \n",
            "  inflating: gtzan/Data/genres_original/metal/metal.00013.wav  \n",
            "  inflating: gtzan/Data/genres_original/metal/metal.00014.wav  \n",
            "  inflating: gtzan/Data/genres_original/metal/metal.00015.wav  \n",
            "  inflating: gtzan/Data/genres_original/metal/metal.00016.wav  \n",
            "  inflating: gtzan/Data/genres_original/metal/metal.00017.wav  \n",
            "  inflating: gtzan/Data/genres_original/metal/metal.00018.wav  \n",
            "  inflating: gtzan/Data/genres_original/metal/metal.00019.wav  \n",
            "  inflating: gtzan/Data/genres_original/metal/metal.00020.wav  \n",
            "  inflating: gtzan/Data/genres_original/metal/metal.00021.wav  \n",
            "  inflating: gtzan/Data/genres_original/metal/metal.00022.wav  \n",
            "  inflating: gtzan/Data/genres_original/metal/metal.00023.wav  \n",
            "  inflating: gtzan/Data/genres_original/metal/metal.00024.wav  \n",
            "  inflating: gtzan/Data/genres_original/metal/metal.00025.wav  \n",
            "  inflating: gtzan/Data/genres_original/metal/metal.00026.wav  \n",
            "  inflating: gtzan/Data/genres_original/metal/metal.00027.wav  \n",
            "  inflating: gtzan/Data/genres_original/metal/metal.00028.wav  \n",
            "  inflating: gtzan/Data/genres_original/metal/metal.00029.wav  \n",
            "  inflating: gtzan/Data/genres_original/metal/metal.00030.wav  \n",
            "  inflating: gtzan/Data/genres_original/metal/metal.00031.wav  \n",
            "  inflating: gtzan/Data/genres_original/metal/metal.00032.wav  \n",
            "  inflating: gtzan/Data/genres_original/metal/metal.00033.wav  \n",
            "  inflating: gtzan/Data/genres_original/metal/metal.00034.wav  \n",
            "  inflating: gtzan/Data/genres_original/metal/metal.00035.wav  \n",
            "  inflating: gtzan/Data/genres_original/metal/metal.00036.wav  \n",
            "  inflating: gtzan/Data/genres_original/metal/metal.00037.wav  \n",
            "  inflating: gtzan/Data/genres_original/metal/metal.00038.wav  \n",
            "  inflating: gtzan/Data/genres_original/metal/metal.00039.wav  \n",
            "  inflating: gtzan/Data/genres_original/metal/metal.00040.wav  \n",
            "  inflating: gtzan/Data/genres_original/metal/metal.00041.wav  \n",
            "  inflating: gtzan/Data/genres_original/metal/metal.00042.wav  \n",
            "  inflating: gtzan/Data/genres_original/metal/metal.00043.wav  \n",
            "  inflating: gtzan/Data/genres_original/metal/metal.00044.wav  \n",
            "  inflating: gtzan/Data/genres_original/metal/metal.00045.wav  \n",
            "  inflating: gtzan/Data/genres_original/metal/metal.00046.wav  \n",
            "  inflating: gtzan/Data/genres_original/metal/metal.00047.wav  \n",
            "  inflating: gtzan/Data/genres_original/metal/metal.00048.wav  \n",
            "  inflating: gtzan/Data/genres_original/metal/metal.00049.wav  \n",
            "  inflating: gtzan/Data/genres_original/metal/metal.00050.wav  \n",
            "  inflating: gtzan/Data/genres_original/metal/metal.00051.wav  \n",
            "  inflating: gtzan/Data/genres_original/metal/metal.00052.wav  \n",
            "  inflating: gtzan/Data/genres_original/metal/metal.00053.wav  \n",
            "  inflating: gtzan/Data/genres_original/metal/metal.00054.wav  \n",
            "  inflating: gtzan/Data/genres_original/metal/metal.00055.wav  \n",
            "  inflating: gtzan/Data/genres_original/metal/metal.00056.wav  \n",
            "  inflating: gtzan/Data/genres_original/metal/metal.00057.wav  \n",
            "  inflating: gtzan/Data/genres_original/metal/metal.00058.wav  \n",
            "  inflating: gtzan/Data/genres_original/metal/metal.00059.wav  \n",
            "  inflating: gtzan/Data/genres_original/metal/metal.00060.wav  \n",
            "  inflating: gtzan/Data/genres_original/metal/metal.00061.wav  \n",
            "  inflating: gtzan/Data/genres_original/metal/metal.00062.wav  \n",
            "  inflating: gtzan/Data/genres_original/metal/metal.00063.wav  \n",
            "  inflating: gtzan/Data/genres_original/metal/metal.00064.wav  \n",
            "  inflating: gtzan/Data/genres_original/metal/metal.00065.wav  \n",
            "  inflating: gtzan/Data/genres_original/metal/metal.00066.wav  \n",
            "  inflating: gtzan/Data/genres_original/metal/metal.00067.wav  \n",
            "  inflating: gtzan/Data/genres_original/metal/metal.00068.wav  \n",
            "  inflating: gtzan/Data/genres_original/metal/metal.00069.wav  \n",
            "  inflating: gtzan/Data/genres_original/metal/metal.00070.wav  \n",
            "  inflating: gtzan/Data/genres_original/metal/metal.00071.wav  \n",
            "  inflating: gtzan/Data/genres_original/metal/metal.00072.wav  \n",
            "  inflating: gtzan/Data/genres_original/metal/metal.00073.wav  \n",
            "  inflating: gtzan/Data/genres_original/metal/metal.00074.wav  \n",
            "  inflating: gtzan/Data/genres_original/metal/metal.00075.wav  \n",
            "  inflating: gtzan/Data/genres_original/metal/metal.00076.wav  \n",
            "  inflating: gtzan/Data/genres_original/metal/metal.00077.wav  \n",
            "  inflating: gtzan/Data/genres_original/metal/metal.00078.wav  \n",
            "  inflating: gtzan/Data/genres_original/metal/metal.00079.wav  \n",
            "  inflating: gtzan/Data/genres_original/metal/metal.00080.wav  \n",
            "  inflating: gtzan/Data/genres_original/metal/metal.00081.wav  \n",
            "  inflating: gtzan/Data/genres_original/metal/metal.00082.wav  \n",
            "  inflating: gtzan/Data/genres_original/metal/metal.00083.wav  \n",
            "  inflating: gtzan/Data/genres_original/metal/metal.00084.wav  \n",
            "  inflating: gtzan/Data/genres_original/metal/metal.00085.wav  \n",
            "  inflating: gtzan/Data/genres_original/metal/metal.00086.wav  \n",
            "  inflating: gtzan/Data/genres_original/metal/metal.00087.wav  \n",
            "  inflating: gtzan/Data/genres_original/metal/metal.00088.wav  \n",
            "  inflating: gtzan/Data/genres_original/metal/metal.00089.wav  \n",
            "  inflating: gtzan/Data/genres_original/metal/metal.00090.wav  \n",
            "  inflating: gtzan/Data/genres_original/metal/metal.00091.wav  \n",
            "  inflating: gtzan/Data/genres_original/metal/metal.00092.wav  \n",
            "  inflating: gtzan/Data/genres_original/metal/metal.00093.wav  \n",
            "  inflating: gtzan/Data/genres_original/metal/metal.00094.wav  \n",
            "  inflating: gtzan/Data/genres_original/metal/metal.00095.wav  \n",
            "  inflating: gtzan/Data/genres_original/metal/metal.00096.wav  \n",
            "  inflating: gtzan/Data/genres_original/metal/metal.00097.wav  \n",
            "  inflating: gtzan/Data/genres_original/metal/metal.00098.wav  \n",
            "  inflating: gtzan/Data/genres_original/metal/metal.00099.wav  \n",
            "  inflating: gtzan/Data/genres_original/pop/pop.00000.wav  \n",
            "  inflating: gtzan/Data/genres_original/pop/pop.00001.wav  \n",
            "  inflating: gtzan/Data/genres_original/pop/pop.00002.wav  \n",
            "  inflating: gtzan/Data/genres_original/pop/pop.00003.wav  \n",
            "  inflating: gtzan/Data/genres_original/pop/pop.00004.wav  \n",
            "  inflating: gtzan/Data/genres_original/pop/pop.00005.wav  \n",
            "  inflating: gtzan/Data/genres_original/pop/pop.00006.wav  \n",
            "  inflating: gtzan/Data/genres_original/pop/pop.00007.wav  \n",
            "  inflating: gtzan/Data/genres_original/pop/pop.00008.wav  \n",
            "  inflating: gtzan/Data/genres_original/pop/pop.00009.wav  \n",
            "  inflating: gtzan/Data/genres_original/pop/pop.00010.wav  \n",
            "  inflating: gtzan/Data/genres_original/pop/pop.00011.wav  \n",
            "  inflating: gtzan/Data/genres_original/pop/pop.00012.wav  \n",
            "  inflating: gtzan/Data/genres_original/pop/pop.00013.wav  \n",
            "  inflating: gtzan/Data/genres_original/pop/pop.00014.wav  \n",
            "  inflating: gtzan/Data/genres_original/pop/pop.00015.wav  \n",
            "  inflating: gtzan/Data/genres_original/pop/pop.00016.wav  \n",
            "  inflating: gtzan/Data/genres_original/pop/pop.00017.wav  \n",
            "  inflating: gtzan/Data/genres_original/pop/pop.00018.wav  \n",
            "  inflating: gtzan/Data/genres_original/pop/pop.00019.wav  \n",
            "  inflating: gtzan/Data/genres_original/pop/pop.00020.wav  \n",
            "  inflating: gtzan/Data/genres_original/pop/pop.00021.wav  \n",
            "  inflating: gtzan/Data/genres_original/pop/pop.00022.wav  \n",
            "  inflating: gtzan/Data/genres_original/pop/pop.00023.wav  \n",
            "  inflating: gtzan/Data/genres_original/pop/pop.00024.wav  \n",
            "  inflating: gtzan/Data/genres_original/pop/pop.00025.wav  \n",
            "  inflating: gtzan/Data/genres_original/pop/pop.00026.wav  \n",
            "  inflating: gtzan/Data/genres_original/pop/pop.00027.wav  \n",
            "  inflating: gtzan/Data/genres_original/pop/pop.00028.wav  \n",
            "  inflating: gtzan/Data/genres_original/pop/pop.00029.wav  \n",
            "  inflating: gtzan/Data/genres_original/pop/pop.00030.wav  \n",
            "  inflating: gtzan/Data/genres_original/pop/pop.00031.wav  \n",
            "  inflating: gtzan/Data/genres_original/pop/pop.00032.wav  \n",
            "  inflating: gtzan/Data/genres_original/pop/pop.00033.wav  \n",
            "  inflating: gtzan/Data/genres_original/pop/pop.00034.wav  \n",
            "  inflating: gtzan/Data/genres_original/pop/pop.00035.wav  \n",
            "  inflating: gtzan/Data/genres_original/pop/pop.00036.wav  \n",
            "  inflating: gtzan/Data/genres_original/pop/pop.00037.wav  \n",
            "  inflating: gtzan/Data/genres_original/pop/pop.00038.wav  \n",
            "  inflating: gtzan/Data/genres_original/pop/pop.00039.wav  \n",
            "  inflating: gtzan/Data/genres_original/pop/pop.00040.wav  \n",
            "  inflating: gtzan/Data/genres_original/pop/pop.00041.wav  \n",
            "  inflating: gtzan/Data/genres_original/pop/pop.00042.wav  \n",
            "  inflating: gtzan/Data/genres_original/pop/pop.00043.wav  \n",
            "  inflating: gtzan/Data/genres_original/pop/pop.00044.wav  \n",
            "  inflating: gtzan/Data/genres_original/pop/pop.00045.wav  \n",
            "  inflating: gtzan/Data/genres_original/pop/pop.00046.wav  \n",
            "  inflating: gtzan/Data/genres_original/pop/pop.00047.wav  \n",
            "  inflating: gtzan/Data/genres_original/pop/pop.00048.wav  \n",
            "  inflating: gtzan/Data/genres_original/pop/pop.00049.wav  \n",
            "  inflating: gtzan/Data/genres_original/pop/pop.00050.wav  \n",
            "  inflating: gtzan/Data/genres_original/pop/pop.00051.wav  \n",
            "  inflating: gtzan/Data/genres_original/pop/pop.00052.wav  \n",
            "  inflating: gtzan/Data/genres_original/pop/pop.00053.wav  \n",
            "  inflating: gtzan/Data/genres_original/pop/pop.00054.wav  \n",
            "  inflating: gtzan/Data/genres_original/pop/pop.00055.wav  \n",
            "  inflating: gtzan/Data/genres_original/pop/pop.00056.wav  \n",
            "  inflating: gtzan/Data/genres_original/pop/pop.00057.wav  \n",
            "  inflating: gtzan/Data/genres_original/pop/pop.00058.wav  \n",
            "  inflating: gtzan/Data/genres_original/pop/pop.00059.wav  \n",
            "  inflating: gtzan/Data/genres_original/pop/pop.00060.wav  \n",
            "  inflating: gtzan/Data/genres_original/pop/pop.00061.wav  \n",
            "  inflating: gtzan/Data/genres_original/pop/pop.00062.wav  \n",
            "  inflating: gtzan/Data/genres_original/pop/pop.00063.wav  \n",
            "  inflating: gtzan/Data/genres_original/pop/pop.00064.wav  \n",
            "  inflating: gtzan/Data/genres_original/pop/pop.00065.wav  \n",
            "  inflating: gtzan/Data/genres_original/pop/pop.00066.wav  \n",
            "  inflating: gtzan/Data/genres_original/pop/pop.00067.wav  \n",
            "  inflating: gtzan/Data/genres_original/pop/pop.00068.wav  \n",
            "  inflating: gtzan/Data/genres_original/pop/pop.00069.wav  \n",
            "  inflating: gtzan/Data/genres_original/pop/pop.00070.wav  \n",
            "  inflating: gtzan/Data/genres_original/pop/pop.00071.wav  \n",
            "  inflating: gtzan/Data/genres_original/pop/pop.00072.wav  \n",
            "  inflating: gtzan/Data/genres_original/pop/pop.00073.wav  \n",
            "  inflating: gtzan/Data/genres_original/pop/pop.00074.wav  \n",
            "  inflating: gtzan/Data/genres_original/pop/pop.00075.wav  \n",
            "  inflating: gtzan/Data/genres_original/pop/pop.00076.wav  \n",
            "  inflating: gtzan/Data/genres_original/pop/pop.00077.wav  \n",
            "  inflating: gtzan/Data/genres_original/pop/pop.00078.wav  \n",
            "  inflating: gtzan/Data/genres_original/pop/pop.00079.wav  \n",
            "  inflating: gtzan/Data/genres_original/pop/pop.00080.wav  \n",
            "  inflating: gtzan/Data/genres_original/pop/pop.00081.wav  \n",
            "  inflating: gtzan/Data/genres_original/pop/pop.00082.wav  \n",
            "  inflating: gtzan/Data/genres_original/pop/pop.00083.wav  \n",
            "  inflating: gtzan/Data/genres_original/pop/pop.00084.wav  \n",
            "  inflating: gtzan/Data/genres_original/pop/pop.00085.wav  \n",
            "  inflating: gtzan/Data/genres_original/pop/pop.00086.wav  \n",
            "  inflating: gtzan/Data/genres_original/pop/pop.00087.wav  \n",
            "  inflating: gtzan/Data/genres_original/pop/pop.00088.wav  \n",
            "  inflating: gtzan/Data/genres_original/pop/pop.00089.wav  \n",
            "  inflating: gtzan/Data/genres_original/pop/pop.00090.wav  \n",
            "  inflating: gtzan/Data/genres_original/pop/pop.00091.wav  \n",
            "  inflating: gtzan/Data/genres_original/pop/pop.00092.wav  \n",
            "  inflating: gtzan/Data/genres_original/pop/pop.00093.wav  \n",
            "  inflating: gtzan/Data/genres_original/pop/pop.00094.wav  \n",
            "  inflating: gtzan/Data/genres_original/pop/pop.00095.wav  \n",
            "  inflating: gtzan/Data/genres_original/pop/pop.00096.wav  \n",
            "  inflating: gtzan/Data/genres_original/pop/pop.00097.wav  \n",
            "  inflating: gtzan/Data/genres_original/pop/pop.00098.wav  \n",
            "  inflating: gtzan/Data/genres_original/pop/pop.00099.wav  \n",
            "  inflating: gtzan/Data/genres_original/reggae/reggae.00000.wav  \n",
            "  inflating: gtzan/Data/genres_original/reggae/reggae.00001.wav  \n",
            "  inflating: gtzan/Data/genres_original/reggae/reggae.00002.wav  \n",
            "  inflating: gtzan/Data/genres_original/reggae/reggae.00003.wav  \n",
            "  inflating: gtzan/Data/genres_original/reggae/reggae.00004.wav  \n",
            "  inflating: gtzan/Data/genres_original/reggae/reggae.00005.wav  \n",
            "  inflating: gtzan/Data/genres_original/reggae/reggae.00006.wav  \n",
            "  inflating: gtzan/Data/genres_original/reggae/reggae.00007.wav  \n",
            "  inflating: gtzan/Data/genres_original/reggae/reggae.00008.wav  \n",
            "  inflating: gtzan/Data/genres_original/reggae/reggae.00009.wav  \n",
            "  inflating: gtzan/Data/genres_original/reggae/reggae.00010.wav  \n",
            "  inflating: gtzan/Data/genres_original/reggae/reggae.00011.wav  \n",
            "  inflating: gtzan/Data/genres_original/reggae/reggae.00012.wav  \n",
            "  inflating: gtzan/Data/genres_original/reggae/reggae.00013.wav  \n",
            "  inflating: gtzan/Data/genres_original/reggae/reggae.00014.wav  \n",
            "  inflating: gtzan/Data/genres_original/reggae/reggae.00015.wav  \n",
            "  inflating: gtzan/Data/genres_original/reggae/reggae.00016.wav  \n",
            "  inflating: gtzan/Data/genres_original/reggae/reggae.00017.wav  \n",
            "  inflating: gtzan/Data/genres_original/reggae/reggae.00018.wav  \n",
            "  inflating: gtzan/Data/genres_original/reggae/reggae.00019.wav  \n",
            "  inflating: gtzan/Data/genres_original/reggae/reggae.00020.wav  \n",
            "  inflating: gtzan/Data/genres_original/reggae/reggae.00021.wav  \n",
            "  inflating: gtzan/Data/genres_original/reggae/reggae.00022.wav  \n",
            "  inflating: gtzan/Data/genres_original/reggae/reggae.00023.wav  \n",
            "  inflating: gtzan/Data/genres_original/reggae/reggae.00024.wav  \n",
            "  inflating: gtzan/Data/genres_original/reggae/reggae.00025.wav  \n",
            "  inflating: gtzan/Data/genres_original/reggae/reggae.00026.wav  \n",
            "  inflating: gtzan/Data/genres_original/reggae/reggae.00027.wav  \n",
            "  inflating: gtzan/Data/genres_original/reggae/reggae.00028.wav  \n",
            "  inflating: gtzan/Data/genres_original/reggae/reggae.00029.wav  \n",
            "  inflating: gtzan/Data/genres_original/reggae/reggae.00030.wav  \n",
            "  inflating: gtzan/Data/genres_original/reggae/reggae.00031.wav  \n",
            "  inflating: gtzan/Data/genres_original/reggae/reggae.00032.wav  \n",
            "  inflating: gtzan/Data/genres_original/reggae/reggae.00033.wav  \n",
            "  inflating: gtzan/Data/genres_original/reggae/reggae.00034.wav  \n",
            "  inflating: gtzan/Data/genres_original/reggae/reggae.00035.wav  \n",
            "  inflating: gtzan/Data/genres_original/reggae/reggae.00036.wav  \n",
            "  inflating: gtzan/Data/genres_original/reggae/reggae.00037.wav  \n",
            "  inflating: gtzan/Data/genres_original/reggae/reggae.00038.wav  \n",
            "  inflating: gtzan/Data/genres_original/reggae/reggae.00039.wav  \n",
            "  inflating: gtzan/Data/genres_original/reggae/reggae.00040.wav  \n",
            "  inflating: gtzan/Data/genres_original/reggae/reggae.00041.wav  \n",
            "  inflating: gtzan/Data/genres_original/reggae/reggae.00042.wav  \n",
            "  inflating: gtzan/Data/genres_original/reggae/reggae.00043.wav  \n",
            "  inflating: gtzan/Data/genres_original/reggae/reggae.00044.wav  \n",
            "  inflating: gtzan/Data/genres_original/reggae/reggae.00045.wav  \n",
            "  inflating: gtzan/Data/genres_original/reggae/reggae.00046.wav  \n",
            "  inflating: gtzan/Data/genres_original/reggae/reggae.00047.wav  \n",
            "  inflating: gtzan/Data/genres_original/reggae/reggae.00048.wav  \n",
            "  inflating: gtzan/Data/genres_original/reggae/reggae.00049.wav  \n",
            "  inflating: gtzan/Data/genres_original/reggae/reggae.00050.wav  \n",
            "  inflating: gtzan/Data/genres_original/reggae/reggae.00051.wav  \n",
            "  inflating: gtzan/Data/genres_original/reggae/reggae.00052.wav  \n",
            "  inflating: gtzan/Data/genres_original/reggae/reggae.00053.wav  \n",
            "  inflating: gtzan/Data/genres_original/reggae/reggae.00054.wav  \n",
            "  inflating: gtzan/Data/genres_original/reggae/reggae.00055.wav  \n",
            "  inflating: gtzan/Data/genres_original/reggae/reggae.00056.wav  \n",
            "  inflating: gtzan/Data/genres_original/reggae/reggae.00057.wav  \n",
            "  inflating: gtzan/Data/genres_original/reggae/reggae.00058.wav  \n",
            "  inflating: gtzan/Data/genres_original/reggae/reggae.00059.wav  \n",
            "  inflating: gtzan/Data/genres_original/reggae/reggae.00060.wav  \n",
            "  inflating: gtzan/Data/genres_original/reggae/reggae.00061.wav  \n",
            "  inflating: gtzan/Data/genres_original/reggae/reggae.00062.wav  \n",
            "  inflating: gtzan/Data/genres_original/reggae/reggae.00063.wav  \n",
            "  inflating: gtzan/Data/genres_original/reggae/reggae.00064.wav  \n",
            "  inflating: gtzan/Data/genres_original/reggae/reggae.00065.wav  \n",
            "  inflating: gtzan/Data/genres_original/reggae/reggae.00066.wav  \n",
            "  inflating: gtzan/Data/genres_original/reggae/reggae.00067.wav  \n",
            "  inflating: gtzan/Data/genres_original/reggae/reggae.00068.wav  \n",
            "  inflating: gtzan/Data/genres_original/reggae/reggae.00069.wav  \n",
            "  inflating: gtzan/Data/genres_original/reggae/reggae.00070.wav  \n",
            "  inflating: gtzan/Data/genres_original/reggae/reggae.00071.wav  \n",
            "  inflating: gtzan/Data/genres_original/reggae/reggae.00072.wav  \n",
            "  inflating: gtzan/Data/genres_original/reggae/reggae.00073.wav  \n",
            "  inflating: gtzan/Data/genres_original/reggae/reggae.00074.wav  \n",
            "  inflating: gtzan/Data/genres_original/reggae/reggae.00075.wav  \n",
            "  inflating: gtzan/Data/genres_original/reggae/reggae.00076.wav  \n",
            "  inflating: gtzan/Data/genres_original/reggae/reggae.00077.wav  \n",
            "  inflating: gtzan/Data/genres_original/reggae/reggae.00078.wav  \n",
            "  inflating: gtzan/Data/genres_original/reggae/reggae.00079.wav  \n",
            "  inflating: gtzan/Data/genres_original/reggae/reggae.00080.wav  \n",
            "  inflating: gtzan/Data/genres_original/reggae/reggae.00081.wav  \n",
            "  inflating: gtzan/Data/genres_original/reggae/reggae.00082.wav  \n",
            "  inflating: gtzan/Data/genres_original/reggae/reggae.00083.wav  \n",
            "  inflating: gtzan/Data/genres_original/reggae/reggae.00084.wav  \n",
            "  inflating: gtzan/Data/genres_original/reggae/reggae.00085.wav  \n",
            "  inflating: gtzan/Data/genres_original/reggae/reggae.00086.wav  \n",
            "  inflating: gtzan/Data/genres_original/reggae/reggae.00087.wav  \n",
            "  inflating: gtzan/Data/genres_original/reggae/reggae.00088.wav  \n",
            "  inflating: gtzan/Data/genres_original/reggae/reggae.00089.wav  \n",
            "  inflating: gtzan/Data/genres_original/reggae/reggae.00090.wav  \n",
            "  inflating: gtzan/Data/genres_original/reggae/reggae.00091.wav  \n",
            "  inflating: gtzan/Data/genres_original/reggae/reggae.00092.wav  \n",
            "  inflating: gtzan/Data/genres_original/reggae/reggae.00093.wav  \n",
            "  inflating: gtzan/Data/genres_original/reggae/reggae.00094.wav  \n",
            "  inflating: gtzan/Data/genres_original/reggae/reggae.00095.wav  \n",
            "  inflating: gtzan/Data/genres_original/reggae/reggae.00096.wav  \n",
            "  inflating: gtzan/Data/genres_original/reggae/reggae.00097.wav  \n",
            "  inflating: gtzan/Data/genres_original/reggae/reggae.00098.wav  \n",
            "  inflating: gtzan/Data/genres_original/reggae/reggae.00099.wav  \n",
            "  inflating: gtzan/Data/genres_original/rock/rock.00000.wav  \n",
            "  inflating: gtzan/Data/genres_original/rock/rock.00001.wav  \n",
            "  inflating: gtzan/Data/genres_original/rock/rock.00002.wav  \n",
            "  inflating: gtzan/Data/genres_original/rock/rock.00003.wav  \n",
            "  inflating: gtzan/Data/genres_original/rock/rock.00004.wav  \n",
            "  inflating: gtzan/Data/genres_original/rock/rock.00005.wav  \n",
            "  inflating: gtzan/Data/genres_original/rock/rock.00006.wav  \n",
            "  inflating: gtzan/Data/genres_original/rock/rock.00007.wav  \n",
            "  inflating: gtzan/Data/genres_original/rock/rock.00008.wav  \n",
            "  inflating: gtzan/Data/genres_original/rock/rock.00009.wav  \n",
            "  inflating: gtzan/Data/genres_original/rock/rock.00010.wav  \n",
            "  inflating: gtzan/Data/genres_original/rock/rock.00011.wav  \n",
            "  inflating: gtzan/Data/genres_original/rock/rock.00012.wav  \n",
            "  inflating: gtzan/Data/genres_original/rock/rock.00013.wav  \n",
            "  inflating: gtzan/Data/genres_original/rock/rock.00014.wav  \n",
            "  inflating: gtzan/Data/genres_original/rock/rock.00015.wav  \n",
            "  inflating: gtzan/Data/genres_original/rock/rock.00016.wav  \n",
            "  inflating: gtzan/Data/genres_original/rock/rock.00017.wav  \n",
            "  inflating: gtzan/Data/genres_original/rock/rock.00018.wav  \n",
            "  inflating: gtzan/Data/genres_original/rock/rock.00019.wav  \n",
            "  inflating: gtzan/Data/genres_original/rock/rock.00020.wav  \n",
            "  inflating: gtzan/Data/genres_original/rock/rock.00021.wav  \n",
            "  inflating: gtzan/Data/genres_original/rock/rock.00022.wav  \n",
            "  inflating: gtzan/Data/genres_original/rock/rock.00023.wav  \n",
            "  inflating: gtzan/Data/genres_original/rock/rock.00024.wav  \n",
            "  inflating: gtzan/Data/genres_original/rock/rock.00025.wav  \n",
            "  inflating: gtzan/Data/genres_original/rock/rock.00026.wav  \n",
            "  inflating: gtzan/Data/genres_original/rock/rock.00027.wav  \n",
            "  inflating: gtzan/Data/genres_original/rock/rock.00028.wav  \n",
            "  inflating: gtzan/Data/genres_original/rock/rock.00029.wav  \n",
            "  inflating: gtzan/Data/genres_original/rock/rock.00030.wav  \n",
            "  inflating: gtzan/Data/genres_original/rock/rock.00031.wav  \n",
            "  inflating: gtzan/Data/genres_original/rock/rock.00032.wav  \n",
            "  inflating: gtzan/Data/genres_original/rock/rock.00033.wav  \n",
            "  inflating: gtzan/Data/genres_original/rock/rock.00034.wav  \n",
            "  inflating: gtzan/Data/genres_original/rock/rock.00035.wav  \n",
            "  inflating: gtzan/Data/genres_original/rock/rock.00036.wav  \n",
            "  inflating: gtzan/Data/genres_original/rock/rock.00037.wav  \n",
            "  inflating: gtzan/Data/genres_original/rock/rock.00038.wav  \n",
            "  inflating: gtzan/Data/genres_original/rock/rock.00039.wav  \n",
            "  inflating: gtzan/Data/genres_original/rock/rock.00040.wav  \n",
            "  inflating: gtzan/Data/genres_original/rock/rock.00041.wav  \n",
            "  inflating: gtzan/Data/genres_original/rock/rock.00042.wav  \n",
            "  inflating: gtzan/Data/genres_original/rock/rock.00043.wav  \n",
            "  inflating: gtzan/Data/genres_original/rock/rock.00044.wav  \n",
            "  inflating: gtzan/Data/genres_original/rock/rock.00045.wav  \n",
            "  inflating: gtzan/Data/genres_original/rock/rock.00046.wav  \n",
            "  inflating: gtzan/Data/genres_original/rock/rock.00047.wav  \n",
            "  inflating: gtzan/Data/genres_original/rock/rock.00048.wav  \n",
            "  inflating: gtzan/Data/genres_original/rock/rock.00049.wav  \n",
            "  inflating: gtzan/Data/genres_original/rock/rock.00050.wav  \n",
            "  inflating: gtzan/Data/genres_original/rock/rock.00051.wav  \n",
            "  inflating: gtzan/Data/genres_original/rock/rock.00052.wav  \n",
            "  inflating: gtzan/Data/genres_original/rock/rock.00053.wav  \n",
            "  inflating: gtzan/Data/genres_original/rock/rock.00054.wav  \n",
            "  inflating: gtzan/Data/genres_original/rock/rock.00055.wav  \n",
            "  inflating: gtzan/Data/genres_original/rock/rock.00056.wav  \n",
            "  inflating: gtzan/Data/genres_original/rock/rock.00057.wav  \n",
            "  inflating: gtzan/Data/genres_original/rock/rock.00058.wav  \n",
            "  inflating: gtzan/Data/genres_original/rock/rock.00059.wav  \n",
            "  inflating: gtzan/Data/genres_original/rock/rock.00060.wav  \n",
            "  inflating: gtzan/Data/genres_original/rock/rock.00061.wav  \n",
            "  inflating: gtzan/Data/genres_original/rock/rock.00062.wav  \n",
            "  inflating: gtzan/Data/genres_original/rock/rock.00063.wav  \n",
            "  inflating: gtzan/Data/genres_original/rock/rock.00064.wav  \n",
            "  inflating: gtzan/Data/genres_original/rock/rock.00065.wav  \n",
            "  inflating: gtzan/Data/genres_original/rock/rock.00066.wav  \n",
            "  inflating: gtzan/Data/genres_original/rock/rock.00067.wav  \n",
            "  inflating: gtzan/Data/genres_original/rock/rock.00068.wav  \n",
            "  inflating: gtzan/Data/genres_original/rock/rock.00069.wav  \n",
            "  inflating: gtzan/Data/genres_original/rock/rock.00070.wav  \n",
            "  inflating: gtzan/Data/genres_original/rock/rock.00071.wav  \n",
            "  inflating: gtzan/Data/genres_original/rock/rock.00072.wav  \n",
            "  inflating: gtzan/Data/genres_original/rock/rock.00073.wav  \n",
            "  inflating: gtzan/Data/genres_original/rock/rock.00074.wav  \n",
            "  inflating: gtzan/Data/genres_original/rock/rock.00075.wav  \n",
            "  inflating: gtzan/Data/genres_original/rock/rock.00076.wav  \n",
            "  inflating: gtzan/Data/genres_original/rock/rock.00077.wav  \n",
            "  inflating: gtzan/Data/genres_original/rock/rock.00078.wav  \n",
            "  inflating: gtzan/Data/genres_original/rock/rock.00079.wav  \n",
            "  inflating: gtzan/Data/genres_original/rock/rock.00080.wav  \n",
            "  inflating: gtzan/Data/genres_original/rock/rock.00081.wav  \n",
            "  inflating: gtzan/Data/genres_original/rock/rock.00082.wav  \n",
            "  inflating: gtzan/Data/genres_original/rock/rock.00083.wav  \n",
            "  inflating: gtzan/Data/genres_original/rock/rock.00084.wav  \n",
            "  inflating: gtzan/Data/genres_original/rock/rock.00085.wav  \n",
            "  inflating: gtzan/Data/genres_original/rock/rock.00086.wav  \n",
            "  inflating: gtzan/Data/genres_original/rock/rock.00087.wav  \n",
            "  inflating: gtzan/Data/genres_original/rock/rock.00088.wav  \n",
            "  inflating: gtzan/Data/genres_original/rock/rock.00089.wav  \n",
            "  inflating: gtzan/Data/genres_original/rock/rock.00090.wav  \n",
            "  inflating: gtzan/Data/genres_original/rock/rock.00091.wav  \n",
            "  inflating: gtzan/Data/genres_original/rock/rock.00092.wav  \n",
            "  inflating: gtzan/Data/genres_original/rock/rock.00093.wav  \n",
            "  inflating: gtzan/Data/genres_original/rock/rock.00094.wav  \n",
            "  inflating: gtzan/Data/genres_original/rock/rock.00095.wav  \n",
            "  inflating: gtzan/Data/genres_original/rock/rock.00096.wav  \n",
            "  inflating: gtzan/Data/genres_original/rock/rock.00097.wav  \n",
            "  inflating: gtzan/Data/genres_original/rock/rock.00098.wav  \n",
            "  inflating: gtzan/Data/genres_original/rock/rock.00099.wav  \n",
            "  inflating: gtzan/Data/images_original/blues/blues00000.png  \n",
            "  inflating: gtzan/Data/images_original/blues/blues00001.png  \n",
            "  inflating: gtzan/Data/images_original/blues/blues00002.png  \n",
            "  inflating: gtzan/Data/images_original/blues/blues00003.png  \n",
            "  inflating: gtzan/Data/images_original/blues/blues00004.png  \n",
            "  inflating: gtzan/Data/images_original/blues/blues00005.png  \n",
            "  inflating: gtzan/Data/images_original/blues/blues00006.png  \n",
            "  inflating: gtzan/Data/images_original/blues/blues00007.png  \n",
            "  inflating: gtzan/Data/images_original/blues/blues00008.png  \n",
            "  inflating: gtzan/Data/images_original/blues/blues00009.png  \n",
            "  inflating: gtzan/Data/images_original/blues/blues00010.png  \n",
            "  inflating: gtzan/Data/images_original/blues/blues00011.png  \n",
            "  inflating: gtzan/Data/images_original/blues/blues00012.png  \n",
            "  inflating: gtzan/Data/images_original/blues/blues00013.png  \n",
            "  inflating: gtzan/Data/images_original/blues/blues00014.png  \n",
            "  inflating: gtzan/Data/images_original/blues/blues00015.png  \n",
            "  inflating: gtzan/Data/images_original/blues/blues00016.png  \n",
            "  inflating: gtzan/Data/images_original/blues/blues00017.png  \n",
            "  inflating: gtzan/Data/images_original/blues/blues00018.png  \n",
            "  inflating: gtzan/Data/images_original/blues/blues00019.png  \n",
            "  inflating: gtzan/Data/images_original/blues/blues00020.png  \n",
            "  inflating: gtzan/Data/images_original/blues/blues00021.png  \n",
            "  inflating: gtzan/Data/images_original/blues/blues00022.png  \n",
            "  inflating: gtzan/Data/images_original/blues/blues00023.png  \n",
            "  inflating: gtzan/Data/images_original/blues/blues00024.png  \n",
            "  inflating: gtzan/Data/images_original/blues/blues00025.png  \n",
            "  inflating: gtzan/Data/images_original/blues/blues00026.png  \n",
            "  inflating: gtzan/Data/images_original/blues/blues00027.png  \n",
            "  inflating: gtzan/Data/images_original/blues/blues00028.png  \n",
            "  inflating: gtzan/Data/images_original/blues/blues00029.png  \n",
            "  inflating: gtzan/Data/images_original/blues/blues00030.png  \n",
            "  inflating: gtzan/Data/images_original/blues/blues00031.png  \n",
            "  inflating: gtzan/Data/images_original/blues/blues00032.png  \n",
            "  inflating: gtzan/Data/images_original/blues/blues00033.png  \n",
            "  inflating: gtzan/Data/images_original/blues/blues00034.png  \n",
            "  inflating: gtzan/Data/images_original/blues/blues00035.png  \n",
            "  inflating: gtzan/Data/images_original/blues/blues00036.png  \n",
            "  inflating: gtzan/Data/images_original/blues/blues00037.png  \n",
            "  inflating: gtzan/Data/images_original/blues/blues00038.png  \n",
            "  inflating: gtzan/Data/images_original/blues/blues00039.png  \n",
            "  inflating: gtzan/Data/images_original/blues/blues00040.png  \n",
            "  inflating: gtzan/Data/images_original/blues/blues00041.png  \n",
            "  inflating: gtzan/Data/images_original/blues/blues00042.png  \n",
            "  inflating: gtzan/Data/images_original/blues/blues00043.png  \n",
            "  inflating: gtzan/Data/images_original/blues/blues00044.png  \n",
            "  inflating: gtzan/Data/images_original/blues/blues00045.png  \n",
            "  inflating: gtzan/Data/images_original/blues/blues00046.png  \n",
            "  inflating: gtzan/Data/images_original/blues/blues00047.png  \n",
            "  inflating: gtzan/Data/images_original/blues/blues00048.png  \n",
            "  inflating: gtzan/Data/images_original/blues/blues00049.png  \n",
            "  inflating: gtzan/Data/images_original/blues/blues00050.png  \n",
            "  inflating: gtzan/Data/images_original/blues/blues00051.png  \n",
            "  inflating: gtzan/Data/images_original/blues/blues00052.png  \n",
            "  inflating: gtzan/Data/images_original/blues/blues00053.png  \n",
            "  inflating: gtzan/Data/images_original/blues/blues00054.png  \n",
            "  inflating: gtzan/Data/images_original/blues/blues00055.png  \n",
            "  inflating: gtzan/Data/images_original/blues/blues00056.png  \n",
            "  inflating: gtzan/Data/images_original/blues/blues00057.png  \n",
            "  inflating: gtzan/Data/images_original/blues/blues00058.png  \n",
            "  inflating: gtzan/Data/images_original/blues/blues00059.png  \n",
            "  inflating: gtzan/Data/images_original/blues/blues00060.png  \n",
            "  inflating: gtzan/Data/images_original/blues/blues00061.png  \n",
            "  inflating: gtzan/Data/images_original/blues/blues00062.png  \n",
            "  inflating: gtzan/Data/images_original/blues/blues00063.png  \n",
            "  inflating: gtzan/Data/images_original/blues/blues00064.png  \n",
            "  inflating: gtzan/Data/images_original/blues/blues00065.png  \n",
            "  inflating: gtzan/Data/images_original/blues/blues00066.png  \n",
            "  inflating: gtzan/Data/images_original/blues/blues00067.png  \n",
            "  inflating: gtzan/Data/images_original/blues/blues00068.png  \n",
            "  inflating: gtzan/Data/images_original/blues/blues00069.png  \n",
            "  inflating: gtzan/Data/images_original/blues/blues00070.png  \n",
            "  inflating: gtzan/Data/images_original/blues/blues00071.png  \n",
            "  inflating: gtzan/Data/images_original/blues/blues00072.png  \n",
            "  inflating: gtzan/Data/images_original/blues/blues00073.png  \n",
            "  inflating: gtzan/Data/images_original/blues/blues00074.png  \n",
            "  inflating: gtzan/Data/images_original/blues/blues00075.png  \n",
            "  inflating: gtzan/Data/images_original/blues/blues00076.png  \n",
            "  inflating: gtzan/Data/images_original/blues/blues00077.png  \n",
            "  inflating: gtzan/Data/images_original/blues/blues00078.png  \n",
            "  inflating: gtzan/Data/images_original/blues/blues00079.png  \n",
            "  inflating: gtzan/Data/images_original/blues/blues00080.png  \n",
            "  inflating: gtzan/Data/images_original/blues/blues00081.png  \n",
            "  inflating: gtzan/Data/images_original/blues/blues00082.png  \n",
            "  inflating: gtzan/Data/images_original/blues/blues00083.png  \n",
            "  inflating: gtzan/Data/images_original/blues/blues00084.png  \n",
            "  inflating: gtzan/Data/images_original/blues/blues00085.png  \n",
            "  inflating: gtzan/Data/images_original/blues/blues00086.png  \n",
            "  inflating: gtzan/Data/images_original/blues/blues00087.png  \n",
            "  inflating: gtzan/Data/images_original/blues/blues00088.png  \n",
            "  inflating: gtzan/Data/images_original/blues/blues00089.png  \n",
            "  inflating: gtzan/Data/images_original/blues/blues00090.png  \n",
            "  inflating: gtzan/Data/images_original/blues/blues00091.png  \n",
            "  inflating: gtzan/Data/images_original/blues/blues00092.png  \n",
            "  inflating: gtzan/Data/images_original/blues/blues00093.png  \n",
            "  inflating: gtzan/Data/images_original/blues/blues00094.png  \n",
            "  inflating: gtzan/Data/images_original/blues/blues00095.png  \n",
            "  inflating: gtzan/Data/images_original/blues/blues00096.png  \n",
            "  inflating: gtzan/Data/images_original/blues/blues00097.png  \n",
            "  inflating: gtzan/Data/images_original/blues/blues00098.png  \n",
            "  inflating: gtzan/Data/images_original/blues/blues00099.png  \n",
            "  inflating: gtzan/Data/images_original/classical/classical00000.png  \n",
            "  inflating: gtzan/Data/images_original/classical/classical00001.png  \n",
            "  inflating: gtzan/Data/images_original/classical/classical00002.png  \n",
            "  inflating: gtzan/Data/images_original/classical/classical00003.png  \n",
            "  inflating: gtzan/Data/images_original/classical/classical00004.png  \n",
            "  inflating: gtzan/Data/images_original/classical/classical00005.png  \n",
            "  inflating: gtzan/Data/images_original/classical/classical00006.png  \n",
            "  inflating: gtzan/Data/images_original/classical/classical00007.png  \n",
            "  inflating: gtzan/Data/images_original/classical/classical00008.png  \n",
            "  inflating: gtzan/Data/images_original/classical/classical00009.png  \n",
            "  inflating: gtzan/Data/images_original/classical/classical00010.png  \n",
            "  inflating: gtzan/Data/images_original/classical/classical00011.png  \n",
            "  inflating: gtzan/Data/images_original/classical/classical00012.png  \n",
            "  inflating: gtzan/Data/images_original/classical/classical00013.png  \n",
            "  inflating: gtzan/Data/images_original/classical/classical00014.png  \n",
            "  inflating: gtzan/Data/images_original/classical/classical00015.png  \n",
            "  inflating: gtzan/Data/images_original/classical/classical00016.png  \n",
            "  inflating: gtzan/Data/images_original/classical/classical00017.png  \n",
            "  inflating: gtzan/Data/images_original/classical/classical00018.png  \n",
            "  inflating: gtzan/Data/images_original/classical/classical00019.png  \n",
            "  inflating: gtzan/Data/images_original/classical/classical00020.png  \n",
            "  inflating: gtzan/Data/images_original/classical/classical00021.png  \n",
            "  inflating: gtzan/Data/images_original/classical/classical00022.png  \n",
            "  inflating: gtzan/Data/images_original/classical/classical00023.png  \n",
            "  inflating: gtzan/Data/images_original/classical/classical00024.png  \n",
            "  inflating: gtzan/Data/images_original/classical/classical00025.png  \n",
            "  inflating: gtzan/Data/images_original/classical/classical00026.png  \n",
            "  inflating: gtzan/Data/images_original/classical/classical00027.png  \n",
            "  inflating: gtzan/Data/images_original/classical/classical00028.png  \n",
            "  inflating: gtzan/Data/images_original/classical/classical00029.png  \n",
            "  inflating: gtzan/Data/images_original/classical/classical00030.png  \n",
            "  inflating: gtzan/Data/images_original/classical/classical00031.png  \n",
            "  inflating: gtzan/Data/images_original/classical/classical00032.png  \n",
            "  inflating: gtzan/Data/images_original/classical/classical00033.png  \n",
            "  inflating: gtzan/Data/images_original/classical/classical00034.png  \n",
            "  inflating: gtzan/Data/images_original/classical/classical00035.png  \n",
            "  inflating: gtzan/Data/images_original/classical/classical00036.png  \n",
            "  inflating: gtzan/Data/images_original/classical/classical00037.png  \n",
            "  inflating: gtzan/Data/images_original/classical/classical00038.png  \n",
            "  inflating: gtzan/Data/images_original/classical/classical00039.png  \n",
            "  inflating: gtzan/Data/images_original/classical/classical00040.png  \n",
            "  inflating: gtzan/Data/images_original/classical/classical00041.png  \n",
            "  inflating: gtzan/Data/images_original/classical/classical00042.png  \n",
            "  inflating: gtzan/Data/images_original/classical/classical00043.png  \n",
            "  inflating: gtzan/Data/images_original/classical/classical00044.png  \n",
            "  inflating: gtzan/Data/images_original/classical/classical00045.png  \n",
            "  inflating: gtzan/Data/images_original/classical/classical00046.png  \n",
            "  inflating: gtzan/Data/images_original/classical/classical00047.png  \n",
            "  inflating: gtzan/Data/images_original/classical/classical00048.png  \n",
            "  inflating: gtzan/Data/images_original/classical/classical00049.png  \n",
            "  inflating: gtzan/Data/images_original/classical/classical00050.png  \n",
            "  inflating: gtzan/Data/images_original/classical/classical00051.png  \n",
            "  inflating: gtzan/Data/images_original/classical/classical00052.png  \n",
            "  inflating: gtzan/Data/images_original/classical/classical00053.png  \n",
            "  inflating: gtzan/Data/images_original/classical/classical00054.png  \n",
            "  inflating: gtzan/Data/images_original/classical/classical00055.png  \n",
            "  inflating: gtzan/Data/images_original/classical/classical00056.png  \n",
            "  inflating: gtzan/Data/images_original/classical/classical00057.png  \n",
            "  inflating: gtzan/Data/images_original/classical/classical00058.png  \n",
            "  inflating: gtzan/Data/images_original/classical/classical00059.png  \n",
            "  inflating: gtzan/Data/images_original/classical/classical00060.png  \n",
            "  inflating: gtzan/Data/images_original/classical/classical00061.png  \n",
            "  inflating: gtzan/Data/images_original/classical/classical00062.png  \n",
            "  inflating: gtzan/Data/images_original/classical/classical00063.png  \n",
            "  inflating: gtzan/Data/images_original/classical/classical00064.png  \n",
            "  inflating: gtzan/Data/images_original/classical/classical00065.png  \n",
            "  inflating: gtzan/Data/images_original/classical/classical00066.png  \n",
            "  inflating: gtzan/Data/images_original/classical/classical00067.png  \n",
            "  inflating: gtzan/Data/images_original/classical/classical00068.png  \n",
            "  inflating: gtzan/Data/images_original/classical/classical00069.png  \n",
            "  inflating: gtzan/Data/images_original/classical/classical00070.png  \n",
            "  inflating: gtzan/Data/images_original/classical/classical00071.png  \n",
            "  inflating: gtzan/Data/images_original/classical/classical00072.png  \n",
            "  inflating: gtzan/Data/images_original/classical/classical00073.png  \n",
            "  inflating: gtzan/Data/images_original/classical/classical00074.png  \n",
            "  inflating: gtzan/Data/images_original/classical/classical00075.png  \n",
            "  inflating: gtzan/Data/images_original/classical/classical00076.png  \n",
            "  inflating: gtzan/Data/images_original/classical/classical00077.png  \n",
            "  inflating: gtzan/Data/images_original/classical/classical00078.png  \n",
            "  inflating: gtzan/Data/images_original/classical/classical00079.png  \n",
            "  inflating: gtzan/Data/images_original/classical/classical00080.png  \n",
            "  inflating: gtzan/Data/images_original/classical/classical00081.png  \n",
            "  inflating: gtzan/Data/images_original/classical/classical00082.png  \n",
            "  inflating: gtzan/Data/images_original/classical/classical00083.png  \n",
            "  inflating: gtzan/Data/images_original/classical/classical00084.png  \n",
            "  inflating: gtzan/Data/images_original/classical/classical00085.png  \n",
            "  inflating: gtzan/Data/images_original/classical/classical00086.png  \n",
            "  inflating: gtzan/Data/images_original/classical/classical00087.png  \n",
            "  inflating: gtzan/Data/images_original/classical/classical00088.png  \n",
            "  inflating: gtzan/Data/images_original/classical/classical00089.png  \n",
            "  inflating: gtzan/Data/images_original/classical/classical00090.png  \n",
            "  inflating: gtzan/Data/images_original/classical/classical00091.png  \n",
            "  inflating: gtzan/Data/images_original/classical/classical00092.png  \n",
            "  inflating: gtzan/Data/images_original/classical/classical00093.png  \n",
            "  inflating: gtzan/Data/images_original/classical/classical00094.png  \n",
            "  inflating: gtzan/Data/images_original/classical/classical00095.png  \n",
            "  inflating: gtzan/Data/images_original/classical/classical00096.png  \n",
            "  inflating: gtzan/Data/images_original/classical/classical00097.png  \n",
            "  inflating: gtzan/Data/images_original/classical/classical00098.png  \n",
            "  inflating: gtzan/Data/images_original/classical/classical00099.png  \n",
            "  inflating: gtzan/Data/images_original/country/country00000.png  \n",
            "  inflating: gtzan/Data/images_original/country/country00001.png  \n",
            "  inflating: gtzan/Data/images_original/country/country00002.png  \n",
            "  inflating: gtzan/Data/images_original/country/country00003.png  \n",
            "  inflating: gtzan/Data/images_original/country/country00004.png  \n",
            "  inflating: gtzan/Data/images_original/country/country00005.png  \n",
            "  inflating: gtzan/Data/images_original/country/country00006.png  \n",
            "  inflating: gtzan/Data/images_original/country/country00007.png  \n",
            "  inflating: gtzan/Data/images_original/country/country00008.png  \n",
            "  inflating: gtzan/Data/images_original/country/country00009.png  \n",
            "  inflating: gtzan/Data/images_original/country/country00010.png  \n",
            "  inflating: gtzan/Data/images_original/country/country00011.png  \n",
            "  inflating: gtzan/Data/images_original/country/country00012.png  \n",
            "  inflating: gtzan/Data/images_original/country/country00013.png  \n",
            "  inflating: gtzan/Data/images_original/country/country00014.png  \n",
            "  inflating: gtzan/Data/images_original/country/country00015.png  \n",
            "  inflating: gtzan/Data/images_original/country/country00016.png  \n",
            "  inflating: gtzan/Data/images_original/country/country00017.png  \n",
            "  inflating: gtzan/Data/images_original/country/country00018.png  \n",
            "  inflating: gtzan/Data/images_original/country/country00019.png  \n",
            "  inflating: gtzan/Data/images_original/country/country00020.png  \n",
            "  inflating: gtzan/Data/images_original/country/country00021.png  \n",
            "  inflating: gtzan/Data/images_original/country/country00022.png  \n",
            "  inflating: gtzan/Data/images_original/country/country00023.png  \n",
            "  inflating: gtzan/Data/images_original/country/country00024.png  \n",
            "  inflating: gtzan/Data/images_original/country/country00025.png  \n",
            "  inflating: gtzan/Data/images_original/country/country00026.png  \n",
            "  inflating: gtzan/Data/images_original/country/country00027.png  \n",
            "  inflating: gtzan/Data/images_original/country/country00028.png  \n",
            "  inflating: gtzan/Data/images_original/country/country00029.png  \n",
            "  inflating: gtzan/Data/images_original/country/country00030.png  \n",
            "  inflating: gtzan/Data/images_original/country/country00031.png  \n",
            "  inflating: gtzan/Data/images_original/country/country00032.png  \n",
            "  inflating: gtzan/Data/images_original/country/country00033.png  \n",
            "  inflating: gtzan/Data/images_original/country/country00034.png  \n",
            "  inflating: gtzan/Data/images_original/country/country00035.png  \n",
            "  inflating: gtzan/Data/images_original/country/country00036.png  \n",
            "  inflating: gtzan/Data/images_original/country/country00037.png  \n",
            "  inflating: gtzan/Data/images_original/country/country00038.png  \n",
            "  inflating: gtzan/Data/images_original/country/country00039.png  \n",
            "  inflating: gtzan/Data/images_original/country/country00040.png  \n",
            "  inflating: gtzan/Data/images_original/country/country00041.png  \n",
            "  inflating: gtzan/Data/images_original/country/country00042.png  \n",
            "  inflating: gtzan/Data/images_original/country/country00043.png  \n",
            "  inflating: gtzan/Data/images_original/country/country00044.png  \n",
            "  inflating: gtzan/Data/images_original/country/country00045.png  \n",
            "  inflating: gtzan/Data/images_original/country/country00046.png  \n",
            "  inflating: gtzan/Data/images_original/country/country00047.png  \n",
            "  inflating: gtzan/Data/images_original/country/country00048.png  \n",
            "  inflating: gtzan/Data/images_original/country/country00049.png  \n",
            "  inflating: gtzan/Data/images_original/country/country00050.png  \n",
            "  inflating: gtzan/Data/images_original/country/country00051.png  \n",
            "  inflating: gtzan/Data/images_original/country/country00052.png  \n",
            "  inflating: gtzan/Data/images_original/country/country00053.png  \n",
            "  inflating: gtzan/Data/images_original/country/country00054.png  \n",
            "  inflating: gtzan/Data/images_original/country/country00055.png  \n",
            "  inflating: gtzan/Data/images_original/country/country00056.png  \n",
            "  inflating: gtzan/Data/images_original/country/country00057.png  \n",
            "  inflating: gtzan/Data/images_original/country/country00058.png  \n",
            "  inflating: gtzan/Data/images_original/country/country00059.png  \n",
            "  inflating: gtzan/Data/images_original/country/country00060.png  \n",
            "  inflating: gtzan/Data/images_original/country/country00061.png  \n",
            "  inflating: gtzan/Data/images_original/country/country00062.png  \n",
            "  inflating: gtzan/Data/images_original/country/country00063.png  \n",
            "  inflating: gtzan/Data/images_original/country/country00064.png  \n",
            "  inflating: gtzan/Data/images_original/country/country00065.png  \n",
            "  inflating: gtzan/Data/images_original/country/country00066.png  \n",
            "  inflating: gtzan/Data/images_original/country/country00067.png  \n",
            "  inflating: gtzan/Data/images_original/country/country00068.png  \n",
            "  inflating: gtzan/Data/images_original/country/country00069.png  \n",
            "  inflating: gtzan/Data/images_original/country/country00070.png  \n",
            "  inflating: gtzan/Data/images_original/country/country00071.png  \n",
            "  inflating: gtzan/Data/images_original/country/country00072.png  \n",
            "  inflating: gtzan/Data/images_original/country/country00073.png  \n",
            "  inflating: gtzan/Data/images_original/country/country00074.png  \n",
            "  inflating: gtzan/Data/images_original/country/country00075.png  \n",
            "  inflating: gtzan/Data/images_original/country/country00076.png  \n",
            "  inflating: gtzan/Data/images_original/country/country00077.png  \n",
            "  inflating: gtzan/Data/images_original/country/country00078.png  \n",
            "  inflating: gtzan/Data/images_original/country/country00079.png  \n",
            "  inflating: gtzan/Data/images_original/country/country00080.png  \n",
            "  inflating: gtzan/Data/images_original/country/country00081.png  \n",
            "  inflating: gtzan/Data/images_original/country/country00082.png  \n",
            "  inflating: gtzan/Data/images_original/country/country00083.png  \n",
            "  inflating: gtzan/Data/images_original/country/country00084.png  \n",
            "  inflating: gtzan/Data/images_original/country/country00085.png  \n",
            "  inflating: gtzan/Data/images_original/country/country00086.png  \n",
            "  inflating: gtzan/Data/images_original/country/country00087.png  \n",
            "  inflating: gtzan/Data/images_original/country/country00088.png  \n",
            "  inflating: gtzan/Data/images_original/country/country00089.png  \n",
            "  inflating: gtzan/Data/images_original/country/country00090.png  \n",
            "  inflating: gtzan/Data/images_original/country/country00091.png  \n",
            "  inflating: gtzan/Data/images_original/country/country00092.png  \n",
            "  inflating: gtzan/Data/images_original/country/country00093.png  \n",
            "  inflating: gtzan/Data/images_original/country/country00094.png  \n",
            "  inflating: gtzan/Data/images_original/country/country00095.png  \n",
            "  inflating: gtzan/Data/images_original/country/country00096.png  \n",
            "  inflating: gtzan/Data/images_original/country/country00097.png  \n",
            "  inflating: gtzan/Data/images_original/country/country00098.png  \n",
            "  inflating: gtzan/Data/images_original/country/country00099.png  \n",
            "  inflating: gtzan/Data/images_original/disco/disco00000.png  \n",
            "  inflating: gtzan/Data/images_original/disco/disco00001.png  \n",
            "  inflating: gtzan/Data/images_original/disco/disco00002.png  \n",
            "  inflating: gtzan/Data/images_original/disco/disco00003.png  \n",
            "  inflating: gtzan/Data/images_original/disco/disco00004.png  \n",
            "  inflating: gtzan/Data/images_original/disco/disco00005.png  \n",
            "  inflating: gtzan/Data/images_original/disco/disco00006.png  \n",
            "  inflating: gtzan/Data/images_original/disco/disco00007.png  \n",
            "  inflating: gtzan/Data/images_original/disco/disco00008.png  \n",
            "  inflating: gtzan/Data/images_original/disco/disco00009.png  \n",
            "  inflating: gtzan/Data/images_original/disco/disco00010.png  \n",
            "  inflating: gtzan/Data/images_original/disco/disco00011.png  \n",
            "  inflating: gtzan/Data/images_original/disco/disco00012.png  \n",
            "  inflating: gtzan/Data/images_original/disco/disco00013.png  \n",
            "  inflating: gtzan/Data/images_original/disco/disco00014.png  \n",
            "  inflating: gtzan/Data/images_original/disco/disco00015.png  \n",
            "  inflating: gtzan/Data/images_original/disco/disco00016.png  \n",
            "  inflating: gtzan/Data/images_original/disco/disco00017.png  \n",
            "  inflating: gtzan/Data/images_original/disco/disco00018.png  \n",
            "  inflating: gtzan/Data/images_original/disco/disco00019.png  \n",
            "  inflating: gtzan/Data/images_original/disco/disco00020.png  \n",
            "  inflating: gtzan/Data/images_original/disco/disco00021.png  \n",
            "  inflating: gtzan/Data/images_original/disco/disco00022.png  \n",
            "  inflating: gtzan/Data/images_original/disco/disco00023.png  \n",
            "  inflating: gtzan/Data/images_original/disco/disco00024.png  \n",
            "  inflating: gtzan/Data/images_original/disco/disco00025.png  \n",
            "  inflating: gtzan/Data/images_original/disco/disco00026.png  \n",
            "  inflating: gtzan/Data/images_original/disco/disco00027.png  \n",
            "  inflating: gtzan/Data/images_original/disco/disco00028.png  \n",
            "  inflating: gtzan/Data/images_original/disco/disco00029.png  \n",
            "  inflating: gtzan/Data/images_original/disco/disco00030.png  \n",
            "  inflating: gtzan/Data/images_original/disco/disco00031.png  \n",
            "  inflating: gtzan/Data/images_original/disco/disco00032.png  \n",
            "  inflating: gtzan/Data/images_original/disco/disco00033.png  \n",
            "  inflating: gtzan/Data/images_original/disco/disco00034.png  \n",
            "  inflating: gtzan/Data/images_original/disco/disco00035.png  \n",
            "  inflating: gtzan/Data/images_original/disco/disco00036.png  \n",
            "  inflating: gtzan/Data/images_original/disco/disco00037.png  \n",
            "  inflating: gtzan/Data/images_original/disco/disco00038.png  \n",
            "  inflating: gtzan/Data/images_original/disco/disco00039.png  \n",
            "  inflating: gtzan/Data/images_original/disco/disco00040.png  \n",
            "  inflating: gtzan/Data/images_original/disco/disco00041.png  \n",
            "  inflating: gtzan/Data/images_original/disco/disco00042.png  \n",
            "  inflating: gtzan/Data/images_original/disco/disco00043.png  \n",
            "  inflating: gtzan/Data/images_original/disco/disco00044.png  \n",
            "  inflating: gtzan/Data/images_original/disco/disco00045.png  \n",
            "  inflating: gtzan/Data/images_original/disco/disco00046.png  \n",
            "  inflating: gtzan/Data/images_original/disco/disco00047.png  \n",
            "  inflating: gtzan/Data/images_original/disco/disco00048.png  \n",
            "  inflating: gtzan/Data/images_original/disco/disco00049.png  \n",
            "  inflating: gtzan/Data/images_original/disco/disco00050.png  \n",
            "  inflating: gtzan/Data/images_original/disco/disco00051.png  \n",
            "  inflating: gtzan/Data/images_original/disco/disco00052.png  \n",
            "  inflating: gtzan/Data/images_original/disco/disco00053.png  \n",
            "  inflating: gtzan/Data/images_original/disco/disco00054.png  \n",
            "  inflating: gtzan/Data/images_original/disco/disco00055.png  \n",
            "  inflating: gtzan/Data/images_original/disco/disco00056.png  \n",
            "  inflating: gtzan/Data/images_original/disco/disco00057.png  \n",
            "  inflating: gtzan/Data/images_original/disco/disco00058.png  \n",
            "  inflating: gtzan/Data/images_original/disco/disco00059.png  \n",
            "  inflating: gtzan/Data/images_original/disco/disco00060.png  \n",
            "  inflating: gtzan/Data/images_original/disco/disco00061.png  \n",
            "  inflating: gtzan/Data/images_original/disco/disco00062.png  \n",
            "  inflating: gtzan/Data/images_original/disco/disco00063.png  \n",
            "  inflating: gtzan/Data/images_original/disco/disco00064.png  \n",
            "  inflating: gtzan/Data/images_original/disco/disco00065.png  \n",
            "  inflating: gtzan/Data/images_original/disco/disco00066.png  \n",
            "  inflating: gtzan/Data/images_original/disco/disco00067.png  \n",
            "  inflating: gtzan/Data/images_original/disco/disco00068.png  \n",
            "  inflating: gtzan/Data/images_original/disco/disco00069.png  \n",
            "  inflating: gtzan/Data/images_original/disco/disco00070.png  \n",
            "  inflating: gtzan/Data/images_original/disco/disco00071.png  \n",
            "  inflating: gtzan/Data/images_original/disco/disco00072.png  \n",
            "  inflating: gtzan/Data/images_original/disco/disco00073.png  \n",
            "  inflating: gtzan/Data/images_original/disco/disco00074.png  \n",
            "  inflating: gtzan/Data/images_original/disco/disco00075.png  \n",
            "  inflating: gtzan/Data/images_original/disco/disco00076.png  \n",
            "  inflating: gtzan/Data/images_original/disco/disco00077.png  \n",
            "  inflating: gtzan/Data/images_original/disco/disco00078.png  \n",
            "  inflating: gtzan/Data/images_original/disco/disco00079.png  \n",
            "  inflating: gtzan/Data/images_original/disco/disco00080.png  \n",
            "  inflating: gtzan/Data/images_original/disco/disco00081.png  \n",
            "  inflating: gtzan/Data/images_original/disco/disco00082.png  \n",
            "  inflating: gtzan/Data/images_original/disco/disco00083.png  \n",
            "  inflating: gtzan/Data/images_original/disco/disco00084.png  \n",
            "  inflating: gtzan/Data/images_original/disco/disco00085.png  \n",
            "  inflating: gtzan/Data/images_original/disco/disco00086.png  \n",
            "  inflating: gtzan/Data/images_original/disco/disco00087.png  \n",
            "  inflating: gtzan/Data/images_original/disco/disco00088.png  \n",
            "  inflating: gtzan/Data/images_original/disco/disco00089.png  \n",
            "  inflating: gtzan/Data/images_original/disco/disco00090.png  \n",
            "  inflating: gtzan/Data/images_original/disco/disco00091.png  \n",
            "  inflating: gtzan/Data/images_original/disco/disco00092.png  \n",
            "  inflating: gtzan/Data/images_original/disco/disco00093.png  \n",
            "  inflating: gtzan/Data/images_original/disco/disco00094.png  \n",
            "  inflating: gtzan/Data/images_original/disco/disco00095.png  \n",
            "  inflating: gtzan/Data/images_original/disco/disco00096.png  \n",
            "  inflating: gtzan/Data/images_original/disco/disco00097.png  \n",
            "  inflating: gtzan/Data/images_original/disco/disco00098.png  \n",
            "  inflating: gtzan/Data/images_original/disco/disco00099.png  \n",
            "  inflating: gtzan/Data/images_original/hiphop/hiphop00000.png  \n",
            "  inflating: gtzan/Data/images_original/hiphop/hiphop00001.png  \n",
            "  inflating: gtzan/Data/images_original/hiphop/hiphop00002.png  \n",
            "  inflating: gtzan/Data/images_original/hiphop/hiphop00003.png  \n",
            "  inflating: gtzan/Data/images_original/hiphop/hiphop00004.png  \n",
            "  inflating: gtzan/Data/images_original/hiphop/hiphop00005.png  \n",
            "  inflating: gtzan/Data/images_original/hiphop/hiphop00006.png  \n",
            "  inflating: gtzan/Data/images_original/hiphop/hiphop00007.png  \n",
            "  inflating: gtzan/Data/images_original/hiphop/hiphop00008.png  \n",
            "  inflating: gtzan/Data/images_original/hiphop/hiphop00009.png  \n",
            "  inflating: gtzan/Data/images_original/hiphop/hiphop00010.png  \n",
            "  inflating: gtzan/Data/images_original/hiphop/hiphop00011.png  \n",
            "  inflating: gtzan/Data/images_original/hiphop/hiphop00012.png  \n",
            "  inflating: gtzan/Data/images_original/hiphop/hiphop00013.png  \n",
            "  inflating: gtzan/Data/images_original/hiphop/hiphop00014.png  \n",
            "  inflating: gtzan/Data/images_original/hiphop/hiphop00015.png  \n",
            "  inflating: gtzan/Data/images_original/hiphop/hiphop00016.png  \n",
            "  inflating: gtzan/Data/images_original/hiphop/hiphop00017.png  \n",
            "  inflating: gtzan/Data/images_original/hiphop/hiphop00018.png  \n",
            "  inflating: gtzan/Data/images_original/hiphop/hiphop00019.png  \n",
            "  inflating: gtzan/Data/images_original/hiphop/hiphop00020.png  \n",
            "  inflating: gtzan/Data/images_original/hiphop/hiphop00021.png  \n",
            "  inflating: gtzan/Data/images_original/hiphop/hiphop00022.png  \n",
            "  inflating: gtzan/Data/images_original/hiphop/hiphop00023.png  \n",
            "  inflating: gtzan/Data/images_original/hiphop/hiphop00024.png  \n",
            "  inflating: gtzan/Data/images_original/hiphop/hiphop00025.png  \n",
            "  inflating: gtzan/Data/images_original/hiphop/hiphop00026.png  \n",
            "  inflating: gtzan/Data/images_original/hiphop/hiphop00027.png  \n",
            "  inflating: gtzan/Data/images_original/hiphop/hiphop00028.png  \n",
            "  inflating: gtzan/Data/images_original/hiphop/hiphop00029.png  \n",
            "  inflating: gtzan/Data/images_original/hiphop/hiphop00030.png  \n",
            "  inflating: gtzan/Data/images_original/hiphop/hiphop00031.png  \n",
            "  inflating: gtzan/Data/images_original/hiphop/hiphop00032.png  \n",
            "  inflating: gtzan/Data/images_original/hiphop/hiphop00033.png  \n",
            "  inflating: gtzan/Data/images_original/hiphop/hiphop00034.png  \n",
            "  inflating: gtzan/Data/images_original/hiphop/hiphop00035.png  \n",
            "  inflating: gtzan/Data/images_original/hiphop/hiphop00036.png  \n",
            "  inflating: gtzan/Data/images_original/hiphop/hiphop00037.png  \n",
            "  inflating: gtzan/Data/images_original/hiphop/hiphop00038.png  \n",
            "  inflating: gtzan/Data/images_original/hiphop/hiphop00039.png  \n",
            "  inflating: gtzan/Data/images_original/hiphop/hiphop00040.png  \n",
            "  inflating: gtzan/Data/images_original/hiphop/hiphop00041.png  \n",
            "  inflating: gtzan/Data/images_original/hiphop/hiphop00042.png  \n",
            "  inflating: gtzan/Data/images_original/hiphop/hiphop00043.png  \n",
            "  inflating: gtzan/Data/images_original/hiphop/hiphop00044.png  \n",
            "  inflating: gtzan/Data/images_original/hiphop/hiphop00045.png  \n",
            "  inflating: gtzan/Data/images_original/hiphop/hiphop00046.png  \n",
            "  inflating: gtzan/Data/images_original/hiphop/hiphop00047.png  \n",
            "  inflating: gtzan/Data/images_original/hiphop/hiphop00048.png  \n",
            "  inflating: gtzan/Data/images_original/hiphop/hiphop00049.png  \n",
            "  inflating: gtzan/Data/images_original/hiphop/hiphop00050.png  \n",
            "  inflating: gtzan/Data/images_original/hiphop/hiphop00051.png  \n",
            "  inflating: gtzan/Data/images_original/hiphop/hiphop00052.png  \n",
            "  inflating: gtzan/Data/images_original/hiphop/hiphop00053.png  \n",
            "  inflating: gtzan/Data/images_original/hiphop/hiphop00054.png  \n",
            "  inflating: gtzan/Data/images_original/hiphop/hiphop00055.png  \n",
            "  inflating: gtzan/Data/images_original/hiphop/hiphop00056.png  \n",
            "  inflating: gtzan/Data/images_original/hiphop/hiphop00057.png  \n",
            "  inflating: gtzan/Data/images_original/hiphop/hiphop00058.png  \n",
            "  inflating: gtzan/Data/images_original/hiphop/hiphop00059.png  \n",
            "  inflating: gtzan/Data/images_original/hiphop/hiphop00060.png  \n",
            "  inflating: gtzan/Data/images_original/hiphop/hiphop00061.png  \n",
            "  inflating: gtzan/Data/images_original/hiphop/hiphop00062.png  \n",
            "  inflating: gtzan/Data/images_original/hiphop/hiphop00063.png  \n",
            "  inflating: gtzan/Data/images_original/hiphop/hiphop00064.png  \n",
            "  inflating: gtzan/Data/images_original/hiphop/hiphop00065.png  \n",
            "  inflating: gtzan/Data/images_original/hiphop/hiphop00066.png  \n",
            "  inflating: gtzan/Data/images_original/hiphop/hiphop00067.png  \n",
            "  inflating: gtzan/Data/images_original/hiphop/hiphop00068.png  \n",
            "  inflating: gtzan/Data/images_original/hiphop/hiphop00069.png  \n",
            "  inflating: gtzan/Data/images_original/hiphop/hiphop00070.png  \n",
            "  inflating: gtzan/Data/images_original/hiphop/hiphop00071.png  \n",
            "  inflating: gtzan/Data/images_original/hiphop/hiphop00072.png  \n",
            "  inflating: gtzan/Data/images_original/hiphop/hiphop00073.png  \n",
            "  inflating: gtzan/Data/images_original/hiphop/hiphop00074.png  \n",
            "  inflating: gtzan/Data/images_original/hiphop/hiphop00075.png  \n",
            "  inflating: gtzan/Data/images_original/hiphop/hiphop00076.png  \n",
            "  inflating: gtzan/Data/images_original/hiphop/hiphop00077.png  \n",
            "  inflating: gtzan/Data/images_original/hiphop/hiphop00078.png  \n",
            "  inflating: gtzan/Data/images_original/hiphop/hiphop00079.png  \n",
            "  inflating: gtzan/Data/images_original/hiphop/hiphop00080.png  \n",
            "  inflating: gtzan/Data/images_original/hiphop/hiphop00081.png  \n",
            "  inflating: gtzan/Data/images_original/hiphop/hiphop00082.png  \n",
            "  inflating: gtzan/Data/images_original/hiphop/hiphop00083.png  \n",
            "  inflating: gtzan/Data/images_original/hiphop/hiphop00084.png  \n",
            "  inflating: gtzan/Data/images_original/hiphop/hiphop00085.png  \n",
            "  inflating: gtzan/Data/images_original/hiphop/hiphop00086.png  \n",
            "  inflating: gtzan/Data/images_original/hiphop/hiphop00087.png  \n",
            "  inflating: gtzan/Data/images_original/hiphop/hiphop00088.png  \n",
            "  inflating: gtzan/Data/images_original/hiphop/hiphop00089.png  \n",
            "  inflating: gtzan/Data/images_original/hiphop/hiphop00090.png  \n",
            "  inflating: gtzan/Data/images_original/hiphop/hiphop00091.png  \n",
            "  inflating: gtzan/Data/images_original/hiphop/hiphop00092.png  \n",
            "  inflating: gtzan/Data/images_original/hiphop/hiphop00093.png  \n",
            "  inflating: gtzan/Data/images_original/hiphop/hiphop00094.png  \n",
            "  inflating: gtzan/Data/images_original/hiphop/hiphop00095.png  \n",
            "  inflating: gtzan/Data/images_original/hiphop/hiphop00096.png  \n",
            "  inflating: gtzan/Data/images_original/hiphop/hiphop00097.png  \n",
            "  inflating: gtzan/Data/images_original/hiphop/hiphop00098.png  \n",
            "  inflating: gtzan/Data/images_original/hiphop/hiphop00099.png  \n",
            "  inflating: gtzan/Data/images_original/jazz/jazz00000.png  \n",
            "  inflating: gtzan/Data/images_original/jazz/jazz00001.png  \n",
            "  inflating: gtzan/Data/images_original/jazz/jazz00002.png  \n",
            "  inflating: gtzan/Data/images_original/jazz/jazz00003.png  \n",
            "  inflating: gtzan/Data/images_original/jazz/jazz00004.png  \n",
            "  inflating: gtzan/Data/images_original/jazz/jazz00005.png  \n",
            "  inflating: gtzan/Data/images_original/jazz/jazz00006.png  \n",
            "  inflating: gtzan/Data/images_original/jazz/jazz00007.png  \n",
            "  inflating: gtzan/Data/images_original/jazz/jazz00008.png  \n",
            "  inflating: gtzan/Data/images_original/jazz/jazz00009.png  \n",
            "  inflating: gtzan/Data/images_original/jazz/jazz00010.png  \n",
            "  inflating: gtzan/Data/images_original/jazz/jazz00011.png  \n",
            "  inflating: gtzan/Data/images_original/jazz/jazz00012.png  \n",
            "  inflating: gtzan/Data/images_original/jazz/jazz00013.png  \n",
            "  inflating: gtzan/Data/images_original/jazz/jazz00014.png  \n",
            "  inflating: gtzan/Data/images_original/jazz/jazz00015.png  \n",
            "  inflating: gtzan/Data/images_original/jazz/jazz00016.png  \n",
            "  inflating: gtzan/Data/images_original/jazz/jazz00017.png  \n",
            "  inflating: gtzan/Data/images_original/jazz/jazz00018.png  \n",
            "  inflating: gtzan/Data/images_original/jazz/jazz00019.png  \n",
            "  inflating: gtzan/Data/images_original/jazz/jazz00020.png  \n",
            "  inflating: gtzan/Data/images_original/jazz/jazz00021.png  \n",
            "  inflating: gtzan/Data/images_original/jazz/jazz00022.png  \n",
            "  inflating: gtzan/Data/images_original/jazz/jazz00023.png  \n",
            "  inflating: gtzan/Data/images_original/jazz/jazz00024.png  \n",
            "  inflating: gtzan/Data/images_original/jazz/jazz00025.png  \n",
            "  inflating: gtzan/Data/images_original/jazz/jazz00026.png  \n",
            "  inflating: gtzan/Data/images_original/jazz/jazz00027.png  \n",
            "  inflating: gtzan/Data/images_original/jazz/jazz00028.png  \n",
            "  inflating: gtzan/Data/images_original/jazz/jazz00029.png  \n",
            "  inflating: gtzan/Data/images_original/jazz/jazz00030.png  \n",
            "  inflating: gtzan/Data/images_original/jazz/jazz00031.png  \n",
            "  inflating: gtzan/Data/images_original/jazz/jazz00032.png  \n",
            "  inflating: gtzan/Data/images_original/jazz/jazz00033.png  \n",
            "  inflating: gtzan/Data/images_original/jazz/jazz00034.png  \n",
            "  inflating: gtzan/Data/images_original/jazz/jazz00035.png  \n",
            "  inflating: gtzan/Data/images_original/jazz/jazz00036.png  \n",
            "  inflating: gtzan/Data/images_original/jazz/jazz00037.png  \n",
            "  inflating: gtzan/Data/images_original/jazz/jazz00038.png  \n",
            "  inflating: gtzan/Data/images_original/jazz/jazz00039.png  \n",
            "  inflating: gtzan/Data/images_original/jazz/jazz00040.png  \n",
            "  inflating: gtzan/Data/images_original/jazz/jazz00041.png  \n",
            "  inflating: gtzan/Data/images_original/jazz/jazz00042.png  \n",
            "  inflating: gtzan/Data/images_original/jazz/jazz00043.png  \n",
            "  inflating: gtzan/Data/images_original/jazz/jazz00044.png  \n",
            "  inflating: gtzan/Data/images_original/jazz/jazz00045.png  \n",
            "  inflating: gtzan/Data/images_original/jazz/jazz00046.png  \n",
            "  inflating: gtzan/Data/images_original/jazz/jazz00047.png  \n",
            "  inflating: gtzan/Data/images_original/jazz/jazz00048.png  \n",
            "  inflating: gtzan/Data/images_original/jazz/jazz00049.png  \n",
            "  inflating: gtzan/Data/images_original/jazz/jazz00050.png  \n",
            "  inflating: gtzan/Data/images_original/jazz/jazz00051.png  \n",
            "  inflating: gtzan/Data/images_original/jazz/jazz00052.png  \n",
            "  inflating: gtzan/Data/images_original/jazz/jazz00053.png  \n",
            "  inflating: gtzan/Data/images_original/jazz/jazz00055.png  \n",
            "  inflating: gtzan/Data/images_original/jazz/jazz00056.png  \n",
            "  inflating: gtzan/Data/images_original/jazz/jazz00057.png  \n",
            "  inflating: gtzan/Data/images_original/jazz/jazz00058.png  \n",
            "  inflating: gtzan/Data/images_original/jazz/jazz00059.png  \n",
            "  inflating: gtzan/Data/images_original/jazz/jazz00060.png  \n",
            "  inflating: gtzan/Data/images_original/jazz/jazz00061.png  \n",
            "  inflating: gtzan/Data/images_original/jazz/jazz00062.png  \n",
            "  inflating: gtzan/Data/images_original/jazz/jazz00063.png  \n",
            "  inflating: gtzan/Data/images_original/jazz/jazz00064.png  \n",
            "  inflating: gtzan/Data/images_original/jazz/jazz00065.png  \n",
            "  inflating: gtzan/Data/images_original/jazz/jazz00066.png  \n",
            "  inflating: gtzan/Data/images_original/jazz/jazz00067.png  \n",
            "  inflating: gtzan/Data/images_original/jazz/jazz00068.png  \n",
            "  inflating: gtzan/Data/images_original/jazz/jazz00069.png  \n",
            "  inflating: gtzan/Data/images_original/jazz/jazz00070.png  \n",
            "  inflating: gtzan/Data/images_original/jazz/jazz00071.png  \n",
            "  inflating: gtzan/Data/images_original/jazz/jazz00072.png  \n",
            "  inflating: gtzan/Data/images_original/jazz/jazz00073.png  \n",
            "  inflating: gtzan/Data/images_original/jazz/jazz00074.png  \n",
            "  inflating: gtzan/Data/images_original/jazz/jazz00075.png  \n",
            "  inflating: gtzan/Data/images_original/jazz/jazz00076.png  \n",
            "  inflating: gtzan/Data/images_original/jazz/jazz00077.png  \n",
            "  inflating: gtzan/Data/images_original/jazz/jazz00078.png  \n",
            "  inflating: gtzan/Data/images_original/jazz/jazz00079.png  \n",
            "  inflating: gtzan/Data/images_original/jazz/jazz00080.png  \n",
            "  inflating: gtzan/Data/images_original/jazz/jazz00081.png  \n",
            "  inflating: gtzan/Data/images_original/jazz/jazz00082.png  \n",
            "  inflating: gtzan/Data/images_original/jazz/jazz00083.png  \n",
            "  inflating: gtzan/Data/images_original/jazz/jazz00084.png  \n",
            "  inflating: gtzan/Data/images_original/jazz/jazz00085.png  \n",
            "  inflating: gtzan/Data/images_original/jazz/jazz00086.png  \n",
            "  inflating: gtzan/Data/images_original/jazz/jazz00087.png  \n",
            "  inflating: gtzan/Data/images_original/jazz/jazz00088.png  \n",
            "  inflating: gtzan/Data/images_original/jazz/jazz00089.png  \n",
            "  inflating: gtzan/Data/images_original/jazz/jazz00090.png  \n",
            "  inflating: gtzan/Data/images_original/jazz/jazz00091.png  \n",
            "  inflating: gtzan/Data/images_original/jazz/jazz00092.png  \n",
            "  inflating: gtzan/Data/images_original/jazz/jazz00093.png  \n",
            "  inflating: gtzan/Data/images_original/jazz/jazz00094.png  \n",
            "  inflating: gtzan/Data/images_original/jazz/jazz00095.png  \n",
            "  inflating: gtzan/Data/images_original/jazz/jazz00096.png  \n",
            "  inflating: gtzan/Data/images_original/jazz/jazz00097.png  \n",
            "  inflating: gtzan/Data/images_original/jazz/jazz00098.png  \n",
            "  inflating: gtzan/Data/images_original/jazz/jazz00099.png  \n",
            "  inflating: gtzan/Data/images_original/metal/metal00000.png  \n",
            "  inflating: gtzan/Data/images_original/metal/metal00001.png  \n",
            "  inflating: gtzan/Data/images_original/metal/metal00002.png  \n",
            "  inflating: gtzan/Data/images_original/metal/metal00003.png  \n",
            "  inflating: gtzan/Data/images_original/metal/metal00004.png  \n",
            "  inflating: gtzan/Data/images_original/metal/metal00005.png  \n",
            "  inflating: gtzan/Data/images_original/metal/metal00006.png  \n",
            "  inflating: gtzan/Data/images_original/metal/metal00007.png  \n",
            "  inflating: gtzan/Data/images_original/metal/metal00008.png  \n",
            "  inflating: gtzan/Data/images_original/metal/metal00009.png  \n",
            "  inflating: gtzan/Data/images_original/metal/metal00010.png  \n",
            "  inflating: gtzan/Data/images_original/metal/metal00011.png  \n",
            "  inflating: gtzan/Data/images_original/metal/metal00012.png  \n",
            "  inflating: gtzan/Data/images_original/metal/metal00013.png  \n",
            "  inflating: gtzan/Data/images_original/metal/metal00014.png  \n",
            "  inflating: gtzan/Data/images_original/metal/metal00015.png  \n",
            "  inflating: gtzan/Data/images_original/metal/metal00016.png  \n",
            "  inflating: gtzan/Data/images_original/metal/metal00017.png  \n",
            "  inflating: gtzan/Data/images_original/metal/metal00018.png  \n",
            "  inflating: gtzan/Data/images_original/metal/metal00019.png  \n",
            "  inflating: gtzan/Data/images_original/metal/metal00020.png  \n",
            "  inflating: gtzan/Data/images_original/metal/metal00021.png  \n",
            "  inflating: gtzan/Data/images_original/metal/metal00022.png  \n",
            "  inflating: gtzan/Data/images_original/metal/metal00023.png  \n",
            "  inflating: gtzan/Data/images_original/metal/metal00024.png  \n",
            "  inflating: gtzan/Data/images_original/metal/metal00025.png  \n",
            "  inflating: gtzan/Data/images_original/metal/metal00026.png  \n",
            "  inflating: gtzan/Data/images_original/metal/metal00027.png  \n",
            "  inflating: gtzan/Data/images_original/metal/metal00028.png  \n",
            "  inflating: gtzan/Data/images_original/metal/metal00029.png  \n",
            "  inflating: gtzan/Data/images_original/metal/metal00030.png  \n",
            "  inflating: gtzan/Data/images_original/metal/metal00031.png  \n",
            "  inflating: gtzan/Data/images_original/metal/metal00032.png  \n",
            "  inflating: gtzan/Data/images_original/metal/metal00033.png  \n",
            "  inflating: gtzan/Data/images_original/metal/metal00034.png  \n",
            "  inflating: gtzan/Data/images_original/metal/metal00035.png  \n",
            "  inflating: gtzan/Data/images_original/metal/metal00036.png  \n",
            "  inflating: gtzan/Data/images_original/metal/metal00037.png  \n",
            "  inflating: gtzan/Data/images_original/metal/metal00038.png  \n",
            "  inflating: gtzan/Data/images_original/metal/metal00039.png  \n",
            "  inflating: gtzan/Data/images_original/metal/metal00040.png  \n",
            "  inflating: gtzan/Data/images_original/metal/metal00041.png  \n",
            "  inflating: gtzan/Data/images_original/metal/metal00042.png  \n",
            "  inflating: gtzan/Data/images_original/metal/metal00043.png  \n",
            "  inflating: gtzan/Data/images_original/metal/metal00044.png  \n",
            "  inflating: gtzan/Data/images_original/metal/metal00045.png  \n",
            "  inflating: gtzan/Data/images_original/metal/metal00046.png  \n",
            "  inflating: gtzan/Data/images_original/metal/metal00047.png  \n",
            "  inflating: gtzan/Data/images_original/metal/metal00048.png  \n",
            "  inflating: gtzan/Data/images_original/metal/metal00049.png  \n",
            "  inflating: gtzan/Data/images_original/metal/metal00050.png  \n",
            "  inflating: gtzan/Data/images_original/metal/metal00051.png  \n",
            "  inflating: gtzan/Data/images_original/metal/metal00052.png  \n",
            "  inflating: gtzan/Data/images_original/metal/metal00053.png  \n",
            "  inflating: gtzan/Data/images_original/metal/metal00054.png  \n",
            "  inflating: gtzan/Data/images_original/metal/metal00055.png  \n",
            "  inflating: gtzan/Data/images_original/metal/metal00056.png  \n",
            "  inflating: gtzan/Data/images_original/metal/metal00057.png  \n",
            "  inflating: gtzan/Data/images_original/metal/metal00058.png  \n",
            "  inflating: gtzan/Data/images_original/metal/metal00059.png  \n",
            "  inflating: gtzan/Data/images_original/metal/metal00060.png  \n",
            "  inflating: gtzan/Data/images_original/metal/metal00061.png  \n",
            "  inflating: gtzan/Data/images_original/metal/metal00062.png  \n",
            "  inflating: gtzan/Data/images_original/metal/metal00063.png  \n",
            "  inflating: gtzan/Data/images_original/metal/metal00064.png  \n",
            "  inflating: gtzan/Data/images_original/metal/metal00065.png  \n",
            "  inflating: gtzan/Data/images_original/metal/metal00066.png  \n",
            "  inflating: gtzan/Data/images_original/metal/metal00067.png  \n",
            "  inflating: gtzan/Data/images_original/metal/metal00068.png  \n",
            "  inflating: gtzan/Data/images_original/metal/metal00069.png  \n",
            "  inflating: gtzan/Data/images_original/metal/metal00070.png  \n",
            "  inflating: gtzan/Data/images_original/metal/metal00071.png  \n",
            "  inflating: gtzan/Data/images_original/metal/metal00072.png  \n",
            "  inflating: gtzan/Data/images_original/metal/metal00073.png  \n",
            "  inflating: gtzan/Data/images_original/metal/metal00074.png  \n",
            "  inflating: gtzan/Data/images_original/metal/metal00075.png  \n",
            "  inflating: gtzan/Data/images_original/metal/metal00076.png  \n",
            "  inflating: gtzan/Data/images_original/metal/metal00077.png  \n",
            "  inflating: gtzan/Data/images_original/metal/metal00078.png  \n",
            "  inflating: gtzan/Data/images_original/metal/metal00079.png  \n",
            "  inflating: gtzan/Data/images_original/metal/metal00080.png  \n",
            "  inflating: gtzan/Data/images_original/metal/metal00081.png  \n",
            "  inflating: gtzan/Data/images_original/metal/metal00082.png  \n",
            "  inflating: gtzan/Data/images_original/metal/metal00083.png  \n",
            "  inflating: gtzan/Data/images_original/metal/metal00084.png  \n",
            "  inflating: gtzan/Data/images_original/metal/metal00085.png  \n",
            "  inflating: gtzan/Data/images_original/metal/metal00086.png  \n",
            "  inflating: gtzan/Data/images_original/metal/metal00087.png  \n",
            "  inflating: gtzan/Data/images_original/metal/metal00088.png  \n",
            "  inflating: gtzan/Data/images_original/metal/metal00089.png  \n",
            "  inflating: gtzan/Data/images_original/metal/metal00090.png  \n",
            "  inflating: gtzan/Data/images_original/metal/metal00091.png  \n",
            "  inflating: gtzan/Data/images_original/metal/metal00092.png  \n",
            "  inflating: gtzan/Data/images_original/metal/metal00093.png  \n",
            "  inflating: gtzan/Data/images_original/metal/metal00094.png  \n",
            "  inflating: gtzan/Data/images_original/metal/metal00095.png  \n",
            "  inflating: gtzan/Data/images_original/metal/metal00096.png  \n",
            "  inflating: gtzan/Data/images_original/metal/metal00097.png  \n",
            "  inflating: gtzan/Data/images_original/metal/metal00098.png  \n",
            "  inflating: gtzan/Data/images_original/metal/metal00099.png  \n",
            "  inflating: gtzan/Data/images_original/pop/pop00000.png  \n",
            "  inflating: gtzan/Data/images_original/pop/pop00001.png  \n",
            "  inflating: gtzan/Data/images_original/pop/pop00002.png  \n",
            "  inflating: gtzan/Data/images_original/pop/pop00003.png  \n",
            "  inflating: gtzan/Data/images_original/pop/pop00004.png  \n",
            "  inflating: gtzan/Data/images_original/pop/pop00005.png  \n",
            "  inflating: gtzan/Data/images_original/pop/pop00006.png  \n",
            "  inflating: gtzan/Data/images_original/pop/pop00007.png  \n",
            "  inflating: gtzan/Data/images_original/pop/pop00008.png  \n",
            "  inflating: gtzan/Data/images_original/pop/pop00009.png  \n",
            "  inflating: gtzan/Data/images_original/pop/pop00010.png  \n",
            "  inflating: gtzan/Data/images_original/pop/pop00011.png  \n",
            "  inflating: gtzan/Data/images_original/pop/pop00012.png  \n",
            "  inflating: gtzan/Data/images_original/pop/pop00013.png  \n",
            "  inflating: gtzan/Data/images_original/pop/pop00014.png  \n",
            "  inflating: gtzan/Data/images_original/pop/pop00015.png  \n",
            "  inflating: gtzan/Data/images_original/pop/pop00016.png  \n",
            "  inflating: gtzan/Data/images_original/pop/pop00017.png  \n",
            "  inflating: gtzan/Data/images_original/pop/pop00018.png  \n",
            "  inflating: gtzan/Data/images_original/pop/pop00019.png  \n",
            "  inflating: gtzan/Data/images_original/pop/pop00020.png  \n",
            "  inflating: gtzan/Data/images_original/pop/pop00021.png  \n",
            "  inflating: gtzan/Data/images_original/pop/pop00022.png  \n",
            "  inflating: gtzan/Data/images_original/pop/pop00023.png  \n",
            "  inflating: gtzan/Data/images_original/pop/pop00024.png  \n",
            "  inflating: gtzan/Data/images_original/pop/pop00025.png  \n",
            "  inflating: gtzan/Data/images_original/pop/pop00026.png  \n",
            "  inflating: gtzan/Data/images_original/pop/pop00027.png  \n",
            "  inflating: gtzan/Data/images_original/pop/pop00028.png  \n",
            "  inflating: gtzan/Data/images_original/pop/pop00029.png  \n",
            "  inflating: gtzan/Data/images_original/pop/pop00030.png  \n",
            "  inflating: gtzan/Data/images_original/pop/pop00031.png  \n",
            "  inflating: gtzan/Data/images_original/pop/pop00032.png  \n",
            "  inflating: gtzan/Data/images_original/pop/pop00033.png  \n",
            "  inflating: gtzan/Data/images_original/pop/pop00034.png  \n",
            "  inflating: gtzan/Data/images_original/pop/pop00035.png  \n",
            "  inflating: gtzan/Data/images_original/pop/pop00036.png  \n",
            "  inflating: gtzan/Data/images_original/pop/pop00037.png  \n",
            "  inflating: gtzan/Data/images_original/pop/pop00038.png  \n",
            "  inflating: gtzan/Data/images_original/pop/pop00039.png  \n",
            "  inflating: gtzan/Data/images_original/pop/pop00040.png  \n",
            "  inflating: gtzan/Data/images_original/pop/pop00041.png  \n",
            "  inflating: gtzan/Data/images_original/pop/pop00042.png  \n",
            "  inflating: gtzan/Data/images_original/pop/pop00043.png  \n",
            "  inflating: gtzan/Data/images_original/pop/pop00044.png  \n",
            "  inflating: gtzan/Data/images_original/pop/pop00045.png  \n",
            "  inflating: gtzan/Data/images_original/pop/pop00046.png  \n",
            "  inflating: gtzan/Data/images_original/pop/pop00047.png  \n",
            "  inflating: gtzan/Data/images_original/pop/pop00048.png  \n",
            "  inflating: gtzan/Data/images_original/pop/pop00049.png  \n",
            "  inflating: gtzan/Data/images_original/pop/pop00050.png  \n",
            "  inflating: gtzan/Data/images_original/pop/pop00051.png  \n",
            "  inflating: gtzan/Data/images_original/pop/pop00052.png  \n",
            "  inflating: gtzan/Data/images_original/pop/pop00053.png  \n",
            "  inflating: gtzan/Data/images_original/pop/pop00054.png  \n",
            "  inflating: gtzan/Data/images_original/pop/pop00055.png  \n",
            "  inflating: gtzan/Data/images_original/pop/pop00056.png  \n",
            "  inflating: gtzan/Data/images_original/pop/pop00057.png  \n",
            "  inflating: gtzan/Data/images_original/pop/pop00058.png  \n",
            "  inflating: gtzan/Data/images_original/pop/pop00059.png  \n",
            "  inflating: gtzan/Data/images_original/pop/pop00060.png  \n",
            "  inflating: gtzan/Data/images_original/pop/pop00061.png  \n",
            "  inflating: gtzan/Data/images_original/pop/pop00062.png  \n",
            "  inflating: gtzan/Data/images_original/pop/pop00063.png  \n",
            "  inflating: gtzan/Data/images_original/pop/pop00064.png  \n",
            "  inflating: gtzan/Data/images_original/pop/pop00065.png  \n",
            "  inflating: gtzan/Data/images_original/pop/pop00066.png  \n",
            "  inflating: gtzan/Data/images_original/pop/pop00067.png  \n",
            "  inflating: gtzan/Data/images_original/pop/pop00068.png  \n",
            "  inflating: gtzan/Data/images_original/pop/pop00069.png  \n",
            "  inflating: gtzan/Data/images_original/pop/pop00070.png  \n",
            "  inflating: gtzan/Data/images_original/pop/pop00071.png  \n",
            "  inflating: gtzan/Data/images_original/pop/pop00072.png  \n",
            "  inflating: gtzan/Data/images_original/pop/pop00073.png  \n",
            "  inflating: gtzan/Data/images_original/pop/pop00074.png  \n",
            "  inflating: gtzan/Data/images_original/pop/pop00075.png  \n",
            "  inflating: gtzan/Data/images_original/pop/pop00076.png  \n",
            "  inflating: gtzan/Data/images_original/pop/pop00077.png  \n",
            "  inflating: gtzan/Data/images_original/pop/pop00078.png  \n",
            "  inflating: gtzan/Data/images_original/pop/pop00079.png  \n",
            "  inflating: gtzan/Data/images_original/pop/pop00080.png  \n",
            "  inflating: gtzan/Data/images_original/pop/pop00081.png  \n",
            "  inflating: gtzan/Data/images_original/pop/pop00082.png  \n",
            "  inflating: gtzan/Data/images_original/pop/pop00083.png  \n",
            "  inflating: gtzan/Data/images_original/pop/pop00084.png  \n",
            "  inflating: gtzan/Data/images_original/pop/pop00085.png  \n",
            "  inflating: gtzan/Data/images_original/pop/pop00086.png  \n",
            "  inflating: gtzan/Data/images_original/pop/pop00087.png  \n",
            "  inflating: gtzan/Data/images_original/pop/pop00088.png  \n",
            "  inflating: gtzan/Data/images_original/pop/pop00089.png  \n",
            "  inflating: gtzan/Data/images_original/pop/pop00090.png  \n",
            "  inflating: gtzan/Data/images_original/pop/pop00091.png  \n",
            "  inflating: gtzan/Data/images_original/pop/pop00092.png  \n",
            "  inflating: gtzan/Data/images_original/pop/pop00093.png  \n",
            "  inflating: gtzan/Data/images_original/pop/pop00094.png  \n",
            "  inflating: gtzan/Data/images_original/pop/pop00095.png  \n",
            "  inflating: gtzan/Data/images_original/pop/pop00096.png  \n",
            "  inflating: gtzan/Data/images_original/pop/pop00097.png  \n",
            "  inflating: gtzan/Data/images_original/pop/pop00098.png  \n",
            "  inflating: gtzan/Data/images_original/pop/pop00099.png  \n",
            "  inflating: gtzan/Data/images_original/reggae/reggae00000.png  \n",
            "  inflating: gtzan/Data/images_original/reggae/reggae00001.png  \n",
            "  inflating: gtzan/Data/images_original/reggae/reggae00002.png  \n",
            "  inflating: gtzan/Data/images_original/reggae/reggae00003.png  \n",
            "  inflating: gtzan/Data/images_original/reggae/reggae00004.png  \n",
            "  inflating: gtzan/Data/images_original/reggae/reggae00005.png  \n",
            "  inflating: gtzan/Data/images_original/reggae/reggae00006.png  \n",
            "  inflating: gtzan/Data/images_original/reggae/reggae00007.png  \n",
            "  inflating: gtzan/Data/images_original/reggae/reggae00008.png  \n",
            "  inflating: gtzan/Data/images_original/reggae/reggae00009.png  \n",
            "  inflating: gtzan/Data/images_original/reggae/reggae00010.png  \n",
            "  inflating: gtzan/Data/images_original/reggae/reggae00011.png  \n",
            "  inflating: gtzan/Data/images_original/reggae/reggae00012.png  \n",
            "  inflating: gtzan/Data/images_original/reggae/reggae00013.png  \n",
            "  inflating: gtzan/Data/images_original/reggae/reggae00014.png  \n",
            "  inflating: gtzan/Data/images_original/reggae/reggae00015.png  \n",
            "  inflating: gtzan/Data/images_original/reggae/reggae00016.png  \n",
            "  inflating: gtzan/Data/images_original/reggae/reggae00017.png  \n",
            "  inflating: gtzan/Data/images_original/reggae/reggae00018.png  \n",
            "  inflating: gtzan/Data/images_original/reggae/reggae00019.png  \n",
            "  inflating: gtzan/Data/images_original/reggae/reggae00020.png  \n",
            "  inflating: gtzan/Data/images_original/reggae/reggae00021.png  \n",
            "  inflating: gtzan/Data/images_original/reggae/reggae00022.png  \n",
            "  inflating: gtzan/Data/images_original/reggae/reggae00023.png  \n",
            "  inflating: gtzan/Data/images_original/reggae/reggae00024.png  \n",
            "  inflating: gtzan/Data/images_original/reggae/reggae00025.png  \n",
            "  inflating: gtzan/Data/images_original/reggae/reggae00026.png  \n",
            "  inflating: gtzan/Data/images_original/reggae/reggae00027.png  \n",
            "  inflating: gtzan/Data/images_original/reggae/reggae00028.png  \n",
            "  inflating: gtzan/Data/images_original/reggae/reggae00029.png  \n",
            "  inflating: gtzan/Data/images_original/reggae/reggae00030.png  \n",
            "  inflating: gtzan/Data/images_original/reggae/reggae00031.png  \n",
            "  inflating: gtzan/Data/images_original/reggae/reggae00032.png  \n",
            "  inflating: gtzan/Data/images_original/reggae/reggae00033.png  \n",
            "  inflating: gtzan/Data/images_original/reggae/reggae00034.png  \n",
            "  inflating: gtzan/Data/images_original/reggae/reggae00035.png  \n",
            "  inflating: gtzan/Data/images_original/reggae/reggae00036.png  \n",
            "  inflating: gtzan/Data/images_original/reggae/reggae00037.png  \n",
            "  inflating: gtzan/Data/images_original/reggae/reggae00038.png  \n",
            "  inflating: gtzan/Data/images_original/reggae/reggae00039.png  \n",
            "  inflating: gtzan/Data/images_original/reggae/reggae00040.png  \n",
            "  inflating: gtzan/Data/images_original/reggae/reggae00041.png  \n",
            "  inflating: gtzan/Data/images_original/reggae/reggae00042.png  \n",
            "  inflating: gtzan/Data/images_original/reggae/reggae00043.png  \n",
            "  inflating: gtzan/Data/images_original/reggae/reggae00044.png  \n",
            "  inflating: gtzan/Data/images_original/reggae/reggae00045.png  \n",
            "  inflating: gtzan/Data/images_original/reggae/reggae00046.png  \n",
            "  inflating: gtzan/Data/images_original/reggae/reggae00047.png  \n",
            "  inflating: gtzan/Data/images_original/reggae/reggae00048.png  \n",
            "  inflating: gtzan/Data/images_original/reggae/reggae00049.png  \n",
            "  inflating: gtzan/Data/images_original/reggae/reggae00050.png  \n",
            "  inflating: gtzan/Data/images_original/reggae/reggae00051.png  \n",
            "  inflating: gtzan/Data/images_original/reggae/reggae00052.png  \n",
            "  inflating: gtzan/Data/images_original/reggae/reggae00053.png  \n",
            "  inflating: gtzan/Data/images_original/reggae/reggae00054.png  \n",
            "  inflating: gtzan/Data/images_original/reggae/reggae00055.png  \n",
            "  inflating: gtzan/Data/images_original/reggae/reggae00056.png  \n",
            "  inflating: gtzan/Data/images_original/reggae/reggae00057.png  \n",
            "  inflating: gtzan/Data/images_original/reggae/reggae00058.png  \n",
            "  inflating: gtzan/Data/images_original/reggae/reggae00059.png  \n",
            "  inflating: gtzan/Data/images_original/reggae/reggae00060.png  \n",
            "  inflating: gtzan/Data/images_original/reggae/reggae00061.png  \n",
            "  inflating: gtzan/Data/images_original/reggae/reggae00062.png  \n",
            "  inflating: gtzan/Data/images_original/reggae/reggae00063.png  \n",
            "  inflating: gtzan/Data/images_original/reggae/reggae00064.png  \n",
            "  inflating: gtzan/Data/images_original/reggae/reggae00065.png  \n",
            "  inflating: gtzan/Data/images_original/reggae/reggae00066.png  \n",
            "  inflating: gtzan/Data/images_original/reggae/reggae00067.png  \n",
            "  inflating: gtzan/Data/images_original/reggae/reggae00068.png  \n",
            "  inflating: gtzan/Data/images_original/reggae/reggae00069.png  \n",
            "  inflating: gtzan/Data/images_original/reggae/reggae00070.png  \n",
            "  inflating: gtzan/Data/images_original/reggae/reggae00071.png  \n",
            "  inflating: gtzan/Data/images_original/reggae/reggae00072.png  \n",
            "  inflating: gtzan/Data/images_original/reggae/reggae00073.png  \n",
            "  inflating: gtzan/Data/images_original/reggae/reggae00074.png  \n",
            "  inflating: gtzan/Data/images_original/reggae/reggae00075.png  \n",
            "  inflating: gtzan/Data/images_original/reggae/reggae00076.png  \n",
            "  inflating: gtzan/Data/images_original/reggae/reggae00077.png  \n",
            "  inflating: gtzan/Data/images_original/reggae/reggae00078.png  \n",
            "  inflating: gtzan/Data/images_original/reggae/reggae00079.png  \n",
            "  inflating: gtzan/Data/images_original/reggae/reggae00080.png  \n",
            "  inflating: gtzan/Data/images_original/reggae/reggae00081.png  \n",
            "  inflating: gtzan/Data/images_original/reggae/reggae00082.png  \n",
            "  inflating: gtzan/Data/images_original/reggae/reggae00083.png  \n",
            "  inflating: gtzan/Data/images_original/reggae/reggae00084.png  \n",
            "  inflating: gtzan/Data/images_original/reggae/reggae00085.png  \n",
            "  inflating: gtzan/Data/images_original/reggae/reggae00086.png  \n",
            "  inflating: gtzan/Data/images_original/reggae/reggae00087.png  \n",
            "  inflating: gtzan/Data/images_original/reggae/reggae00088.png  \n",
            "  inflating: gtzan/Data/images_original/reggae/reggae00089.png  \n",
            "  inflating: gtzan/Data/images_original/reggae/reggae00090.png  \n",
            "  inflating: gtzan/Data/images_original/reggae/reggae00091.png  \n",
            "  inflating: gtzan/Data/images_original/reggae/reggae00092.png  \n",
            "  inflating: gtzan/Data/images_original/reggae/reggae00093.png  \n",
            "  inflating: gtzan/Data/images_original/reggae/reggae00094.png  \n",
            "  inflating: gtzan/Data/images_original/reggae/reggae00095.png  \n",
            "  inflating: gtzan/Data/images_original/reggae/reggae00096.png  \n",
            "  inflating: gtzan/Data/images_original/reggae/reggae00097.png  \n",
            "  inflating: gtzan/Data/images_original/reggae/reggae00098.png  \n",
            "  inflating: gtzan/Data/images_original/reggae/reggae00099.png  \n",
            "  inflating: gtzan/Data/images_original/rock/rock00000.png  \n",
            "  inflating: gtzan/Data/images_original/rock/rock00001.png  \n",
            "  inflating: gtzan/Data/images_original/rock/rock00002.png  \n",
            "  inflating: gtzan/Data/images_original/rock/rock00003.png  \n",
            "  inflating: gtzan/Data/images_original/rock/rock00004.png  \n",
            "  inflating: gtzan/Data/images_original/rock/rock00005.png  \n",
            "  inflating: gtzan/Data/images_original/rock/rock00006.png  \n",
            "  inflating: gtzan/Data/images_original/rock/rock00007.png  \n",
            "  inflating: gtzan/Data/images_original/rock/rock00008.png  \n",
            "  inflating: gtzan/Data/images_original/rock/rock00009.png  \n",
            "  inflating: gtzan/Data/images_original/rock/rock00010.png  \n",
            "  inflating: gtzan/Data/images_original/rock/rock00011.png  \n",
            "  inflating: gtzan/Data/images_original/rock/rock00012.png  \n",
            "  inflating: gtzan/Data/images_original/rock/rock00013.png  \n",
            "  inflating: gtzan/Data/images_original/rock/rock00014.png  \n",
            "  inflating: gtzan/Data/images_original/rock/rock00015.png  \n",
            "  inflating: gtzan/Data/images_original/rock/rock00016.png  \n",
            "  inflating: gtzan/Data/images_original/rock/rock00017.png  \n",
            "  inflating: gtzan/Data/images_original/rock/rock00018.png  \n",
            "  inflating: gtzan/Data/images_original/rock/rock00019.png  \n",
            "  inflating: gtzan/Data/images_original/rock/rock00020.png  \n",
            "  inflating: gtzan/Data/images_original/rock/rock00021.png  \n",
            "  inflating: gtzan/Data/images_original/rock/rock00022.png  \n",
            "  inflating: gtzan/Data/images_original/rock/rock00023.png  \n",
            "  inflating: gtzan/Data/images_original/rock/rock00024.png  \n",
            "  inflating: gtzan/Data/images_original/rock/rock00025.png  \n",
            "  inflating: gtzan/Data/images_original/rock/rock00026.png  \n",
            "  inflating: gtzan/Data/images_original/rock/rock00027.png  \n",
            "  inflating: gtzan/Data/images_original/rock/rock00028.png  \n",
            "  inflating: gtzan/Data/images_original/rock/rock00029.png  \n",
            "  inflating: gtzan/Data/images_original/rock/rock00030.png  \n",
            "  inflating: gtzan/Data/images_original/rock/rock00031.png  \n",
            "  inflating: gtzan/Data/images_original/rock/rock00032.png  \n",
            "  inflating: gtzan/Data/images_original/rock/rock00033.png  \n",
            "  inflating: gtzan/Data/images_original/rock/rock00034.png  \n",
            "  inflating: gtzan/Data/images_original/rock/rock00035.png  \n",
            "  inflating: gtzan/Data/images_original/rock/rock00036.png  \n",
            "  inflating: gtzan/Data/images_original/rock/rock00037.png  \n",
            "  inflating: gtzan/Data/images_original/rock/rock00038.png  \n",
            "  inflating: gtzan/Data/images_original/rock/rock00039.png  \n",
            "  inflating: gtzan/Data/images_original/rock/rock00040.png  \n",
            "  inflating: gtzan/Data/images_original/rock/rock00041.png  \n",
            "  inflating: gtzan/Data/images_original/rock/rock00042.png  \n",
            "  inflating: gtzan/Data/images_original/rock/rock00043.png  \n",
            "  inflating: gtzan/Data/images_original/rock/rock00044.png  \n",
            "  inflating: gtzan/Data/images_original/rock/rock00045.png  \n",
            "  inflating: gtzan/Data/images_original/rock/rock00046.png  \n",
            "  inflating: gtzan/Data/images_original/rock/rock00047.png  \n",
            "  inflating: gtzan/Data/images_original/rock/rock00048.png  \n",
            "  inflating: gtzan/Data/images_original/rock/rock00049.png  \n",
            "  inflating: gtzan/Data/images_original/rock/rock00050.png  \n",
            "  inflating: gtzan/Data/images_original/rock/rock00051.png  \n",
            "  inflating: gtzan/Data/images_original/rock/rock00052.png  \n",
            "  inflating: gtzan/Data/images_original/rock/rock00053.png  \n",
            "  inflating: gtzan/Data/images_original/rock/rock00054.png  \n",
            "  inflating: gtzan/Data/images_original/rock/rock00055.png  \n",
            "  inflating: gtzan/Data/images_original/rock/rock00056.png  \n",
            "  inflating: gtzan/Data/images_original/rock/rock00057.png  \n",
            "  inflating: gtzan/Data/images_original/rock/rock00058.png  \n",
            "  inflating: gtzan/Data/images_original/rock/rock00059.png  \n",
            "  inflating: gtzan/Data/images_original/rock/rock00060.png  \n",
            "  inflating: gtzan/Data/images_original/rock/rock00061.png  \n",
            "  inflating: gtzan/Data/images_original/rock/rock00062.png  \n",
            "  inflating: gtzan/Data/images_original/rock/rock00063.png  \n",
            "  inflating: gtzan/Data/images_original/rock/rock00064.png  \n",
            "  inflating: gtzan/Data/images_original/rock/rock00065.png  \n",
            "  inflating: gtzan/Data/images_original/rock/rock00066.png  \n",
            "  inflating: gtzan/Data/images_original/rock/rock00067.png  \n",
            "  inflating: gtzan/Data/images_original/rock/rock00068.png  \n",
            "  inflating: gtzan/Data/images_original/rock/rock00069.png  \n",
            "  inflating: gtzan/Data/images_original/rock/rock00070.png  \n",
            "  inflating: gtzan/Data/images_original/rock/rock00071.png  \n",
            "  inflating: gtzan/Data/images_original/rock/rock00072.png  \n",
            "  inflating: gtzan/Data/images_original/rock/rock00073.png  \n",
            "  inflating: gtzan/Data/images_original/rock/rock00074.png  \n",
            "  inflating: gtzan/Data/images_original/rock/rock00075.png  \n",
            "  inflating: gtzan/Data/images_original/rock/rock00076.png  \n",
            "  inflating: gtzan/Data/images_original/rock/rock00077.png  \n",
            "  inflating: gtzan/Data/images_original/rock/rock00078.png  \n",
            "  inflating: gtzan/Data/images_original/rock/rock00079.png  \n",
            "  inflating: gtzan/Data/images_original/rock/rock00080.png  \n",
            "  inflating: gtzan/Data/images_original/rock/rock00081.png  \n",
            "  inflating: gtzan/Data/images_original/rock/rock00082.png  \n",
            "  inflating: gtzan/Data/images_original/rock/rock00083.png  \n",
            "  inflating: gtzan/Data/images_original/rock/rock00084.png  \n",
            "  inflating: gtzan/Data/images_original/rock/rock00085.png  \n",
            "  inflating: gtzan/Data/images_original/rock/rock00086.png  \n",
            "  inflating: gtzan/Data/images_original/rock/rock00087.png  \n",
            "  inflating: gtzan/Data/images_original/rock/rock00088.png  \n",
            "  inflating: gtzan/Data/images_original/rock/rock00089.png  \n",
            "  inflating: gtzan/Data/images_original/rock/rock00090.png  \n",
            "  inflating: gtzan/Data/images_original/rock/rock00091.png  \n",
            "  inflating: gtzan/Data/images_original/rock/rock00092.png  \n",
            "  inflating: gtzan/Data/images_original/rock/rock00093.png  \n",
            "  inflating: gtzan/Data/images_original/rock/rock00094.png  \n",
            "  inflating: gtzan/Data/images_original/rock/rock00095.png  \n",
            "  inflating: gtzan/Data/images_original/rock/rock00096.png  \n",
            "  inflating: gtzan/Data/images_original/rock/rock00097.png  \n",
            "  inflating: gtzan/Data/images_original/rock/rock00098.png  \n",
            "  inflating: gtzan/Data/images_original/rock/rock00099.png  \n"
          ]
        }
      ]
    },
    {
      "cell_type": "markdown",
      "source": [
        "# **Image pipeline**"
      ],
      "metadata": {
        "id": "IlbY8BWrKi4O"
      }
    },
    {
      "cell_type": "code",
      "source": [
        "# Image transform: resize to 180×180 & convert to tensor\n",
        "transform = tv.transforms.Compose([tv.transforms.Resize((180, 180)), tv.transforms.ToTensor()])"
      ],
      "metadata": {
        "id": "82G08ReWKr64"
      },
      "execution_count": 51,
      "outputs": []
    },
    {
      "cell_type": "code",
      "source": [
        "# GTZAN image dataset\n",
        "dataset = ImageFolder(root='/content/gtzan/Data/images_original', transform=transform)"
      ],
      "metadata": {
        "id": "FwSKlmCNK0EP"
      },
      "execution_count": 52,
      "outputs": []
    },
    {
      "cell_type": "code",
      "source": [
        "# Define train, val and test set sizes\n",
        "num_imgs = len(dataset)\n",
        "train_size  = int(0.7 * num_imgs)\n",
        "val_size = int(0.2 * num_imgs)\n",
        "test_size = num_imgs - train_size - val_size"
      ],
      "metadata": {
        "id": "x_UXGZ-MPcxU"
      },
      "execution_count": 53,
      "outputs": []
    },
    {
      "cell_type": "code",
      "source": [
        "# Randomly split the dataset into train, val and test sets\n",
        "train_imgs, val_imgs, test_imgs = random_split(dataset, [train_size, val_size, test_size])"
      ],
      "metadata": {
        "id": "fa6v2LVKPebU"
      },
      "execution_count": 54,
      "outputs": []
    },
    {
      "cell_type": "code",
      "source": [
        "# Image DataLoaders: batch=32, shuffle only for training\n",
        "train_loader = DataLoader(train_imgs, batch_size=32, shuffle=True, num_workers=2)\n",
        "val_loader = DataLoader(val_imgs, batch_size=32, shuffle=False, num_workers=2)\n",
        "test_loader = DataLoader(test_imgs, batch_size=32, shuffle=False, num_workers=2)"
      ],
      "metadata": {
        "id": "v8rkAqiMK1dt"
      },
      "execution_count": 55,
      "outputs": []
    },
    {
      "cell_type": "code",
      "source": [
        "# Get first train batch and its labels\n",
        "itr = iter(train_loader)\n",
        "batch, labels = next(itr)\n",
        "\n",
        "# Print batch shape and labels shape\n",
        "print(f'Data shape: {batch.shape}')\n",
        "print(f'Label shape: {labels.shape}')"
      ],
      "metadata": {
        "colab": {
          "base_uri": "https://localhost:8080/"
        },
        "id": "KOwVBZKBizVb",
        "outputId": "c3d3db99-98e9-441a-c016-1e21bd15d9c2"
      },
      "execution_count": 56,
      "outputs": [
        {
          "output_type": "stream",
          "name": "stdout",
          "text": [
            "Data shape: torch.Size([32, 3, 180, 180])\n",
            "Label shape: torch.Size([32])\n"
          ]
        }
      ]
    },
    {
      "cell_type": "code",
      "source": [
        "# Convert first image in batch to PIL image\n",
        "T = tv.transforms.ToPILImage()\n",
        "img = T(batch[0])\n",
        "\n",
        "# Plot image and its label\n",
        "plt.imshow(img)\n",
        "plt.title(f'Label: {labels[0].item()}')\n",
        "plt.axis('off')\n",
        "plt.show()"
      ],
      "metadata": {
        "colab": {
          "base_uri": "https://localhost:8080/",
          "height": 0
        },
        "id": "QAUSZmmXxO_U",
        "outputId": "ae3f1d5c-74cc-4d16-94ac-e5c91590b32e"
      },
      "execution_count": 57,
      "outputs": [
        {
          "output_type": "display_data",
          "data": {
            "text/plain": [
              "<Figure size 640x480 with 1 Axes>"
            ],
            "image/png": "[encoded data removed]"
          },
          "metadata": {}
        }
      ]
    },
    {
      "cell_type": "markdown",
      "source": [
        "# **Network Architectures (Net 1, Net2, Net3, Net4)**"
      ],
      "metadata": {
        "id": "XrARqcmYL4QL"
      }
    },
    {
      "cell_type": "code",
      "source": [
        "# Fully Connected Network\n",
        "class Net1(nn.Module):\n",
        "  def __init__(self, fc1_features, fc2_features):\n",
        "    super().__init__()\n",
        "    self.net = nn.Sequential(nn.Flatten(start_dim=1),                                           # Flatten input\n",
        "                             nn.Linear(in_features=3*180*180, out_features=fc1_features),       # Fully-Connected Layer\n",
        "                             nn.ReLU(),                                                         # ReLU Activation Function\n",
        "                             nn.Linear(in_features=fc1_features, out_features=fc2_features),    # Fully-Connected Layer\n",
        "                             nn.ReLU(),                                                         # ReLU Activation Function\n",
        "                             nn.Linear(in_features=fc2_features, out_features=10))              # Fully-Connected Layer\n",
        "\n",
        "  def forward(self, x):\n",
        "    return self.net(x)"
      ],
      "metadata": {
        "id": "bjE9dL38L68g"
      },
      "execution_count": 58,
      "outputs": []
    },
    {
      "cell_type": "code",
      "source": [
        "# Convolutional Block\n",
        "class Net2Block(nn.Module):\n",
        "  def __init__(self, input_channels, conv1_channels, conv2_channels):\n",
        "    super().__init__()\n",
        "    self.block = nn.Sequential(nn.Conv2d(in_channels=input_channels, out_channels=conv1_channels, kernel_size=3),     # Convolutional Layer\n",
        "                               nn.ReLU(),                                                                             # ReLU Activation Function\n",
        "                               nn.Conv2d(in_channels=conv1_channels, out_channels=conv2_channels, kernel_size=3),     # Convolutional Layer\n",
        "                               nn.ReLU(),                                                                             # ReLU Activation Function\n",
        "                               nn.MaxPool2d(kernel_size=2))                                                           # Max Pooling Layer\n",
        "\n",
        "  def forward(self, x):\n",
        "    return self.block(x)\n",
        "\n",
        "\n",
        "# Convolutional Network\n",
        "class Net2(nn.Module):\n",
        "  def __init__(self, conv1_channels, conv2_channels, conv3_channels, conv4_channels):\n",
        "    super().__init__()\n",
        "    self.net = nn.Sequential(Net2Block(3, conv1_channels, conv2_channels),                                          # Convolutional Block\n",
        "                             Net2Block(conv2_channels, conv3_channels, conv4_channels),                             # Convolutional Block\n",
        "                             nn.Flatten(),                                                                          # Flatten input\n",
        "                             nn.Linear(in_features=conv4_channels*42*42, out_features=256),                         # Fully-Connected Layer\n",
        "                             nn.ReLU(),                                                                             # ReLU Activation Function\n",
        "                             nn.Linear(in_features=256, out_features=10))                                           # Fully-Connected Layer\n",
        "\n",
        "  def forward(self, x):\n",
        "    return self.net(x)"
      ],
      "metadata": {
        "id": "MQ8W3SxcL9OR"
      },
      "execution_count": 59,
      "outputs": []
    },
    {
      "cell_type": "code",
      "source": [
        "# Convolutional Block with Batch Normalisation\n",
        "class Net3Block(nn.Module):\n",
        "  def __init__(self, input_channels, conv1_channels, conv2_channels):\n",
        "    super().__init__()\n",
        "    self.block = nn.Sequential(nn.Conv2d(in_channels=input_channels, out_channels=conv1_channels, kernel_size=3),     # Convolutional Layer\n",
        "                               nn.BatchNorm2d(conv1_channels),                                                        # Batch Normalisation Layer\n",
        "                               nn.ReLU(),                                                                             # ReLU Activation Function\n",
        "                               nn.Conv2d(in_channels=conv1_channels, out_channels=conv2_channels, kernel_size=3),     # Convolutional Layer\n",
        "                               nn.BatchNorm2d(conv2_channels),                                                        # Batch Normalisation Layer\n",
        "                               nn.ReLU(),                                                                             # ReLU Activation Function\n",
        "                               nn.MaxPool2d(kernel_size=2))                                                           # Max Pooling Layer\n",
        "\n",
        "  def forward(self, x):\n",
        "    return self.block(x)\n",
        "\n",
        "\n",
        "# Convolutional Network with Batch Normalisation\n",
        "class Net3(nn.Module):\n",
        "  def __init__(self, conv1_channels, conv2_channels, conv3_channels, conv4_channels):\n",
        "    super().__init__()\n",
        "    self.net = nn.Sequential(Net3Block(3, conv1_channels, conv2_channels),                                          # Convolutional Block\n",
        "                             Net3Block(conv2_channels, conv3_channels, conv4_channels),                             # Convolutional Block\n",
        "                             nn.Flatten(),                                                                          # Flatten input\n",
        "                             nn.Linear(in_features=conv4_channels*42*42, out_features=256),                         # Fully-Connected Layer\n",
        "                             nn.ReLU(),                                                                             # ReLU Activation Function\n",
        "                             nn.Linear(in_features=256, out_features=10))                                           # Fully-Connected Layer\n",
        "\n",
        "  def forward(self, x):\n",
        "    return self.net(x)"
      ],
      "metadata": {
        "id": "gqOL2i3SMWuy"
      },
      "execution_count": 60,
      "outputs": []
    },
    {
      "cell_type": "markdown",
      "source": [
        "# **Train & Evaluate Functions**"
      ],
      "metadata": {
        "id": "Wzc1WGRUsZIK"
      }
    },
    {
      "cell_type": "code",
      "source": [
        "# Compute loss and accuracy for a single batch\n",
        "def accuracy(model, batch, loss_fn, device):\n",
        "  # Accuracy metric for 10 classes\n",
        "  acc = MulticlassAccuracy(10).to(device)\n",
        "\n",
        "  # Unpack batch into images and labels\n",
        "  imgs, labels = batch\n",
        "  imgs, labels = imgs.to(device), labels.to(device)\n",
        "\n",
        "  # Model predictions and predicted classes\n",
        "  outputs = model(imgs)\n",
        "  _, pred = torch.max(outputs, dim=1)\n",
        "\n",
        "  # Compute loss and update accuracy\n",
        "  loss = loss_fn(outputs, labels)\n",
        "  acc.update(pred, labels)\n",
        "\n",
        "  return loss, acc.compute().item()"
      ],
      "metadata": {
        "id": "WQQfh-uCc8ha"
      },
      "execution_count": 61,
      "outputs": []
    },
    {
      "cell_type": "code",
      "source": [
        "# Evaluate the model over the given data loader\n",
        "@torch.no_grad()\n",
        "def evaluate(model, loader, loss_fn, device):\n",
        "  # Set model to eval mode\n",
        "  model.eval()\n",
        "\n",
        "  # Compute loss and accuracy for each batch in the data loader\n",
        "  crit = [accuracy(model, batch, loss_fn, device) for batch in loader]\n",
        "  crit = torch.tensor(crit)\n",
        "\n",
        "  # Compute mean loss and mean accuracy across all batches\n",
        "  m = crit.mean(dim=0)\n",
        "  loss = m[0]\n",
        "  acc = m[1]\n",
        "\n",
        "  return loss, acc"
      ],
      "metadata": {
        "id": "IIlfwkwldEb3"
      },
      "execution_count": 62,
      "outputs": []
    },
    {
      "cell_type": "code",
      "source": [
        "# Train the model and evaluate after each epoch\n",
        "def train(model, loader_train, loader_val, optimizer, loss_fn, epochs, trigger, device):\n",
        "  # Move model to device\n",
        "  model.to(device)\n",
        "\n",
        "  # Training history\n",
        "  history = {'train_loss': [], 'train_acc': [], 'val_loss': [], 'val_acc': []}\n",
        "\n",
        "  # Early stopping\n",
        "  es = EarlyStopping()\n",
        "\n",
        "  # Iterate through each epoch\n",
        "  for epoch in range(epochs):\n",
        "    # Create a progress bar for the training loop\n",
        "    loop = tqdm(loader_train)\n",
        "    loop.set_description(f'Epoch [{epoch+1}/{epochs}]')\n",
        "\n",
        "    # Set model to eval mode and initialise epoch loss\n",
        "    model.train()\n",
        "    epoch_loss = 0.0\n",
        "\n",
        "    # Iterate through each batch\n",
        "    for (imgs, labels) in loop:\n",
        "      # Set the gradients from the previous step to 0\n",
        "      optimizer.zero_grad()\n",
        "\n",
        "      # Forward pass through the model\n",
        "      imgs, labels = imgs.to(device), labels.to(device)\n",
        "      outputs = model(imgs)\n",
        "\n",
        "      # Compute and backpropagate the loss\n",
        "      loss = loss_fn(outputs,labels)\n",
        "      loss.backward()\n",
        "\n",
        "      # Update model parameters\n",
        "      optimizer.step()\n",
        "\n",
        "      # Smooth the loss using exponential moving average for better progress bar readability\n",
        "      epoch_loss = 0.9 * epoch_loss + 0.1 * loss.item()\n",
        "      loop.set_postfix(loss=epoch_loss)\n",
        "\n",
        "    # Evaluate model performance on training and validation sets\n",
        "    train_loss, train_acc  = evaluate(model, loader_train, loss_fn, device)\n",
        "    val_loss, val_acc = evaluate(model, loader_val, loss_fn, device)\n",
        "\n",
        "    # Save model performance\n",
        "    history['train_loss'].append(train_loss)\n",
        "    history['train_acc'].append(train_acc)\n",
        "    history['val_loss'].append(val_loss)\n",
        "    history['val_acc'].append(val_acc)\n",
        "\n",
        "    # Print model performance\n",
        "    print('Train: loss = {:.4f}, accuracy = {:.4f}'.format(train_loss, train_acc))\n",
        "    print('Valid: loss = {:.4f}, accuracy = {:.4f}'.format(val_loss, val_acc))\n",
        "\n",
        "    # Check if early stopping is required\n",
        "    if es(val_loss) and trigger:\n",
        "      return history\n",
        "\n",
        "  return history"
      ],
      "metadata": {
        "id": "MJdn_1B18ZrT"
      },
      "execution_count": 63,
      "outputs": []
    },
    {
      "cell_type": "code",
      "source": [
        "# EarlyStopping stops training if the loss doesn't improve after a set number of epochs\n",
        "class EarlyStopping():\n",
        "  def __init__(self, patience=4, tolerance=0):\n",
        "    self.patience = patience                        # Epochs to wait after no improvement\n",
        "    self.tolerance = tolerance                      # Minimum loss improvement required\n",
        "\n",
        "    self.min_loss = float('inf')                    # Best loss seen so far\n",
        "    self.count = 0                                  # Epochs without sufficient improvement\n",
        "\n",
        "  def __call__(self, loss):\n",
        "    # Check if loss improved\n",
        "    if loss<self.min_loss:\n",
        "      self.count = 0\n",
        "      self.min_loss = loss\n",
        "      return False\n",
        "\n",
        "    # Check if loss worsened beyond tolerance\n",
        "    elif loss > self.min_loss + self.tolerance:\n",
        "      self.count += 1\n",
        "      if self.count > self.patience:\n",
        "        return True\n",
        "\n",
        "    return False"
      ],
      "metadata": {
        "id": "ak5ihxdtjZCG"
      },
      "execution_count": 64,
      "outputs": []
    },
    {
      "cell_type": "markdown",
      "source": [
        "# **Model Training & Validation (Net 1, Net2, Net3, Net4)**"
      ],
      "metadata": {
        "id": "BvTE--zg10Ee"
      }
    },
    {
      "cell_type": "code",
      "source": [
        "# Loss function\n",
        "loss_fn = nn.CrossEntropyLoss()"
      ],
      "metadata": {
        "id": "GjmlAVjm14nl",
        "collapsed": true
      },
      "execution_count": 65,
      "outputs": []
    },
    {
      "cell_type": "code",
      "source": [
        "# Train and validate Net1\n",
        "print(f'\\nTraining Net1')\n",
        "net1 = Net1(fc1_features=256, fc2_features=128)\n",
        "optimizer = Adam(net1.parameters(), lr=0.0001)\n",
        "train(net1, train_loader, val_loader, optimizer, loss_fn, 50, False, device)\n",
        "net1_val_loss, net1_val_acc = evaluate(net1, val_loader, loss_fn, device)"
      ],
      "metadata": {
        "id": "zQ8eezImSVAh",
        "colab": {
          "base_uri": "https://localhost:8080/"
        },
        "outputId": "1aedba05-0289-4919-b396-5caec456bebc",
        "collapsed": true
      },
      "execution_count": 66,
      "outputs": [
        {
          "output_type": "stream",
          "name": "stdout",
          "text": [
            "\n",
            "Training Net1\n"
          ]
        },
        {
          "output_type": "stream",
          "name": "stderr",
          "text": [
            "Epoch [1/50]: 100%|██████████| 22/22 [00:02<00:00,  8.86it/s, loss=2]\n"
          ]
        },
        {
          "output_type": "stream",
          "name": "stdout",
          "text": [
            "Train: loss = 2.1058, accuracy = 0.1672\n",
            "Valid: loss = 2.1773, accuracy = 0.1724\n"
          ]
        },
        {
          "output_type": "stream",
          "name": "stderr",
          "text": [
            "Epoch [2/50]: 100%|██████████| 22/22 [00:03<00:00,  6.52it/s, loss=1.87]\n"
          ]
        },
        {
          "output_type": "stream",
          "name": "stdout",
          "text": [
            "Train: loss = 2.1248, accuracy = 0.2032\n",
            "Valid: loss = 2.2989, accuracy = 0.1845\n"
          ]
        },
        {
          "output_type": "stream",
          "name": "stderr",
          "text": [
            "Epoch [3/50]: 100%|██████████| 22/22 [00:02<00:00,  8.90it/s, loss=1.82]\n"
          ]
        },
        {
          "output_type": "stream",
          "name": "stdout",
          "text": [
            "Train: loss = 1.9560, accuracy = 0.2562\n",
            "Valid: loss = 2.0573, accuracy = 0.2306\n"
          ]
        },
        {
          "output_type": "stream",
          "name": "stderr",
          "text": [
            "Epoch [4/50]: 100%|██████████| 22/22 [00:03<00:00,  7.14it/s, loss=1.77]\n"
          ]
        },
        {
          "output_type": "stream",
          "name": "stdout",
          "text": [
            "Train: loss = 1.9566, accuracy = 0.2541\n",
            "Valid: loss = 2.1060, accuracy = 0.2583\n"
          ]
        },
        {
          "output_type": "stream",
          "name": "stderr",
          "text": [
            "Epoch [5/50]: 100%|██████████| 22/22 [00:02<00:00,  8.94it/s, loss=1.74]\n"
          ]
        },
        {
          "output_type": "stream",
          "name": "stdout",
          "text": [
            "Train: loss = 1.8758, accuracy = 0.3022\n",
            "Valid: loss = 2.0389, accuracy = 0.2633\n"
          ]
        },
        {
          "output_type": "stream",
          "name": "stderr",
          "text": [
            "Epoch [6/50]: 100%|██████████| 22/22 [00:02<00:00,  8.48it/s, loss=1.67]\n"
          ]
        },
        {
          "output_type": "stream",
          "name": "stdout",
          "text": [
            "Train: loss = 1.8425, accuracy = 0.3687\n",
            "Valid: loss = 2.0196, accuracy = 0.2634\n"
          ]
        },
        {
          "output_type": "stream",
          "name": "stderr",
          "text": [
            "Epoch [7/50]: 100%|██████████| 22/22 [00:02<00:00,  8.85it/s, loss=1.63]\n"
          ]
        },
        {
          "output_type": "stream",
          "name": "stdout",
          "text": [
            "Train: loss = 1.8090, accuracy = 0.3760\n",
            "Valid: loss = 1.9717, accuracy = 0.2910\n"
          ]
        },
        {
          "output_type": "stream",
          "name": "stderr",
          "text": [
            "Epoch [8/50]: 100%|██████████| 22/22 [00:02<00:00,  8.87it/s, loss=1.59]\n"
          ]
        },
        {
          "output_type": "stream",
          "name": "stdout",
          "text": [
            "Train: loss = 1.7294, accuracy = 0.3659\n",
            "Valid: loss = 1.9053, accuracy = 0.3226\n"
          ]
        },
        {
          "output_type": "stream",
          "name": "stderr",
          "text": [
            "Epoch [9/50]: 100%|██████████| 22/22 [00:02<00:00,  8.94it/s, loss=1.54]\n"
          ]
        },
        {
          "output_type": "stream",
          "name": "stdout",
          "text": [
            "Train: loss = 1.7194, accuracy = 0.4290\n",
            "Valid: loss = 1.8969, accuracy = 0.3298\n"
          ]
        },
        {
          "output_type": "stream",
          "name": "stderr",
          "text": [
            "Epoch [10/50]: 100%|██████████| 22/22 [00:02<00:00,  8.87it/s, loss=1.52]\n"
          ]
        },
        {
          "output_type": "stream",
          "name": "stdout",
          "text": [
            "Train: loss = 1.6528, accuracy = 0.4115\n",
            "Valid: loss = 1.8792, accuracy = 0.3163\n"
          ]
        },
        {
          "output_type": "stream",
          "name": "stderr",
          "text": [
            "Epoch [11/50]: 100%|██████████| 22/22 [00:02<00:00,  8.98it/s, loss=1.47]\n"
          ]
        },
        {
          "output_type": "stream",
          "name": "stdout",
          "text": [
            "Train: loss = 1.6369, accuracy = 0.3921\n",
            "Valid: loss = 1.9110, accuracy = 0.2963\n"
          ]
        },
        {
          "output_type": "stream",
          "name": "stderr",
          "text": [
            "Epoch [12/50]: 100%|██████████| 22/22 [00:02<00:00,  8.90it/s, loss=1.47]\n"
          ]
        },
        {
          "output_type": "stream",
          "name": "stdout",
          "text": [
            "Train: loss = 1.5954, accuracy = 0.4437\n",
            "Valid: loss = 1.8619, accuracy = 0.3388\n"
          ]
        },
        {
          "output_type": "stream",
          "name": "stderr",
          "text": [
            "Epoch [13/50]: 100%|██████████| 22/22 [00:02<00:00,  8.02it/s, loss=1.45]\n"
          ]
        },
        {
          "output_type": "stream",
          "name": "stdout",
          "text": [
            "Train: loss = 1.5657, accuracy = 0.4395\n",
            "Valid: loss = 1.8063, accuracy = 0.3783\n"
          ]
        },
        {
          "output_type": "stream",
          "name": "stderr",
          "text": [
            "Epoch [14/50]: 100%|██████████| 22/22 [00:02<00:00,  8.92it/s, loss=1.37]\n"
          ]
        },
        {
          "output_type": "stream",
          "name": "stdout",
          "text": [
            "Train: loss = 1.4838, accuracy = 0.5296\n",
            "Valid: loss = 1.8092, accuracy = 0.3719\n"
          ]
        },
        {
          "output_type": "stream",
          "name": "stderr",
          "text": [
            "Epoch [15/50]: 100%|██████████| 22/22 [00:02<00:00,  7.61it/s, loss=1.33]\n"
          ]
        },
        {
          "output_type": "stream",
          "name": "stdout",
          "text": [
            "Train: loss = 1.4338, accuracy = 0.5494\n",
            "Valid: loss = 1.7659, accuracy = 0.3466\n"
          ]
        },
        {
          "output_type": "stream",
          "name": "stderr",
          "text": [
            "Epoch [16/50]: 100%|██████████| 22/22 [00:02<00:00,  8.95it/s, loss=1.3]\n"
          ]
        },
        {
          "output_type": "stream",
          "name": "stdout",
          "text": [
            "Train: loss = 1.3812, accuracy = 0.5662\n",
            "Valid: loss = 1.7343, accuracy = 0.3966\n"
          ]
        },
        {
          "output_type": "stream",
          "name": "stderr",
          "text": [
            "Epoch [17/50]: 100%|██████████| 22/22 [00:03<00:00,  6.86it/s, loss=1.28]\n"
          ]
        },
        {
          "output_type": "stream",
          "name": "stdout",
          "text": [
            "Train: loss = 1.3417, accuracy = 0.5673\n",
            "Valid: loss = 1.6831, accuracy = 0.3307\n"
          ]
        },
        {
          "output_type": "stream",
          "name": "stderr",
          "text": [
            "Epoch [18/50]: 100%|██████████| 22/22 [00:02<00:00,  8.92it/s, loss=1.22]\n"
          ]
        },
        {
          "output_type": "stream",
          "name": "stdout",
          "text": [
            "Train: loss = 1.3681, accuracy = 0.5098\n",
            "Valid: loss = 1.8408, accuracy = 0.3095\n"
          ]
        },
        {
          "output_type": "stream",
          "name": "stderr",
          "text": [
            "Epoch [19/50]: 100%|██████████| 22/22 [00:03<00:00,  6.29it/s, loss=1.19]\n"
          ]
        },
        {
          "output_type": "stream",
          "name": "stdout",
          "text": [
            "Train: loss = 1.3315, accuracy = 0.5170\n",
            "Valid: loss = 1.7475, accuracy = 0.3483\n"
          ]
        },
        {
          "output_type": "stream",
          "name": "stderr",
          "text": [
            "Epoch [20/50]: 100%|██████████| 22/22 [00:02<00:00,  8.89it/s, loss=1.16]\n"
          ]
        },
        {
          "output_type": "stream",
          "name": "stdout",
          "text": [
            "Train: loss = 1.2556, accuracy = 0.5885\n",
            "Valid: loss = 1.6976, accuracy = 0.4017\n"
          ]
        },
        {
          "output_type": "stream",
          "name": "stderr",
          "text": [
            "Epoch [21/50]: 100%|██████████| 22/22 [00:03<00:00,  5.97it/s, loss=1.14]\n"
          ]
        },
        {
          "output_type": "stream",
          "name": "stdout",
          "text": [
            "Train: loss = 1.2106, accuracy = 0.6732\n",
            "Valid: loss = 1.6940, accuracy = 0.4384\n"
          ]
        },
        {
          "output_type": "stream",
          "name": "stderr",
          "text": [
            "Epoch [22/50]: 100%|██████████| 22/22 [00:02<00:00,  8.85it/s, loss=1.13]\n"
          ]
        },
        {
          "output_type": "stream",
          "name": "stdout",
          "text": [
            "Train: loss = 1.1716, accuracy = 0.7009\n",
            "Valid: loss = 1.6625, accuracy = 0.4368\n"
          ]
        },
        {
          "output_type": "stream",
          "name": "stderr",
          "text": [
            "Epoch [23/50]: 100%|██████████| 22/22 [00:03<00:00,  6.17it/s, loss=1.1]\n"
          ]
        },
        {
          "output_type": "stream",
          "name": "stdout",
          "text": [
            "Train: loss = 1.1804, accuracy = 0.6281\n",
            "Valid: loss = 1.7632, accuracy = 0.3946\n"
          ]
        },
        {
          "output_type": "stream",
          "name": "stderr",
          "text": [
            "Epoch [24/50]: 100%|██████████| 22/22 [00:02<00:00,  8.87it/s, loss=1.08]\n"
          ]
        },
        {
          "output_type": "stream",
          "name": "stdout",
          "text": [
            "Train: loss = 1.1363, accuracy = 0.6554\n",
            "Valid: loss = 1.6490, accuracy = 0.4233\n"
          ]
        },
        {
          "output_type": "stream",
          "name": "stderr",
          "text": [
            "Epoch [25/50]: 100%|██████████| 22/22 [00:03<00:00,  6.46it/s, loss=1.09]\n"
          ]
        },
        {
          "output_type": "stream",
          "name": "stdout",
          "text": [
            "Train: loss = 1.1136, accuracy = 0.6839\n",
            "Valid: loss = 1.7454, accuracy = 0.4030\n"
          ]
        },
        {
          "output_type": "stream",
          "name": "stderr",
          "text": [
            "Epoch [26/50]: 100%|██████████| 22/22 [00:02<00:00,  8.62it/s, loss=1.03]\n"
          ]
        },
        {
          "output_type": "stream",
          "name": "stdout",
          "text": [
            "Train: loss = 1.1223, accuracy = 0.6534\n",
            "Valid: loss = 1.7374, accuracy = 0.3881\n"
          ]
        },
        {
          "output_type": "stream",
          "name": "stderr",
          "text": [
            "Epoch [27/50]: 100%|██████████| 22/22 [00:03<00:00,  7.13it/s, loss=0.986]\n"
          ]
        },
        {
          "output_type": "stream",
          "name": "stdout",
          "text": [
            "Train: loss = 1.1263, accuracy = 0.6459\n",
            "Valid: loss = 1.6747, accuracy = 0.3921\n"
          ]
        },
        {
          "output_type": "stream",
          "name": "stderr",
          "text": [
            "Epoch [28/50]: 100%|██████████| 22/22 [00:02<00:00,  8.90it/s, loss=1.02]\n"
          ]
        },
        {
          "output_type": "stream",
          "name": "stdout",
          "text": [
            "Train: loss = 1.1022, accuracy = 0.6269\n",
            "Valid: loss = 1.7269, accuracy = 0.4056\n"
          ]
        },
        {
          "output_type": "stream",
          "name": "stderr",
          "text": [
            "Epoch [29/50]: 100%|██████████| 22/22 [00:02<00:00,  8.19it/s, loss=0.95]\n"
          ]
        },
        {
          "output_type": "stream",
          "name": "stdout",
          "text": [
            "Train: loss = 0.9912, accuracy = 0.6991\n",
            "Valid: loss = 1.6735, accuracy = 0.4034\n"
          ]
        },
        {
          "output_type": "stream",
          "name": "stderr",
          "text": [
            "Epoch [30/50]: 100%|██████████| 22/22 [00:02<00:00,  8.91it/s, loss=0.943]\n"
          ]
        },
        {
          "output_type": "stream",
          "name": "stdout",
          "text": [
            "Train: loss = 1.0492, accuracy = 0.6463\n",
            "Valid: loss = 1.7077, accuracy = 0.3660\n"
          ]
        },
        {
          "output_type": "stream",
          "name": "stderr",
          "text": [
            "Epoch [31/50]: 100%|██████████| 22/22 [00:02<00:00,  8.47it/s, loss=0.923]\n"
          ]
        },
        {
          "output_type": "stream",
          "name": "stdout",
          "text": [
            "Train: loss = 0.9428, accuracy = 0.7106\n",
            "Valid: loss = 1.6318, accuracy = 0.4054\n"
          ]
        },
        {
          "output_type": "stream",
          "name": "stderr",
          "text": [
            "Epoch [32/50]: 100%|██████████| 22/22 [00:02<00:00,  8.87it/s, loss=0.888]\n"
          ]
        },
        {
          "output_type": "stream",
          "name": "stdout",
          "text": [
            "Train: loss = 1.0638, accuracy = 0.6614\n",
            "Valid: loss = 1.7920, accuracy = 0.3610\n"
          ]
        },
        {
          "output_type": "stream",
          "name": "stderr",
          "text": [
            "Epoch [33/50]: 100%|██████████| 22/22 [00:02<00:00,  8.89it/s, loss=0.883]\n"
          ]
        },
        {
          "output_type": "stream",
          "name": "stdout",
          "text": [
            "Train: loss = 0.9685, accuracy = 0.6791\n",
            "Valid: loss = 1.8458, accuracy = 0.3465\n"
          ]
        },
        {
          "output_type": "stream",
          "name": "stderr",
          "text": [
            "Epoch [34/50]: 100%|██████████| 22/22 [00:02<00:00,  8.88it/s, loss=0.806]\n"
          ]
        },
        {
          "output_type": "stream",
          "name": "stdout",
          "text": [
            "Train: loss = 0.8762, accuracy = 0.7180\n",
            "Valid: loss = 1.6459, accuracy = 0.4273\n"
          ]
        },
        {
          "output_type": "stream",
          "name": "stderr",
          "text": [
            "Epoch [35/50]: 100%|██████████| 22/22 [00:02<00:00,  8.86it/s, loss=0.775]\n"
          ]
        },
        {
          "output_type": "stream",
          "name": "stdout",
          "text": [
            "Train: loss = 0.8655, accuracy = 0.7724\n",
            "Valid: loss = 1.7037, accuracy = 0.4498\n"
          ]
        },
        {
          "output_type": "stream",
          "name": "stderr",
          "text": [
            "Epoch [36/50]: 100%|██████████| 22/22 [00:02<00:00,  8.58it/s, loss=0.797]\n"
          ]
        },
        {
          "output_type": "stream",
          "name": "stdout",
          "text": [
            "Train: loss = 0.8525, accuracy = 0.7727\n",
            "Valid: loss = 1.6030, accuracy = 0.4316\n"
          ]
        },
        {
          "output_type": "stream",
          "name": "stderr",
          "text": [
            "Epoch [37/50]: 100%|██████████| 22/22 [00:02<00:00,  8.79it/s, loss=0.709]\n"
          ]
        },
        {
          "output_type": "stream",
          "name": "stdout",
          "text": [
            "Train: loss = 0.8182, accuracy = 0.8164\n",
            "Valid: loss = 1.5967, accuracy = 0.4019\n"
          ]
        },
        {
          "output_type": "stream",
          "name": "stderr",
          "text": [
            "Epoch [38/50]: 100%|██████████| 22/22 [00:02<00:00,  8.84it/s, loss=0.755]\n"
          ]
        },
        {
          "output_type": "stream",
          "name": "stdout",
          "text": [
            "Train: loss = 0.7593, accuracy = 0.8346\n",
            "Valid: loss = 1.6149, accuracy = 0.4396\n"
          ]
        },
        {
          "output_type": "stream",
          "name": "stderr",
          "text": [
            "Epoch [39/50]: 100%|██████████| 22/22 [00:02<00:00,  8.89it/s, loss=0.724]\n"
          ]
        },
        {
          "output_type": "stream",
          "name": "stdout",
          "text": [
            "Train: loss = 0.7886, accuracy = 0.7694\n",
            "Valid: loss = 1.7032, accuracy = 0.3954\n"
          ]
        },
        {
          "output_type": "stream",
          "name": "stderr",
          "text": [
            "Epoch [40/50]: 100%|██████████| 22/22 [00:02<00:00,  8.14it/s, loss=0.699]\n"
          ]
        },
        {
          "output_type": "stream",
          "name": "stdout",
          "text": [
            "Train: loss = 0.7541, accuracy = 0.8383\n",
            "Valid: loss = 1.6958, accuracy = 0.4011\n"
          ]
        },
        {
          "output_type": "stream",
          "name": "stderr",
          "text": [
            "Epoch [41/50]: 100%|██████████| 22/22 [00:02<00:00,  8.49it/s, loss=0.699]\n"
          ]
        },
        {
          "output_type": "stream",
          "name": "stdout",
          "text": [
            "Train: loss = 0.7407, accuracy = 0.7743\n",
            "Valid: loss = 1.7207, accuracy = 0.3773\n"
          ]
        },
        {
          "output_type": "stream",
          "name": "stderr",
          "text": [
            "Epoch [42/50]: 100%|██████████| 22/22 [00:02<00:00,  7.37it/s, loss=0.646]\n"
          ]
        },
        {
          "output_type": "stream",
          "name": "stdout",
          "text": [
            "Train: loss = 0.6906, accuracy = 0.8250\n",
            "Valid: loss = 1.6538, accuracy = 0.4471\n"
          ]
        },
        {
          "output_type": "stream",
          "name": "stderr",
          "text": [
            "Epoch [43/50]: 100%|██████████| 22/22 [00:02<00:00,  8.91it/s, loss=0.674]\n"
          ]
        },
        {
          "output_type": "stream",
          "name": "stdout",
          "text": [
            "Train: loss = 0.6353, accuracy = 0.8811\n",
            "Valid: loss = 1.6094, accuracy = 0.4932\n"
          ]
        },
        {
          "output_type": "stream",
          "name": "stderr",
          "text": [
            "Epoch [44/50]: 100%|██████████| 22/22 [00:03<00:00,  6.44it/s, loss=0.636]\n"
          ]
        },
        {
          "output_type": "stream",
          "name": "stdout",
          "text": [
            "Train: loss = 0.6364, accuracy = 0.8612\n",
            "Valid: loss = 1.6264, accuracy = 0.4435\n"
          ]
        },
        {
          "output_type": "stream",
          "name": "stderr",
          "text": [
            "Epoch [45/50]: 100%|██████████| 22/22 [00:02<00:00,  8.84it/s, loss=0.597]\n"
          ]
        },
        {
          "output_type": "stream",
          "name": "stdout",
          "text": [
            "Train: loss = 0.6590, accuracy = 0.8389\n",
            "Valid: loss = 1.5691, accuracy = 0.4416\n"
          ]
        },
        {
          "output_type": "stream",
          "name": "stderr",
          "text": [
            "Epoch [46/50]: 100%|██████████| 22/22 [00:03<00:00,  5.97it/s, loss=0.587]\n"
          ]
        },
        {
          "output_type": "stream",
          "name": "stdout",
          "text": [
            "Train: loss = 0.5931, accuracy = 0.8670\n",
            "Valid: loss = 1.6580, accuracy = 0.4545\n"
          ]
        },
        {
          "output_type": "stream",
          "name": "stderr",
          "text": [
            "Epoch [47/50]: 100%|██████████| 22/22 [00:02<00:00,  8.88it/s, loss=0.574]\n"
          ]
        },
        {
          "output_type": "stream",
          "name": "stdout",
          "text": [
            "Train: loss = 0.6418, accuracy = 0.8326\n",
            "Valid: loss = 1.6888, accuracy = 0.4428\n"
          ]
        },
        {
          "output_type": "stream",
          "name": "stderr",
          "text": [
            "Epoch [48/50]: 100%|██████████| 22/22 [00:03<00:00,  6.54it/s, loss=0.568]\n"
          ]
        },
        {
          "output_type": "stream",
          "name": "stdout",
          "text": [
            "Train: loss = 0.7298, accuracy = 0.7524\n",
            "Valid: loss = 1.8396, accuracy = 0.3899\n"
          ]
        },
        {
          "output_type": "stream",
          "name": "stderr",
          "text": [
            "Epoch [49/50]: 100%|██████████| 22/22 [00:02<00:00,  8.80it/s, loss=0.538]\n"
          ]
        },
        {
          "output_type": "stream",
          "name": "stdout",
          "text": [
            "Train: loss = 0.6150, accuracy = 0.8602\n",
            "Valid: loss = 1.7347, accuracy = 0.4374\n"
          ]
        },
        {
          "output_type": "stream",
          "name": "stderr",
          "text": [
            "Epoch [50/50]: 100%|██████████| 22/22 [00:02<00:00,  7.67it/s, loss=0.535]\n"
          ]
        },
        {
          "output_type": "stream",
          "name": "stdout",
          "text": [
            "Train: loss = 0.5242, accuracy = 0.9183\n",
            "Valid: loss = 1.6697, accuracy = 0.4341\n"
          ]
        }
      ]
    },
    {
      "cell_type": "code",
      "source": [
        "# Train and validate Net2\n",
        "print(f'\\nTraining Net2')\n",
        "net2 = Net2(conv1_channels=16, conv2_channels=16, conv3_channels=32, conv4_channels=32)\n",
        "optimizer = Adam(net2.parameters(), lr=0.0001)\n",
        "train(net2, train_loader, val_loader, optimizer, loss_fn, 50, False, device)\n",
        "net2_val_loss, net2_val_acc = evaluate(net2, val_loader, loss_fn, device)"
      ],
      "metadata": {
        "id": "GDAFaRM7SWUH",
        "colab": {
          "base_uri": "https://localhost:8080/"
        },
        "outputId": "36431723-8471-46e8-9b07-200912c4f2d8",
        "collapsed": true
      },
      "execution_count": 67,
      "outputs": [
        {
          "output_type": "stream",
          "name": "stdout",
          "text": [
            "\n",
            "Training Net2\n"
          ]
        },
        {
          "output_type": "stream",
          "name": "stderr",
          "text": [
            "Epoch [1/50]: 100%|██████████| 22/22 [00:03<00:00,  5.78it/s, loss=2.08]\n"
          ]
        },
        {
          "output_type": "stream",
          "name": "stdout",
          "text": [
            "Train: loss = 2.2972, accuracy = 0.0985\n",
            "Valid: loss = 2.3065, accuracy = 0.1000\n"
          ]
        },
        {
          "output_type": "stream",
          "name": "stderr",
          "text": [
            "Epoch [2/50]: 100%|██████████| 22/22 [00:03<00:00,  5.99it/s, loss=2.07]\n"
          ]
        },
        {
          "output_type": "stream",
          "name": "stdout",
          "text": [
            "Train: loss = 2.2795, accuracy = 0.1446\n",
            "Valid: loss = 2.2986, accuracy = 0.1405\n"
          ]
        },
        {
          "output_type": "stream",
          "name": "stderr",
          "text": [
            "Epoch [3/50]: 100%|██████████| 22/22 [00:02<00:00,  8.35it/s, loss=2.04]\n"
          ]
        },
        {
          "output_type": "stream",
          "name": "stdout",
          "text": [
            "Train: loss = 2.2317, accuracy = 0.2102\n",
            "Valid: loss = 2.2470, accuracy = 0.2024\n"
          ]
        },
        {
          "output_type": "stream",
          "name": "stderr",
          "text": [
            "Epoch [4/50]: 100%|██████████| 22/22 [00:03<00:00,  5.80it/s, loss=1.95]\n"
          ]
        },
        {
          "output_type": "stream",
          "name": "stdout",
          "text": [
            "Train: loss = 2.1167, accuracy = 0.2116\n",
            "Valid: loss = 2.1761, accuracy = 0.2056\n"
          ]
        },
        {
          "output_type": "stream",
          "name": "stderr",
          "text": [
            "Epoch [5/50]: 100%|██████████| 22/22 [00:02<00:00,  7.86it/s, loss=1.87]\n"
          ]
        },
        {
          "output_type": "stream",
          "name": "stdout",
          "text": [
            "Train: loss = 2.0322, accuracy = 0.2113\n",
            "Valid: loss = 2.1001, accuracy = 0.1664\n"
          ]
        },
        {
          "output_type": "stream",
          "name": "stderr",
          "text": [
            "Epoch [6/50]: 100%|██████████| 22/22 [00:03<00:00,  6.06it/s, loss=1.79]\n"
          ]
        },
        {
          "output_type": "stream",
          "name": "stdout",
          "text": [
            "Train: loss = 1.9706, accuracy = 0.2878\n",
            "Valid: loss = 2.0994, accuracy = 0.2713\n"
          ]
        },
        {
          "output_type": "stream",
          "name": "stderr",
          "text": [
            "Epoch [7/50]: 100%|██████████| 22/22 [00:02<00:00,  8.09it/s, loss=1.8]\n"
          ]
        },
        {
          "output_type": "stream",
          "name": "stdout",
          "text": [
            "Train: loss = 1.9594, accuracy = 0.2737\n",
            "Valid: loss = 2.0754, accuracy = 0.2040\n"
          ]
        },
        {
          "output_type": "stream",
          "name": "stderr",
          "text": [
            "Epoch [8/50]: 100%|██████████| 22/22 [00:03<00:00,  6.07it/s, loss=1.73]\n"
          ]
        },
        {
          "output_type": "stream",
          "name": "stdout",
          "text": [
            "Train: loss = 1.9133, accuracy = 0.3534\n",
            "Valid: loss = 2.0042, accuracy = 0.3207\n"
          ]
        },
        {
          "output_type": "stream",
          "name": "stderr",
          "text": [
            "Epoch [9/50]: 100%|██████████| 22/22 [00:02<00:00,  8.32it/s, loss=1.71]\n"
          ]
        },
        {
          "output_type": "stream",
          "name": "stdout",
          "text": [
            "Train: loss = 1.8783, accuracy = 0.3149\n",
            "Valid: loss = 2.0207, accuracy = 0.2476\n"
          ]
        },
        {
          "output_type": "stream",
          "name": "stderr",
          "text": [
            "Epoch [10/50]: 100%|██████████| 22/22 [00:03<00:00,  5.97it/s, loss=1.68]\n"
          ]
        },
        {
          "output_type": "stream",
          "name": "stdout",
          "text": [
            "Train: loss = 1.8425, accuracy = 0.3252\n",
            "Valid: loss = 1.9983, accuracy = 0.2568\n"
          ]
        },
        {
          "output_type": "stream",
          "name": "stderr",
          "text": [
            "Epoch [11/50]: 100%|██████████| 22/22 [00:02<00:00,  8.13it/s, loss=1.68]\n"
          ]
        },
        {
          "output_type": "stream",
          "name": "stdout",
          "text": [
            "Train: loss = 1.8150, accuracy = 0.3417\n",
            "Valid: loss = 1.9676, accuracy = 0.2805\n"
          ]
        },
        {
          "output_type": "stream",
          "name": "stderr",
          "text": [
            "Epoch [12/50]: 100%|██████████| 22/22 [00:03<00:00,  6.00it/s, loss=1.65]\n"
          ]
        },
        {
          "output_type": "stream",
          "name": "stdout",
          "text": [
            "Train: loss = 1.8013, accuracy = 0.3530\n",
            "Valid: loss = 1.9155, accuracy = 0.3088\n"
          ]
        },
        {
          "output_type": "stream",
          "name": "stderr",
          "text": [
            "Epoch [13/50]: 100%|██████████| 22/22 [00:02<00:00,  8.01it/s, loss=1.6]\n"
          ]
        },
        {
          "output_type": "stream",
          "name": "stdout",
          "text": [
            "Train: loss = 1.7564, accuracy = 0.3691\n",
            "Valid: loss = 1.9186, accuracy = 0.3200\n"
          ]
        },
        {
          "output_type": "stream",
          "name": "stderr",
          "text": [
            "Epoch [14/50]: 100%|██████████| 22/22 [00:03<00:00,  6.31it/s, loss=1.56]\n"
          ]
        },
        {
          "output_type": "stream",
          "name": "stdout",
          "text": [
            "Train: loss = 1.7229, accuracy = 0.3858\n",
            "Valid: loss = 1.8775, accuracy = 0.3168\n"
          ]
        },
        {
          "output_type": "stream",
          "name": "stderr",
          "text": [
            "Epoch [15/50]: 100%|██████████| 22/22 [00:02<00:00,  8.15it/s, loss=1.57]\n"
          ]
        },
        {
          "output_type": "stream",
          "name": "stdout",
          "text": [
            "Train: loss = 1.6924, accuracy = 0.3928\n",
            "Valid: loss = 1.9091, accuracy = 0.3035\n"
          ]
        },
        {
          "output_type": "stream",
          "name": "stderr",
          "text": [
            "Epoch [16/50]: 100%|██████████| 22/22 [00:03<00:00,  6.37it/s, loss=1.55]\n"
          ]
        },
        {
          "output_type": "stream",
          "name": "stdout",
          "text": [
            "Train: loss = 1.6499, accuracy = 0.4618\n",
            "Valid: loss = 1.8640, accuracy = 0.3484\n"
          ]
        },
        {
          "output_type": "stream",
          "name": "stderr",
          "text": [
            "Epoch [17/50]: 100%|██████████| 22/22 [00:02<00:00,  8.10it/s, loss=1.51]\n"
          ]
        },
        {
          "output_type": "stream",
          "name": "stdout",
          "text": [
            "Train: loss = 1.6025, accuracy = 0.4271\n",
            "Valid: loss = 1.7952, accuracy = 0.3330\n"
          ]
        },
        {
          "output_type": "stream",
          "name": "stderr",
          "text": [
            "Epoch [18/50]: 100%|██████████| 22/22 [00:03<00:00,  6.65it/s, loss=1.45]\n"
          ]
        },
        {
          "output_type": "stream",
          "name": "stdout",
          "text": [
            "Train: loss = 1.5503, accuracy = 0.4589\n",
            "Valid: loss = 1.7684, accuracy = 0.3678\n"
          ]
        },
        {
          "output_type": "stream",
          "name": "stderr",
          "text": [
            "Epoch [19/50]: 100%|██████████| 22/22 [00:02<00:00,  8.03it/s, loss=1.4]\n"
          ]
        },
        {
          "output_type": "stream",
          "name": "stdout",
          "text": [
            "Train: loss = 1.5464, accuracy = 0.4378\n",
            "Valid: loss = 1.8210, accuracy = 0.3391\n"
          ]
        },
        {
          "output_type": "stream",
          "name": "stderr",
          "text": [
            "Epoch [20/50]: 100%|██████████| 22/22 [00:03<00:00,  6.98it/s, loss=1.4]\n"
          ]
        },
        {
          "output_type": "stream",
          "name": "stdout",
          "text": [
            "Train: loss = 1.4726, accuracy = 0.4956\n",
            "Valid: loss = 1.7373, accuracy = 0.3879\n"
          ]
        },
        {
          "output_type": "stream",
          "name": "stderr",
          "text": [
            "Epoch [21/50]: 100%|██████████| 22/22 [00:02<00:00,  8.31it/s, loss=1.36]\n"
          ]
        },
        {
          "output_type": "stream",
          "name": "stdout",
          "text": [
            "Train: loss = 1.5021, accuracy = 0.4498\n",
            "Valid: loss = 1.8053, accuracy = 0.3664\n"
          ]
        },
        {
          "output_type": "stream",
          "name": "stderr",
          "text": [
            "Epoch [22/50]: 100%|██████████| 22/22 [00:03<00:00,  6.98it/s, loss=1.34]\n"
          ]
        },
        {
          "output_type": "stream",
          "name": "stdout",
          "text": [
            "Train: loss = 1.4261, accuracy = 0.5162\n",
            "Valid: loss = 1.7165, accuracy = 0.3674\n"
          ]
        },
        {
          "output_type": "stream",
          "name": "stderr",
          "text": [
            "Epoch [23/50]: 100%|██████████| 22/22 [00:02<00:00,  8.24it/s, loss=1.28]\n"
          ]
        },
        {
          "output_type": "stream",
          "name": "stdout",
          "text": [
            "Train: loss = 1.4299, accuracy = 0.5048\n",
            "Valid: loss = 1.6671, accuracy = 0.3908\n"
          ]
        },
        {
          "output_type": "stream",
          "name": "stderr",
          "text": [
            "Epoch [24/50]: 100%|██████████| 22/22 [00:03<00:00,  6.94it/s, loss=1.29]\n"
          ]
        },
        {
          "output_type": "stream",
          "name": "stdout",
          "text": [
            "Train: loss = 1.4793, accuracy = 0.3865\n",
            "Valid: loss = 1.8978, accuracy = 0.3165\n"
          ]
        },
        {
          "output_type": "stream",
          "name": "stderr",
          "text": [
            "Epoch [25/50]: 100%|██████████| 22/22 [00:02<00:00,  8.21it/s, loss=1.24]\n"
          ]
        },
        {
          "output_type": "stream",
          "name": "stdout",
          "text": [
            "Train: loss = 1.2981, accuracy = 0.5428\n",
            "Valid: loss = 1.6383, accuracy = 0.4008\n"
          ]
        },
        {
          "output_type": "stream",
          "name": "stderr",
          "text": [
            "Epoch [26/50]: 100%|██████████| 22/22 [00:02<00:00,  7.39it/s, loss=1.25]\n"
          ]
        },
        {
          "output_type": "stream",
          "name": "stdout",
          "text": [
            "Train: loss = 1.3858, accuracy = 0.4942\n",
            "Valid: loss = 1.7873, accuracy = 0.3559\n"
          ]
        },
        {
          "output_type": "stream",
          "name": "stderr",
          "text": [
            "Epoch [27/50]: 100%|██████████| 22/22 [00:02<00:00,  8.11it/s, loss=1.17]\n"
          ]
        },
        {
          "output_type": "stream",
          "name": "stdout",
          "text": [
            "Train: loss = 1.2546, accuracy = 0.5841\n",
            "Valid: loss = 1.6501, accuracy = 0.4490\n"
          ]
        },
        {
          "output_type": "stream",
          "name": "stderr",
          "text": [
            "Epoch [28/50]: 100%|██████████| 22/22 [00:02<00:00,  7.67it/s, loss=1.16]\n"
          ]
        },
        {
          "output_type": "stream",
          "name": "stdout",
          "text": [
            "Train: loss = 1.1859, accuracy = 0.6058\n",
            "Valid: loss = 1.6201, accuracy = 0.4177\n"
          ]
        },
        {
          "output_type": "stream",
          "name": "stderr",
          "text": [
            "Epoch [29/50]: 100%|██████████| 22/22 [00:02<00:00,  8.33it/s, loss=1.12]\n"
          ]
        },
        {
          "output_type": "stream",
          "name": "stdout",
          "text": [
            "Train: loss = 1.2238, accuracy = 0.5636\n",
            "Valid: loss = 1.6282, accuracy = 0.3290\n"
          ]
        },
        {
          "output_type": "stream",
          "name": "stderr",
          "text": [
            "Epoch [30/50]: 100%|██████████| 22/22 [00:03<00:00,  6.65it/s, loss=1.07]\n"
          ]
        },
        {
          "output_type": "stream",
          "name": "stdout",
          "text": [
            "Train: loss = 1.1638, accuracy = 0.5557\n",
            "Valid: loss = 1.6728, accuracy = 0.4135\n"
          ]
        },
        {
          "output_type": "stream",
          "name": "stderr",
          "text": [
            "Epoch [31/50]: 100%|██████████| 22/22 [00:02<00:00,  8.09it/s, loss=1.04]\n"
          ]
        },
        {
          "output_type": "stream",
          "name": "stdout",
          "text": [
            "Train: loss = 1.1790, accuracy = 0.5865\n",
            "Valid: loss = 1.7372, accuracy = 0.4076\n"
          ]
        },
        {
          "output_type": "stream",
          "name": "stderr",
          "text": [
            "Epoch [32/50]: 100%|██████████| 22/22 [00:03<00:00,  7.32it/s, loss=1.05]\n"
          ]
        },
        {
          "output_type": "stream",
          "name": "stdout",
          "text": [
            "Train: loss = 1.0571, accuracy = 0.6670\n",
            "Valid: loss = 1.6205, accuracy = 0.4208\n"
          ]
        },
        {
          "output_type": "stream",
          "name": "stderr",
          "text": [
            "Epoch [33/50]: 100%|██████████| 22/22 [00:02<00:00,  8.01it/s, loss=0.978]\n"
          ]
        },
        {
          "output_type": "stream",
          "name": "stdout",
          "text": [
            "Train: loss = 1.0165, accuracy = 0.6617\n",
            "Valid: loss = 1.6520, accuracy = 0.4400\n"
          ]
        },
        {
          "output_type": "stream",
          "name": "stderr",
          "text": [
            "Epoch [34/50]: 100%|██████████| 22/22 [00:02<00:00,  7.74it/s, loss=0.942]\n"
          ]
        },
        {
          "output_type": "stream",
          "name": "stdout",
          "text": [
            "Train: loss = 1.1188, accuracy = 0.6253\n",
            "Valid: loss = 1.7244, accuracy = 0.4125\n"
          ]
        },
        {
          "output_type": "stream",
          "name": "stderr",
          "text": [
            "Epoch [35/50]: 100%|██████████| 22/22 [00:02<00:00,  8.14it/s, loss=0.973]\n"
          ]
        },
        {
          "output_type": "stream",
          "name": "stdout",
          "text": [
            "Train: loss = 1.0164, accuracy = 0.6493\n",
            "Valid: loss = 1.6260, accuracy = 0.4463\n"
          ]
        },
        {
          "output_type": "stream",
          "name": "stderr",
          "text": [
            "Epoch [36/50]: 100%|██████████| 22/22 [00:02<00:00,  7.95it/s, loss=0.866]\n"
          ]
        },
        {
          "output_type": "stream",
          "name": "stdout",
          "text": [
            "Train: loss = 0.9113, accuracy = 0.7040\n",
            "Valid: loss = 1.6189, accuracy = 0.4706\n"
          ]
        },
        {
          "output_type": "stream",
          "name": "stderr",
          "text": [
            "Epoch [37/50]: 100%|██████████| 22/22 [00:02<00:00,  7.96it/s, loss=0.897]\n"
          ]
        },
        {
          "output_type": "stream",
          "name": "stdout",
          "text": [
            "Train: loss = 0.9247, accuracy = 0.6864\n",
            "Valid: loss = 1.6552, accuracy = 0.4718\n"
          ]
        },
        {
          "output_type": "stream",
          "name": "stderr",
          "text": [
            "Epoch [38/50]: 100%|██████████| 22/22 [00:02<00:00,  8.12it/s, loss=0.839]\n"
          ]
        },
        {
          "output_type": "stream",
          "name": "stdout",
          "text": [
            "Train: loss = 0.9999, accuracy = 0.6354\n",
            "Valid: loss = 1.8546, accuracy = 0.4032\n"
          ]
        },
        {
          "output_type": "stream",
          "name": "stderr",
          "text": [
            "Epoch [39/50]: 100%|██████████| 22/22 [00:02<00:00,  8.23it/s, loss=0.816]\n"
          ]
        },
        {
          "output_type": "stream",
          "name": "stdout",
          "text": [
            "Train: loss = 0.8518, accuracy = 0.7038\n",
            "Valid: loss = 1.6516, accuracy = 0.4926\n"
          ]
        },
        {
          "output_type": "stream",
          "name": "stderr",
          "text": [
            "Epoch [40/50]: 100%|██████████| 22/22 [00:02<00:00,  8.16it/s, loss=0.789]\n"
          ]
        },
        {
          "output_type": "stream",
          "name": "stdout",
          "text": [
            "Train: loss = 0.8260, accuracy = 0.7125\n",
            "Valid: loss = 1.7252, accuracy = 0.4261\n"
          ]
        },
        {
          "output_type": "stream",
          "name": "stderr",
          "text": [
            "Epoch [41/50]: 100%|██████████| 22/22 [00:02<00:00,  8.16it/s, loss=0.738]\n"
          ]
        },
        {
          "output_type": "stream",
          "name": "stdout",
          "text": [
            "Train: loss = 0.7869, accuracy = 0.7508\n",
            "Valid: loss = 1.6893, accuracy = 0.4628\n"
          ]
        },
        {
          "output_type": "stream",
          "name": "stderr",
          "text": [
            "Epoch [42/50]: 100%|██████████| 22/22 [00:02<00:00,  8.09it/s, loss=0.705]\n"
          ]
        },
        {
          "output_type": "stream",
          "name": "stdout",
          "text": [
            "Train: loss = 0.7306, accuracy = 0.7552\n",
            "Valid: loss = 1.7034, accuracy = 0.4762\n"
          ]
        },
        {
          "output_type": "stream",
          "name": "stderr",
          "text": [
            "Epoch [43/50]: 100%|██████████| 22/22 [00:02<00:00,  8.19it/s, loss=0.649]\n"
          ]
        },
        {
          "output_type": "stream",
          "name": "stdout",
          "text": [
            "Train: loss = 0.6839, accuracy = 0.8088\n",
            "Valid: loss = 1.6560, accuracy = 0.4759\n"
          ]
        },
        {
          "output_type": "stream",
          "name": "stderr",
          "text": [
            "Epoch [44/50]: 100%|██████████| 22/22 [00:02<00:00,  8.29it/s, loss=0.702]\n"
          ]
        },
        {
          "output_type": "stream",
          "name": "stdout",
          "text": [
            "Train: loss = 0.6862, accuracy = 0.7814\n",
            "Valid: loss = 1.6833, accuracy = 0.4770\n"
          ]
        },
        {
          "output_type": "stream",
          "name": "stderr",
          "text": [
            "Epoch [45/50]: 100%|██████████| 22/22 [00:02<00:00,  8.04it/s, loss=0.68]\n"
          ]
        },
        {
          "output_type": "stream",
          "name": "stdout",
          "text": [
            "Train: loss = 0.6974, accuracy = 0.7892\n",
            "Valid: loss = 1.7192, accuracy = 0.4370\n"
          ]
        },
        {
          "output_type": "stream",
          "name": "stderr",
          "text": [
            "Epoch [46/50]: 100%|██████████| 22/22 [00:02<00:00,  8.27it/s, loss=0.591]\n"
          ]
        },
        {
          "output_type": "stream",
          "name": "stdout",
          "text": [
            "Train: loss = 0.6177, accuracy = 0.7967\n",
            "Valid: loss = 1.6675, accuracy = 0.4852\n"
          ]
        },
        {
          "output_type": "stream",
          "name": "stderr",
          "text": [
            "Epoch [47/50]: 100%|██████████| 22/22 [00:02<00:00,  8.11it/s, loss=0.588]\n"
          ]
        },
        {
          "output_type": "stream",
          "name": "stdout",
          "text": [
            "Train: loss = 0.6247, accuracy = 0.7926\n",
            "Valid: loss = 1.7466, accuracy = 0.4467\n"
          ]
        },
        {
          "output_type": "stream",
          "name": "stderr",
          "text": [
            "Epoch [48/50]: 100%|██████████| 22/22 [00:02<00:00,  8.13it/s, loss=0.588]\n"
          ]
        },
        {
          "output_type": "stream",
          "name": "stdout",
          "text": [
            "Train: loss = 0.5799, accuracy = 0.8108\n",
            "Valid: loss = 1.7902, accuracy = 0.4850\n"
          ]
        },
        {
          "output_type": "stream",
          "name": "stderr",
          "text": [
            "Epoch [49/50]: 100%|██████████| 22/22 [00:02<00:00,  7.94it/s, loss=0.585]\n"
          ]
        },
        {
          "output_type": "stream",
          "name": "stdout",
          "text": [
            "Train: loss = 0.5784, accuracy = 0.8156\n",
            "Valid: loss = 1.8325, accuracy = 0.4703\n"
          ]
        },
        {
          "output_type": "stream",
          "name": "stderr",
          "text": [
            "Epoch [50/50]: 100%|██████████| 22/22 [00:02<00:00,  7.86it/s, loss=0.49]\n"
          ]
        },
        {
          "output_type": "stream",
          "name": "stdout",
          "text": [
            "Train: loss = 0.5382, accuracy = 0.8173\n",
            "Valid: loss = 1.8133, accuracy = 0.4463\n"
          ]
        }
      ]
    },
    {
      "cell_type": "code",
      "source": [
        "# Train and validate Net3\n",
        "print(f'\\nTraining Net3')\n",
        "net3 = Net3(conv1_channels=32, conv2_channels=32, conv3_channels=64, conv4_channels=64)\n",
        "optimizer = Adam(net3.parameters(), lr=0.0001)\n",
        "train(net3, train_loader, val_loader, optimizer, loss_fn, 50, False, device)\n",
        "net3_val_loss, net3_val_acc = evaluate(net3, val_loader, loss_fn, device)"
      ],
      "metadata": {
        "id": "RJrut0IjSXvM",
        "colab": {
          "base_uri": "https://localhost:8080/"
        },
        "outputId": "aa96ff85-4063-4c6c-c5cd-d2c92180a688"
      },
      "execution_count": 68,
      "outputs": [
        {
          "output_type": "stream",
          "name": "stdout",
          "text": [
            "\n",
            "Training Net3\n"
          ]
        },
        {
          "output_type": "stream",
          "name": "stderr",
          "text": [
            "Epoch [1/50]: 100%|██████████| 22/22 [00:03<00:00,  5.93it/s, loss=2.5]\n"
          ]
        },
        {
          "output_type": "stream",
          "name": "stdout",
          "text": [
            "Train: loss = 2.2477, accuracy = 0.2525\n",
            "Valid: loss = 2.2696, accuracy = 0.2304\n"
          ]
        },
        {
          "output_type": "stream",
          "name": "stderr",
          "text": [
            "Epoch [2/50]: 100%|██████████| 22/22 [00:03<00:00,  7.15it/s, loss=1.37]\n"
          ]
        },
        {
          "output_type": "stream",
          "name": "stdout",
          "text": [
            "Train: loss = 1.9173, accuracy = 0.3275\n",
            "Valid: loss = 2.0860, accuracy = 0.3110\n"
          ]
        },
        {
          "output_type": "stream",
          "name": "stderr",
          "text": [
            "Epoch [3/50]: 100%|██████████| 22/22 [00:04<00:00,  5.47it/s, loss=1.21]\n"
          ]
        },
        {
          "output_type": "stream",
          "name": "stdout",
          "text": [
            "Train: loss = 1.1695, accuracy = 0.6520\n",
            "Valid: loss = 1.5584, accuracy = 0.4344\n"
          ]
        },
        {
          "output_type": "stream",
          "name": "stderr",
          "text": [
            "Epoch [4/50]: 100%|██████████| 22/22 [00:03<00:00,  7.01it/s, loss=0.964]\n"
          ]
        },
        {
          "output_type": "stream",
          "name": "stdout",
          "text": [
            "Train: loss = 0.9381, accuracy = 0.6961\n",
            "Valid: loss = 1.4612, accuracy = 0.4858\n"
          ]
        },
        {
          "output_type": "stream",
          "name": "stderr",
          "text": [
            "Epoch [5/50]: 100%|██████████| 22/22 [00:04<00:00,  5.45it/s, loss=0.697]\n"
          ]
        },
        {
          "output_type": "stream",
          "name": "stdout",
          "text": [
            "Train: loss = 0.6256, accuracy = 0.8209\n",
            "Valid: loss = 1.3302, accuracy = 0.4905\n"
          ]
        },
        {
          "output_type": "stream",
          "name": "stderr",
          "text": [
            "Epoch [6/50]: 100%|██████████| 22/22 [00:03<00:00,  6.82it/s, loss=0.429]\n"
          ]
        },
        {
          "output_type": "stream",
          "name": "stdout",
          "text": [
            "Train: loss = 0.4000, accuracy = 0.9022\n",
            "Valid: loss = 1.3291, accuracy = 0.5231\n"
          ]
        },
        {
          "output_type": "stream",
          "name": "stderr",
          "text": [
            "Epoch [7/50]: 100%|██████████| 22/22 [00:03<00:00,  5.68it/s, loss=0.278]\n"
          ]
        },
        {
          "output_type": "stream",
          "name": "stdout",
          "text": [
            "Train: loss = 0.2338, accuracy = 0.9770\n",
            "Valid: loss = 1.1939, accuracy = 0.6195\n"
          ]
        },
        {
          "output_type": "stream",
          "name": "stderr",
          "text": [
            "Epoch [8/50]: 100%|██████████| 22/22 [00:03<00:00,  7.03it/s, loss=0.189]\n"
          ]
        },
        {
          "output_type": "stream",
          "name": "stdout",
          "text": [
            "Train: loss = 0.1688, accuracy = 0.9886\n",
            "Valid: loss = 1.2405, accuracy = 0.6146\n"
          ]
        },
        {
          "output_type": "stream",
          "name": "stderr",
          "text": [
            "Epoch [9/50]: 100%|██████████| 22/22 [00:02<00:00,  7.33it/s, loss=0.134]\n"
          ]
        },
        {
          "output_type": "stream",
          "name": "stdout",
          "text": [
            "Train: loss = 0.1106, accuracy = 0.9888\n",
            "Valid: loss = 1.1951, accuracy = 0.5850\n"
          ]
        },
        {
          "output_type": "stream",
          "name": "stderr",
          "text": [
            "Epoch [10/50]: 100%|██████████| 22/22 [00:03<00:00,  7.06it/s, loss=0.104]\n"
          ]
        },
        {
          "output_type": "stream",
          "name": "stdout",
          "text": [
            "Train: loss = 0.0791, accuracy = 0.9991\n",
            "Valid: loss = 1.1686, accuracy = 0.6266\n"
          ]
        },
        {
          "output_type": "stream",
          "name": "stderr",
          "text": [
            "Epoch [11/50]: 100%|██████████| 22/22 [00:03<00:00,  7.26it/s, loss=0.0687]\n"
          ]
        },
        {
          "output_type": "stream",
          "name": "stdout",
          "text": [
            "Train: loss = 0.0524, accuracy = 1.0000\n",
            "Valid: loss = 1.1867, accuracy = 0.5816\n"
          ]
        },
        {
          "output_type": "stream",
          "name": "stderr",
          "text": [
            "Epoch [12/50]: 100%|██████████| 22/22 [00:03<00:00,  6.70it/s, loss=0.0617]\n"
          ]
        },
        {
          "output_type": "stream",
          "name": "stdout",
          "text": [
            "Train: loss = 0.0439, accuracy = 0.9983\n",
            "Valid: loss = 1.1664, accuracy = 0.6199\n"
          ]
        },
        {
          "output_type": "stream",
          "name": "stderr",
          "text": [
            "Epoch [13/50]: 100%|██████████| 22/22 [00:03<00:00,  7.00it/s, loss=0.0406]\n"
          ]
        },
        {
          "output_type": "stream",
          "name": "stdout",
          "text": [
            "Train: loss = 0.0331, accuracy = 1.0000\n",
            "Valid: loss = 1.1615, accuracy = 0.5731\n"
          ]
        },
        {
          "output_type": "stream",
          "name": "stderr",
          "text": [
            "Epoch [14/50]: 100%|██████████| 22/22 [00:03<00:00,  5.66it/s, loss=0.031]\n"
          ]
        },
        {
          "output_type": "stream",
          "name": "stdout",
          "text": [
            "Train: loss = 0.0282, accuracy = 1.0000\n",
            "Valid: loss = 1.1854, accuracy = 0.6186\n"
          ]
        },
        {
          "output_type": "stream",
          "name": "stderr",
          "text": [
            "Epoch [15/50]: 100%|██████████| 22/22 [00:03<00:00,  7.17it/s, loss=0.0268]\n"
          ]
        },
        {
          "output_type": "stream",
          "name": "stdout",
          "text": [
            "Train: loss = 0.0232, accuracy = 1.0000\n",
            "Valid: loss = 1.1723, accuracy = 0.6050\n"
          ]
        },
        {
          "output_type": "stream",
          "name": "stderr",
          "text": [
            "Epoch [16/50]: 100%|██████████| 22/22 [00:04<00:00,  5.39it/s, loss=0.0205]\n"
          ]
        },
        {
          "output_type": "stream",
          "name": "stdout",
          "text": [
            "Train: loss = 0.0205, accuracy = 1.0000\n",
            "Valid: loss = 1.1956, accuracy = 0.6365\n"
          ]
        },
        {
          "output_type": "stream",
          "name": "stderr",
          "text": [
            "Epoch [17/50]: 100%|██████████| 22/22 [00:02<00:00,  7.34it/s, loss=0.0177]\n"
          ]
        },
        {
          "output_type": "stream",
          "name": "stdout",
          "text": [
            "Train: loss = 0.0178, accuracy = 1.0000\n",
            "Valid: loss = 1.1754, accuracy = 0.6208\n"
          ]
        },
        {
          "output_type": "stream",
          "name": "stderr",
          "text": [
            "Epoch [18/50]: 100%|██████████| 22/22 [00:03<00:00,  5.84it/s, loss=0.0161]\n"
          ]
        },
        {
          "output_type": "stream",
          "name": "stdout",
          "text": [
            "Train: loss = 0.0150, accuracy = 1.0000\n",
            "Valid: loss = 1.1855, accuracy = 0.6312\n"
          ]
        },
        {
          "output_type": "stream",
          "name": "stderr",
          "text": [
            "Epoch [19/50]: 100%|██████████| 22/22 [00:03<00:00,  7.00it/s, loss=0.0127]\n"
          ]
        },
        {
          "output_type": "stream",
          "name": "stdout",
          "text": [
            "Train: loss = 0.0131, accuracy = 1.0000\n",
            "Valid: loss = 1.1724, accuracy = 0.6348\n"
          ]
        },
        {
          "output_type": "stream",
          "name": "stderr",
          "text": [
            "Epoch [20/50]: 100%|██████████| 22/22 [00:03<00:00,  7.13it/s, loss=0.0123]\n"
          ]
        },
        {
          "output_type": "stream",
          "name": "stdout",
          "text": [
            "Train: loss = 0.0124, accuracy = 1.0000\n",
            "Valid: loss = 1.1542, accuracy = 0.6305\n"
          ]
        },
        {
          "output_type": "stream",
          "name": "stderr",
          "text": [
            "Epoch [21/50]: 100%|██████████| 22/22 [00:03<00:00,  7.05it/s, loss=0.0109]\n"
          ]
        },
        {
          "output_type": "stream",
          "name": "stdout",
          "text": [
            "Train: loss = 0.0107, accuracy = 1.0000\n",
            "Valid: loss = 1.1935, accuracy = 0.6268\n"
          ]
        },
        {
          "output_type": "stream",
          "name": "stderr",
          "text": [
            "Epoch [22/50]: 100%|██████████| 22/22 [00:03<00:00,  7.19it/s, loss=0.00936]\n"
          ]
        },
        {
          "output_type": "stream",
          "name": "stdout",
          "text": [
            "Train: loss = 0.0092, accuracy = 1.0000\n",
            "Valid: loss = 1.1864, accuracy = 0.5988\n"
          ]
        },
        {
          "output_type": "stream",
          "name": "stderr",
          "text": [
            "Epoch [23/50]: 100%|██████████| 22/22 [00:03<00:00,  6.70it/s, loss=0.00871]\n"
          ]
        },
        {
          "output_type": "stream",
          "name": "stdout",
          "text": [
            "Train: loss = 0.0088, accuracy = 1.0000\n",
            "Valid: loss = 1.1874, accuracy = 0.5940\n"
          ]
        },
        {
          "output_type": "stream",
          "name": "stderr",
          "text": [
            "Epoch [24/50]: 100%|██████████| 22/22 [00:03<00:00,  7.04it/s, loss=0.0078]\n"
          ]
        },
        {
          "output_type": "stream",
          "name": "stdout",
          "text": [
            "Train: loss = 0.0076, accuracy = 1.0000\n",
            "Valid: loss = 1.1727, accuracy = 0.6296\n"
          ]
        },
        {
          "output_type": "stream",
          "name": "stderr",
          "text": [
            "Epoch [25/50]: 100%|██████████| 22/22 [00:03<00:00,  5.65it/s, loss=0.00709]\n"
          ]
        },
        {
          "output_type": "stream",
          "name": "stdout",
          "text": [
            "Train: loss = 0.0067, accuracy = 1.0000\n",
            "Valid: loss = 1.1899, accuracy = 0.6248\n"
          ]
        },
        {
          "output_type": "stream",
          "name": "stderr",
          "text": [
            "Epoch [26/50]: 100%|██████████| 22/22 [00:03<00:00,  7.08it/s, loss=0.0069]\n"
          ]
        },
        {
          "output_type": "stream",
          "name": "stdout",
          "text": [
            "Train: loss = 0.0068, accuracy = 1.0000\n",
            "Valid: loss = 1.2023, accuracy = 0.6361\n"
          ]
        },
        {
          "output_type": "stream",
          "name": "stderr",
          "text": [
            "Epoch [27/50]: 100%|██████████| 22/22 [00:04<00:00,  5.39it/s, loss=0.0059]\n"
          ]
        },
        {
          "output_type": "stream",
          "name": "stdout",
          "text": [
            "Train: loss = 0.0059, accuracy = 1.0000\n",
            "Valid: loss = 1.2091, accuracy = 0.6036\n"
          ]
        },
        {
          "output_type": "stream",
          "name": "stderr",
          "text": [
            "Epoch [28/50]: 100%|██████████| 22/22 [00:03<00:00,  7.18it/s, loss=0.00521]\n"
          ]
        },
        {
          "output_type": "stream",
          "name": "stdout",
          "text": [
            "Train: loss = 0.0056, accuracy = 1.0000\n",
            "Valid: loss = 1.2210, accuracy = 0.5965\n"
          ]
        },
        {
          "output_type": "stream",
          "name": "stderr",
          "text": [
            "Epoch [29/50]: 100%|██████████| 22/22 [00:03<00:00,  5.99it/s, loss=0.00532]\n"
          ]
        },
        {
          "output_type": "stream",
          "name": "stdout",
          "text": [
            "Train: loss = 0.0051, accuracy = 1.0000\n",
            "Valid: loss = 1.2121, accuracy = 0.5973\n"
          ]
        },
        {
          "output_type": "stream",
          "name": "stderr",
          "text": [
            "Epoch [30/50]: 100%|██████████| 22/22 [00:03<00:00,  7.21it/s, loss=0.0047]\n"
          ]
        },
        {
          "output_type": "stream",
          "name": "stdout",
          "text": [
            "Train: loss = 0.0047, accuracy = 1.0000\n",
            "Valid: loss = 1.2054, accuracy = 0.6108\n"
          ]
        },
        {
          "output_type": "stream",
          "name": "stderr",
          "text": [
            "Epoch [31/50]: 100%|██████████| 22/22 [00:03<00:00,  7.05it/s, loss=0.00437]\n"
          ]
        },
        {
          "output_type": "stream",
          "name": "stdout",
          "text": [
            "Train: loss = 0.0043, accuracy = 1.0000\n",
            "Valid: loss = 1.2282, accuracy = 0.5840\n"
          ]
        },
        {
          "output_type": "stream",
          "name": "stderr",
          "text": [
            "Epoch [32/50]: 100%|██████████| 22/22 [00:03<00:00,  6.65it/s, loss=0.00442]\n"
          ]
        },
        {
          "output_type": "stream",
          "name": "stdout",
          "text": [
            "Train: loss = 0.0041, accuracy = 1.0000\n",
            "Valid: loss = 1.1995, accuracy = 0.6292\n"
          ]
        },
        {
          "output_type": "stream",
          "name": "stderr",
          "text": [
            "Epoch [33/50]: 100%|██████████| 22/22 [00:03<00:00,  7.12it/s, loss=0.00399]\n"
          ]
        },
        {
          "output_type": "stream",
          "name": "stdout",
          "text": [
            "Train: loss = 0.0038, accuracy = 1.0000\n",
            "Valid: loss = 1.2264, accuracy = 0.5934\n"
          ]
        },
        {
          "output_type": "stream",
          "name": "stderr",
          "text": [
            "Epoch [34/50]: 100%|██████████| 22/22 [00:03<00:00,  7.02it/s, loss=0.00371]\n"
          ]
        },
        {
          "output_type": "stream",
          "name": "stdout",
          "text": [
            "Train: loss = 0.0036, accuracy = 1.0000\n",
            "Valid: loss = 1.2222, accuracy = 0.6383\n"
          ]
        },
        {
          "output_type": "stream",
          "name": "stderr",
          "text": [
            "Epoch [35/50]: 100%|██████████| 22/22 [00:03<00:00,  7.16it/s, loss=0.00356]\n"
          ]
        },
        {
          "output_type": "stream",
          "name": "stdout",
          "text": [
            "Train: loss = 0.0034, accuracy = 1.0000\n",
            "Valid: loss = 1.1891, accuracy = 0.6419\n"
          ]
        },
        {
          "output_type": "stream",
          "name": "stderr",
          "text": [
            "Epoch [36/50]: 100%|██████████| 22/22 [00:03<00:00,  5.71it/s, loss=0.00322]\n"
          ]
        },
        {
          "output_type": "stream",
          "name": "stdout",
          "text": [
            "Train: loss = 0.0031, accuracy = 1.0000\n",
            "Valid: loss = 1.2226, accuracy = 0.6167\n"
          ]
        },
        {
          "output_type": "stream",
          "name": "stderr",
          "text": [
            "Epoch [37/50]: 100%|██████████| 22/22 [00:03<00:00,  7.26it/s, loss=0.0031]\n"
          ]
        },
        {
          "output_type": "stream",
          "name": "stdout",
          "text": [
            "Train: loss = 0.0030, accuracy = 1.0000\n",
            "Valid: loss = 1.2252, accuracy = 0.6060\n"
          ]
        },
        {
          "output_type": "stream",
          "name": "stderr",
          "text": [
            "Epoch [38/50]: 100%|██████████| 22/22 [00:04<00:00,  5.42it/s, loss=0.00286]\n"
          ]
        },
        {
          "output_type": "stream",
          "name": "stdout",
          "text": [
            "Train: loss = 0.0029, accuracy = 1.0000\n",
            "Valid: loss = 1.2314, accuracy = 0.6100\n"
          ]
        },
        {
          "output_type": "stream",
          "name": "stderr",
          "text": [
            "Epoch [39/50]: 100%|██████████| 22/22 [00:03<00:00,  7.18it/s, loss=0.00277]\n"
          ]
        },
        {
          "output_type": "stream",
          "name": "stdout",
          "text": [
            "Train: loss = 0.0026, accuracy = 1.0000\n",
            "Valid: loss = 1.2193, accuracy = 0.6131\n"
          ]
        },
        {
          "output_type": "stream",
          "name": "stderr",
          "text": [
            "Epoch [40/50]: 100%|██████████| 22/22 [00:03<00:00,  5.60it/s, loss=0.00246]\n"
          ]
        },
        {
          "output_type": "stream",
          "name": "stdout",
          "text": [
            "Train: loss = 0.0025, accuracy = 1.0000\n",
            "Valid: loss = 1.2194, accuracy = 0.6096\n"
          ]
        },
        {
          "output_type": "stream",
          "name": "stderr",
          "text": [
            "Epoch [41/50]: 100%|██████████| 22/22 [00:02<00:00,  7.34it/s, loss=0.00248]\n"
          ]
        },
        {
          "output_type": "stream",
          "name": "stdout",
          "text": [
            "Train: loss = 0.0025, accuracy = 1.0000\n",
            "Valid: loss = 1.2150, accuracy = 0.6239\n"
          ]
        },
        {
          "output_type": "stream",
          "name": "stderr",
          "text": [
            "Epoch [42/50]: 100%|██████████| 22/22 [00:03<00:00,  6.75it/s, loss=0.00226]\n"
          ]
        },
        {
          "output_type": "stream",
          "name": "stdout",
          "text": [
            "Train: loss = 0.0023, accuracy = 1.0000\n",
            "Valid: loss = 1.2154, accuracy = 0.6060\n"
          ]
        },
        {
          "output_type": "stream",
          "name": "stderr",
          "text": [
            "Epoch [43/50]: 100%|██████████| 22/22 [00:03<00:00,  7.24it/s, loss=0.00213]\n"
          ]
        },
        {
          "output_type": "stream",
          "name": "stdout",
          "text": [
            "Train: loss = 0.0021, accuracy = 1.0000\n",
            "Valid: loss = 1.2237, accuracy = 0.6167\n"
          ]
        },
        {
          "output_type": "stream",
          "name": "stderr",
          "text": [
            "Epoch [44/50]: 100%|██████████| 22/22 [00:03<00:00,  7.15it/s, loss=0.00205]\n"
          ]
        },
        {
          "output_type": "stream",
          "name": "stdout",
          "text": [
            "Train: loss = 0.0021, accuracy = 1.0000\n",
            "Valid: loss = 1.2434, accuracy = 0.6060\n"
          ]
        },
        {
          "output_type": "stream",
          "name": "stderr",
          "text": [
            "Epoch [45/50]: 100%|██████████| 22/22 [00:03<00:00,  6.42it/s, loss=0.00209]\n"
          ]
        },
        {
          "output_type": "stream",
          "name": "stdout",
          "text": [
            "Train: loss = 0.0020, accuracy = 1.0000\n",
            "Valid: loss = 1.2133, accuracy = 0.6625\n"
          ]
        },
        {
          "output_type": "stream",
          "name": "stderr",
          "text": [
            "Epoch [46/50]: 100%|██████████| 22/22 [00:03<00:00,  7.02it/s, loss=0.00194]\n"
          ]
        },
        {
          "output_type": "stream",
          "name": "stdout",
          "text": [
            "Train: loss = 0.0020, accuracy = 1.0000\n",
            "Valid: loss = 1.2288, accuracy = 0.6159\n"
          ]
        },
        {
          "output_type": "stream",
          "name": "stderr",
          "text": [
            "Epoch [47/50]: 100%|██████████| 22/22 [00:03<00:00,  5.55it/s, loss=0.00179]\n"
          ]
        },
        {
          "output_type": "stream",
          "name": "stdout",
          "text": [
            "Train: loss = 0.0018, accuracy = 1.0000\n",
            "Valid: loss = 1.2431, accuracy = 0.6092\n"
          ]
        },
        {
          "output_type": "stream",
          "name": "stderr",
          "text": [
            "Epoch [48/50]: 100%|██████████| 22/22 [00:03<00:00,  7.07it/s, loss=0.00181]\n"
          ]
        },
        {
          "output_type": "stream",
          "name": "stdout",
          "text": [
            "Train: loss = 0.0018, accuracy = 1.0000\n",
            "Valid: loss = 1.2280, accuracy = 0.6159\n"
          ]
        },
        {
          "output_type": "stream",
          "name": "stderr",
          "text": [
            "Epoch [49/50]: 100%|██████████| 22/22 [00:04<00:00,  5.26it/s, loss=0.00174]\n"
          ]
        },
        {
          "output_type": "stream",
          "name": "stdout",
          "text": [
            "Train: loss = 0.0017, accuracy = 1.0000\n",
            "Valid: loss = 1.2189, accuracy = 0.6395\n"
          ]
        },
        {
          "output_type": "stream",
          "name": "stderr",
          "text": [
            "Epoch [50/50]: 100%|██████████| 22/22 [00:03<00:00,  7.24it/s, loss=0.00172]\n"
          ]
        },
        {
          "output_type": "stream",
          "name": "stdout",
          "text": [
            "Train: loss = 0.0017, accuracy = 1.0000\n",
            "Valid: loss = 1.2408, accuracy = 0.6060\n"
          ]
        }
      ]
    },
    {
      "cell_type": "code",
      "source": [
        "# Train and validate Net4\n",
        "print(f'\\nTraining Net4')\n",
        "net4 = Net3(conv1_channels=16, conv2_channels=16, conv3_channels=32, conv4_channels=32)\n",
        "optimizer = RMSprop(net4.parameters(), lr=0.0001)\n",
        "train(net4, train_loader, val_loader, optimizer, loss_fn, 50, False, device)\n",
        "net4_val_loss, net4_val_acc = evaluate(net4, val_loader, loss_fn, device)"
      ],
      "metadata": {
        "id": "1KhL2FckSZEV",
        "colab": {
          "base_uri": "https://localhost:8080/"
        },
        "outputId": "dd4bc309-82d0-4e4b-bd4d-0afd1178072e",
        "collapsed": true
      },
      "execution_count": 69,
      "outputs": [
        {
          "output_type": "stream",
          "name": "stdout",
          "text": [
            "\n",
            "Training Net4\n"
          ]
        },
        {
          "output_type": "stream",
          "name": "stderr",
          "text": [
            "Epoch [1/50]: 100%|██████████| 22/22 [00:02<00:00,  8.22it/s, loss=4.35]\n"
          ]
        },
        {
          "output_type": "stream",
          "name": "stdout",
          "text": [
            "Train: loss = 2.7804, accuracy = 0.1448\n",
            "Valid: loss = 2.8494, accuracy = 0.1262\n"
          ]
        },
        {
          "output_type": "stream",
          "name": "stderr",
          "text": [
            "Epoch [2/50]: 100%|██████████| 22/22 [00:02<00:00,  8.07it/s, loss=1.85]\n"
          ]
        },
        {
          "output_type": "stream",
          "name": "stdout",
          "text": [
            "Train: loss = 2.5835, accuracy = 0.0949\n",
            "Valid: loss = 2.8505, accuracy = 0.1024\n"
          ]
        },
        {
          "output_type": "stream",
          "name": "stderr",
          "text": [
            "Epoch [3/50]: 100%|██████████| 22/22 [00:02<00:00,  8.11it/s, loss=1.49]\n"
          ]
        },
        {
          "output_type": "stream",
          "name": "stdout",
          "text": [
            "Train: loss = 1.5959, accuracy = 0.3918\n",
            "Valid: loss = 1.8108, accuracy = 0.3613\n"
          ]
        },
        {
          "output_type": "stream",
          "name": "stderr",
          "text": [
            "Epoch [4/50]: 100%|██████████| 22/22 [00:02<00:00,  7.95it/s, loss=1.39]\n"
          ]
        },
        {
          "output_type": "stream",
          "name": "stdout",
          "text": [
            "Train: loss = 1.4270, accuracy = 0.4993\n",
            "Valid: loss = 1.7191, accuracy = 0.3971\n"
          ]
        },
        {
          "output_type": "stream",
          "name": "stderr",
          "text": [
            "Epoch [5/50]: 100%|██████████| 22/22 [00:02<00:00,  8.18it/s, loss=1.31]\n"
          ]
        },
        {
          "output_type": "stream",
          "name": "stdout",
          "text": [
            "Train: loss = 1.4183, accuracy = 0.4344\n",
            "Valid: loss = 1.7230, accuracy = 0.3670\n"
          ]
        },
        {
          "output_type": "stream",
          "name": "stderr",
          "text": [
            "Epoch [6/50]: 100%|██████████| 22/22 [00:02<00:00,  7.93it/s, loss=1.17]\n"
          ]
        },
        {
          "output_type": "stream",
          "name": "stdout",
          "text": [
            "Train: loss = 1.1301, accuracy = 0.6352\n",
            "Valid: loss = 1.5178, accuracy = 0.5241\n"
          ]
        },
        {
          "output_type": "stream",
          "name": "stderr",
          "text": [
            "Epoch [7/50]: 100%|██████████| 22/22 [00:02<00:00,  8.09it/s, loss=1.02]\n"
          ]
        },
        {
          "output_type": "stream",
          "name": "stdout",
          "text": [
            "Train: loss = 1.0255, accuracy = 0.6635\n",
            "Valid: loss = 1.5168, accuracy = 0.4773\n"
          ]
        },
        {
          "output_type": "stream",
          "name": "stderr",
          "text": [
            "Epoch [8/50]: 100%|██████████| 22/22 [00:02<00:00,  7.79it/s, loss=1.05]\n"
          ]
        },
        {
          "output_type": "stream",
          "name": "stdout",
          "text": [
            "Train: loss = 0.9205, accuracy = 0.7180\n",
            "Valid: loss = 1.4240, accuracy = 0.5558\n"
          ]
        },
        {
          "output_type": "stream",
          "name": "stderr",
          "text": [
            "Epoch [9/50]: 100%|██████████| 22/22 [00:03<00:00,  5.75it/s, loss=0.852]\n"
          ]
        },
        {
          "output_type": "stream",
          "name": "stdout",
          "text": [
            "Train: loss = 0.8451, accuracy = 0.7223\n",
            "Valid: loss = 1.3662, accuracy = 0.5355\n"
          ]
        },
        {
          "output_type": "stream",
          "name": "stderr",
          "text": [
            "Epoch [10/50]: 100%|██████████| 22/22 [00:03<00:00,  6.15it/s, loss=0.757]\n"
          ]
        },
        {
          "output_type": "stream",
          "name": "stdout",
          "text": [
            "Train: loss = 0.8723, accuracy = 0.6736\n",
            "Valid: loss = 1.4760, accuracy = 0.4177\n"
          ]
        },
        {
          "output_type": "stream",
          "name": "stderr",
          "text": [
            "Epoch [11/50]: 100%|██████████| 22/22 [00:02<00:00,  8.00it/s, loss=0.628]\n"
          ]
        },
        {
          "output_type": "stream",
          "name": "stdout",
          "text": [
            "Train: loss = 0.6409, accuracy = 0.8211\n",
            "Valid: loss = 1.4044, accuracy = 0.4940\n"
          ]
        },
        {
          "output_type": "stream",
          "name": "stderr",
          "text": [
            "Epoch [12/50]: 100%|██████████| 22/22 [00:03<00:00,  5.99it/s, loss=0.702]\n"
          ]
        },
        {
          "output_type": "stream",
          "name": "stdout",
          "text": [
            "Train: loss = 0.6225, accuracy = 0.7909\n",
            "Valid: loss = 1.4019, accuracy = 0.4845\n"
          ]
        },
        {
          "output_type": "stream",
          "name": "stderr",
          "text": [
            "Epoch [13/50]: 100%|██████████| 22/22 [00:02<00:00,  8.07it/s, loss=0.613]\n"
          ]
        },
        {
          "output_type": "stream",
          "name": "stdout",
          "text": [
            "Train: loss = 0.4247, accuracy = 0.9240\n",
            "Valid: loss = 1.2843, accuracy = 0.5267\n"
          ]
        },
        {
          "output_type": "stream",
          "name": "stderr",
          "text": [
            "Epoch [14/50]: 100%|██████████| 22/22 [00:03<00:00,  5.72it/s, loss=0.409]\n"
          ]
        },
        {
          "output_type": "stream",
          "name": "stdout",
          "text": [
            "Train: loss = 0.3947, accuracy = 0.8975\n",
            "Valid: loss = 1.2371, accuracy = 0.5822\n"
          ]
        },
        {
          "output_type": "stream",
          "name": "stderr",
          "text": [
            "Epoch [15/50]: 100%|██████████| 22/22 [00:02<00:00,  7.89it/s, loss=0.374]\n"
          ]
        },
        {
          "output_type": "stream",
          "name": "stdout",
          "text": [
            "Train: loss = 0.4653, accuracy = 0.8310\n",
            "Valid: loss = 1.5583, accuracy = 0.5475\n"
          ]
        },
        {
          "output_type": "stream",
          "name": "stderr",
          "text": [
            "Epoch [16/50]: 100%|██████████| 22/22 [00:03<00:00,  5.89it/s, loss=0.307]\n"
          ]
        },
        {
          "output_type": "stream",
          "name": "stdout",
          "text": [
            "Train: loss = 0.2404, accuracy = 0.9721\n",
            "Valid: loss = 1.2329, accuracy = 0.5687\n"
          ]
        },
        {
          "output_type": "stream",
          "name": "stderr",
          "text": [
            "Epoch [17/50]: 100%|██████████| 22/22 [00:02<00:00,  7.71it/s, loss=0.31]\n"
          ]
        },
        {
          "output_type": "stream",
          "name": "stdout",
          "text": [
            "Train: loss = 0.2765, accuracy = 0.9257\n",
            "Valid: loss = 1.3597, accuracy = 0.5031\n"
          ]
        },
        {
          "output_type": "stream",
          "name": "stderr",
          "text": [
            "Epoch [18/50]: 100%|██████████| 22/22 [00:03<00:00,  5.75it/s, loss=0.21]\n"
          ]
        },
        {
          "output_type": "stream",
          "name": "stdout",
          "text": [
            "Train: loss = 0.1613, accuracy = 0.9924\n",
            "Valid: loss = 1.1891, accuracy = 0.6280\n"
          ]
        },
        {
          "output_type": "stream",
          "name": "stderr",
          "text": [
            "Epoch [19/50]: 100%|██████████| 22/22 [00:02<00:00,  7.95it/s, loss=0.157]\n"
          ]
        },
        {
          "output_type": "stream",
          "name": "stdout",
          "text": [
            "Train: loss = 0.1993, accuracy = 0.9825\n",
            "Valid: loss = 1.2233, accuracy = 0.5745\n"
          ]
        },
        {
          "output_type": "stream",
          "name": "stderr",
          "text": [
            "Epoch [20/50]: 100%|██████████| 22/22 [00:03<00:00,  5.80it/s, loss=0.14]\n"
          ]
        },
        {
          "output_type": "stream",
          "name": "stdout",
          "text": [
            "Train: loss = 0.1233, accuracy = 0.9977\n",
            "Valid: loss = 1.1999, accuracy = 0.5845\n"
          ]
        },
        {
          "output_type": "stream",
          "name": "stderr",
          "text": [
            "Epoch [21/50]: 100%|██████████| 22/22 [00:02<00:00,  7.91it/s, loss=0.131]\n"
          ]
        },
        {
          "output_type": "stream",
          "name": "stdout",
          "text": [
            "Train: loss = 0.1057, accuracy = 0.9869\n",
            "Valid: loss = 1.1983, accuracy = 0.5647\n"
          ]
        },
        {
          "output_type": "stream",
          "name": "stderr",
          "text": [
            "Epoch [22/50]: 100%|██████████| 22/22 [00:03<00:00,  6.05it/s, loss=0.0855]\n"
          ]
        },
        {
          "output_type": "stream",
          "name": "stdout",
          "text": [
            "Train: loss = 0.0724, accuracy = 1.0000\n",
            "Valid: loss = 1.1768, accuracy = 0.6061\n"
          ]
        },
        {
          "output_type": "stream",
          "name": "stderr",
          "text": [
            "Epoch [23/50]: 100%|██████████| 22/22 [00:02<00:00,  7.89it/s, loss=0.0744]\n"
          ]
        },
        {
          "output_type": "stream",
          "name": "stdout",
          "text": [
            "Train: loss = 0.0724, accuracy = 1.0000\n",
            "Valid: loss = 1.2578, accuracy = 0.5728\n"
          ]
        },
        {
          "output_type": "stream",
          "name": "stderr",
          "text": [
            "Epoch [24/50]: 100%|██████████| 22/22 [00:03<00:00,  6.37it/s, loss=0.0587]\n"
          ]
        },
        {
          "output_type": "stream",
          "name": "stdout",
          "text": [
            "Train: loss = 0.0658, accuracy = 1.0000\n",
            "Valid: loss = 1.2594, accuracy = 0.5847\n"
          ]
        },
        {
          "output_type": "stream",
          "name": "stderr",
          "text": [
            "Epoch [25/50]: 100%|██████████| 22/22 [00:02<00:00,  7.98it/s, loss=0.0502]\n"
          ]
        },
        {
          "output_type": "stream",
          "name": "stdout",
          "text": [
            "Train: loss = 0.0666, accuracy = 1.0000\n",
            "Valid: loss = 1.3266, accuracy = 0.5790\n"
          ]
        },
        {
          "output_type": "stream",
          "name": "stderr",
          "text": [
            "Epoch [26/50]: 100%|██████████| 22/22 [00:03<00:00,  6.68it/s, loss=0.113]\n"
          ]
        },
        {
          "output_type": "stream",
          "name": "stdout",
          "text": [
            "Train: loss = 0.7285, accuracy = 0.8710\n",
            "Valid: loss = 2.0383, accuracy = 0.4383\n"
          ]
        },
        {
          "output_type": "stream",
          "name": "stderr",
          "text": [
            "Epoch [27/50]: 100%|██████████| 22/22 [00:02<00:00,  8.06it/s, loss=0.213]\n"
          ]
        },
        {
          "output_type": "stream",
          "name": "stdout",
          "text": [
            "Train: loss = 0.0452, accuracy = 1.0000\n",
            "Valid: loss = 1.1978, accuracy = 0.5828\n"
          ]
        },
        {
          "output_type": "stream",
          "name": "stderr",
          "text": [
            "Epoch [28/50]: 100%|██████████| 22/22 [00:03<00:00,  7.26it/s, loss=0.0359]\n"
          ]
        },
        {
          "output_type": "stream",
          "name": "stdout",
          "text": [
            "Train: loss = 0.0344, accuracy = 1.0000\n",
            "Valid: loss = 1.1918, accuracy = 0.6095\n"
          ]
        },
        {
          "output_type": "stream",
          "name": "stderr",
          "text": [
            "Epoch [29/50]: 100%|██████████| 22/22 [00:02<00:00,  8.04it/s, loss=0.0364]\n"
          ]
        },
        {
          "output_type": "stream",
          "name": "stdout",
          "text": [
            "Train: loss = 0.0298, accuracy = 1.0000\n",
            "Valid: loss = 1.1822, accuracy = 0.5728\n"
          ]
        },
        {
          "output_type": "stream",
          "name": "stderr",
          "text": [
            "Epoch [30/50]: 100%|██████████| 22/22 [00:02<00:00,  7.65it/s, loss=0.0283]\n"
          ]
        },
        {
          "output_type": "stream",
          "name": "stdout",
          "text": [
            "Train: loss = 0.0263, accuracy = 1.0000\n",
            "Valid: loss = 1.1565, accuracy = 0.6044\n"
          ]
        },
        {
          "output_type": "stream",
          "name": "stderr",
          "text": [
            "Epoch [31/50]: 100%|██████████| 22/22 [00:02<00:00,  7.65it/s, loss=0.026]\n"
          ]
        },
        {
          "output_type": "stream",
          "name": "stdout",
          "text": [
            "Train: loss = 0.0257, accuracy = 1.0000\n",
            "Valid: loss = 1.1821, accuracy = 0.5872\n"
          ]
        },
        {
          "output_type": "stream",
          "name": "stderr",
          "text": [
            "Epoch [32/50]: 100%|██████████| 22/22 [00:02<00:00,  7.92it/s, loss=0.0221]\n"
          ]
        },
        {
          "output_type": "stream",
          "name": "stdout",
          "text": [
            "Train: loss = 0.0211, accuracy = 1.0000\n",
            "Valid: loss = 1.1695, accuracy = 0.6098\n"
          ]
        },
        {
          "output_type": "stream",
          "name": "stderr",
          "text": [
            "Epoch [33/50]: 100%|██████████| 22/22 [00:02<00:00,  7.92it/s, loss=0.02]\n",
            "Exception ignored in: <function _MultiProcessingDataLoaderIter.__del__ at 0x7f3c0258f560>\n",
            "Traceback (most recent call last):\n",
            "  File \"/usr/local/lib/python3.12/dist-packages/torch/utils/data/dataloader.py\", line 1664, in __del__\n",
            "    self._shutdown_workers()\n",
            "  File \"/usr/local/lib/python3.12/dist-packages/torch/utils/data/dataloader.py\", line 1647, in _shutdown_workers\n",
            "    if w.is_alive():\n",
            "       ^^^^^^^^^^^^\n",
            "  File \"/usr/lib/python3.12/multiprocessing/process.py\", line 160, in is_alive\n",
            "    assert self._parent_pid == os.getpid(), 'can only test a child process'\n",
            "           ^^^^^^^^^^^^^^^^^^^^^^^^^^^^^^^\n",
            "AssertionError: can only test a child process\n",
            "Exception ignored in: <function _MultiProcessingDataLoaderIter.__del__ at 0x7f3c0258f560>\n",
            "Traceback (most recent call last):\n",
            "  File \"/usr/local/lib/python3.12/dist-packages/torch/utils/data/dataloader.py\", line 1664, in __del__\n",
            "    self._shutdown_workers()  File \"/usr/local/lib/python3.12/dist-packages/torch/utils/data/dataloader.py\", line 1647, in _shutdown_workers\n",
            "\n",
            "    if w.is_alive():\n",
            "       ^^^^^^^^^^^^\n",
            "  File \"/usr/lib/python3.12/multiprocessing/process.py\", line 160, in is_alive\n",
            "    assert self._parent_pid == os.getpid(), 'can only test a child process'\n",
            "           ^^^^^^^^^^^^^^^^^^^^^^^^^^^^^^^\n",
            "AssertionError: can only test a child process\n"
          ]
        },
        {
          "output_type": "stream",
          "name": "stdout",
          "text": [
            "Train: loss = 0.0207, accuracy = 1.0000\n",
            "Valid: loss = 1.1744, accuracy = 0.6070\n"
          ]
        },
        {
          "output_type": "stream",
          "name": "stderr",
          "text": [
            "Epoch [34/50]: 100%|██████████| 22/22 [00:02<00:00,  8.04it/s, loss=0.0186]\n"
          ]
        },
        {
          "output_type": "stream",
          "name": "stdout",
          "text": [
            "Train: loss = 0.0158, accuracy = 1.0000\n",
            "Valid: loss = 1.1955, accuracy = 0.5847\n"
          ]
        },
        {
          "output_type": "stream",
          "name": "stderr",
          "text": [
            "Epoch [35/50]: 100%|██████████| 22/22 [00:02<00:00,  7.60it/s, loss=0.0162]\n"
          ]
        },
        {
          "output_type": "stream",
          "name": "stdout",
          "text": [
            "Train: loss = 0.0153, accuracy = 1.0000\n",
            "Valid: loss = 1.2515, accuracy = 0.5989\n"
          ]
        },
        {
          "output_type": "stream",
          "name": "stderr",
          "text": [
            "Epoch [36/50]: 100%|██████████| 22/22 [00:03<00:00,  6.08it/s, loss=0.0244]\n"
          ]
        },
        {
          "output_type": "stream",
          "name": "stdout",
          "text": [
            "Train: loss = 0.0208, accuracy = 1.0000\n",
            "Valid: loss = 1.3145, accuracy = 0.5918\n"
          ]
        },
        {
          "output_type": "stream",
          "name": "stderr",
          "text": [
            "Epoch [37/50]: 100%|██████████| 22/22 [00:03<00:00,  6.50it/s, loss=0.0127]\n"
          ]
        },
        {
          "output_type": "stream",
          "name": "stdout",
          "text": [
            "Train: loss = 0.0111, accuracy = 1.0000\n",
            "Valid: loss = 1.2098, accuracy = 0.5668\n"
          ]
        },
        {
          "output_type": "stream",
          "name": "stderr",
          "text": [
            "Epoch [38/50]: 100%|██████████| 22/22 [00:02<00:00,  8.01it/s, loss=0.0113]\n"
          ]
        },
        {
          "output_type": "stream",
          "name": "stdout",
          "text": [
            "Train: loss = 0.0115, accuracy = 1.0000\n",
            "Valid: loss = 1.2326, accuracy = 0.5937\n"
          ]
        },
        {
          "output_type": "stream",
          "name": "stderr",
          "text": [
            "Epoch [39/50]: 100%|██████████| 22/22 [00:03<00:00,  6.61it/s, loss=0.0101]\n"
          ]
        },
        {
          "output_type": "stream",
          "name": "stdout",
          "text": [
            "Train: loss = 0.0110, accuracy = 1.0000\n",
            "Valid: loss = 1.2094, accuracy = 0.5738\n"
          ]
        },
        {
          "output_type": "stream",
          "name": "stderr",
          "text": [
            "Epoch [40/50]: 100%|██████████| 22/22 [00:02<00:00,  8.02it/s, loss=0.00909]\n"
          ]
        },
        {
          "output_type": "stream",
          "name": "stdout",
          "text": [
            "Train: loss = 0.0093, accuracy = 1.0000\n",
            "Valid: loss = 1.2492, accuracy = 0.6049\n"
          ]
        },
        {
          "output_type": "stream",
          "name": "stderr",
          "text": [
            "Epoch [41/50]: 100%|██████████| 22/22 [00:03<00:00,  6.91it/s, loss=0.00948]\n"
          ]
        },
        {
          "output_type": "stream",
          "name": "stdout",
          "text": [
            "Train: loss = 0.0086, accuracy = 1.0000\n",
            "Valid: loss = 1.2225, accuracy = 0.6190\n"
          ]
        },
        {
          "output_type": "stream",
          "name": "stderr",
          "text": [
            "Epoch [42/50]: 100%|██████████| 22/22 [00:02<00:00,  7.98it/s, loss=0.00783]\n"
          ]
        },
        {
          "output_type": "stream",
          "name": "stdout",
          "text": [
            "Train: loss = 0.0066, accuracy = 1.0000\n",
            "Valid: loss = 1.2191, accuracy = 0.5835\n"
          ]
        },
        {
          "output_type": "stream",
          "name": "stderr",
          "text": [
            "Epoch [43/50]: 100%|██████████| 22/22 [00:03<00:00,  7.18it/s, loss=0.00726]\n"
          ]
        },
        {
          "output_type": "stream",
          "name": "stdout",
          "text": [
            "Train: loss = 0.0060, accuracy = 1.0000\n",
            "Valid: loss = 1.2455, accuracy = 0.5989\n"
          ]
        },
        {
          "output_type": "stream",
          "name": "stderr",
          "text": [
            "Epoch [44/50]: 100%|██████████| 22/22 [00:02<00:00,  7.85it/s, loss=0.00598]\n"
          ]
        },
        {
          "output_type": "stream",
          "name": "stdout",
          "text": [
            "Train: loss = 0.0057, accuracy = 1.0000\n",
            "Valid: loss = 1.2370, accuracy = 0.5790\n"
          ]
        },
        {
          "output_type": "stream",
          "name": "stderr",
          "text": [
            "Epoch [45/50]: 100%|██████████| 22/22 [00:03<00:00,  6.86it/s, loss=0.00564]\n"
          ]
        },
        {
          "output_type": "stream",
          "name": "stdout",
          "text": [
            "Train: loss = 0.0050, accuracy = 1.0000\n",
            "Valid: loss = 1.2310, accuracy = 0.6066\n"
          ]
        },
        {
          "output_type": "stream",
          "name": "stderr",
          "text": [
            "Epoch [46/50]: 100%|██████████| 22/22 [00:02<00:00,  8.05it/s, loss=0.00457]\n"
          ]
        },
        {
          "output_type": "stream",
          "name": "stdout",
          "text": [
            "Train: loss = 0.0043, accuracy = 1.0000\n",
            "Valid: loss = 1.2574, accuracy = 0.5930\n"
          ]
        },
        {
          "output_type": "stream",
          "name": "stderr",
          "text": [
            "Epoch [47/50]: 100%|██████████| 22/22 [00:03<00:00,  6.34it/s, loss=0.00426]\n"
          ]
        },
        {
          "output_type": "stream",
          "name": "stdout",
          "text": [
            "Train: loss = 0.0038, accuracy = 1.0000\n",
            "Valid: loss = 1.2555, accuracy = 0.6221\n"
          ]
        },
        {
          "output_type": "stream",
          "name": "stderr",
          "text": [
            "Epoch [48/50]: 100%|██████████| 22/22 [00:02<00:00,  7.96it/s, loss=0.0038]\n"
          ]
        },
        {
          "output_type": "stream",
          "name": "stdout",
          "text": [
            "Train: loss = 0.0036, accuracy = 1.0000\n",
            "Valid: loss = 1.3410, accuracy = 0.5921\n"
          ]
        },
        {
          "output_type": "stream",
          "name": "stderr",
          "text": [
            "Epoch [49/50]: 100%|██████████| 22/22 [00:03<00:00,  5.86it/s, loss=0.00375]\n"
          ]
        },
        {
          "output_type": "stream",
          "name": "stdout",
          "text": [
            "Train: loss = 0.0029, accuracy = 1.0000\n",
            "Valid: loss = 1.3021, accuracy = 0.6085\n"
          ]
        },
        {
          "output_type": "stream",
          "name": "stderr",
          "text": [
            "Epoch [50/50]: 100%|██████████| 22/22 [00:02<00:00,  8.03it/s, loss=0.00524]\n"
          ]
        },
        {
          "output_type": "stream",
          "name": "stdout",
          "text": [
            "Train: loss = 0.1901, accuracy = 0.9211\n",
            "Valid: loss = 2.3332, accuracy = 0.5729\n"
          ]
        }
      ]
    },
    {
      "cell_type": "code",
      "source": [
        "# Print the validation loss and the validation accuracy of each model\n",
        "print(f'Net1: val_acc={net1_val_acc:.4f}, val_loss={net1_val_loss:.4f}')\n",
        "print(f'Net2: val_acc={net2_val_acc:.4f}, val_loss={net2_val_loss:.4f}')\n",
        "print(f'Net3: val_acc={net3_val_acc:.4f}, val_loss={net3_val_loss:.4f}')\n",
        "print(f'Net4: val_acc={net4_val_acc:.4f}, val_loss={net4_val_loss:.4f}')"
      ],
      "metadata": {
        "id": "I-j6IO854mjW",
        "colab": {
          "base_uri": "https://localhost:8080/"
        },
        "outputId": "7c635962-51d6-4706-c6b4-ea3e3d305ef8"
      },
      "execution_count": 70,
      "outputs": [
        {
          "output_type": "stream",
          "name": "stdout",
          "text": [
            "Net1: val_acc=0.4341, val_loss=1.6697\n",
            "Net2: val_acc=0.4463, val_loss=1.8133\n",
            "Net3: val_acc=0.6060, val_loss=1.2408\n",
            "Net4: val_acc=0.5729, val_loss=2.3332\n"
          ]
        }
      ]
    },
    {
      "cell_type": "markdown",
      "source": [
        "# **Model Testing (Net3)**"
      ],
      "metadata": {
        "id": "nM678WLO3KFY"
      }
    },
    {
      "cell_type": "code",
      "source": [
        "# Combine train and val sets\n",
        "train_dataset = ConcatDataset([train_loader.dataset, val_loader.dataset])\n",
        "train_loader = DataLoader(train_dataset, batch_size=32, shuffle=True)\n",
        "\n",
        "# Loss function\n",
        "loss_fn = nn.CrossEntropyLoss()\n",
        "\n",
        "# Re-train and evaluate Net3\n",
        "model = Net3(32, 32, 64, 64)\n",
        "optimizer = torch.optim.Adam(model.parameters(), lr=1e-4)\n",
        "history = train(model, train_loader, test_loader, optimizer, loss_fn, epochs=50, trigger=False, device=device)\n",
        "test_loss, test_acc = evaluate(model, test_loader, loss_fn, device)\n",
        "\n",
        "# Print the test loss and the test accuracy of Net3\n",
        "print(f'Net3: test_loss={test_loss:.4f}, test_acc={test_acc:.4f}')"
      ],
      "metadata": {
        "id": "NTkeqF8k3JZ4",
        "colab": {
          "base_uri": "https://localhost:8080/"
        },
        "outputId": "f59c7e0d-b4cb-4bb7-cfef-fefff4591210"
      },
      "execution_count": 71,
      "outputs": [
        {
          "output_type": "stream",
          "name": "stderr",
          "text": [
            "Epoch [1/50]: 100%|██████████| 29/29 [00:06<00:00,  4.39it/s, loss=2.16]\n"
          ]
        },
        {
          "output_type": "stream",
          "name": "stdout",
          "text": [
            "Train: loss = 2.4701, accuracy = 0.0958\n",
            "Valid: loss = 2.5224, accuracy = 0.0750\n"
          ]
        },
        {
          "output_type": "stream",
          "name": "stderr",
          "text": [
            "Epoch [2/50]: 100%|██████████| 29/29 [00:06<00:00,  4.39it/s, loss=1.43]\n"
          ]
        },
        {
          "output_type": "stream",
          "name": "stdout",
          "text": [
            "Train: loss = 1.6714, accuracy = 0.4328\n",
            "Valid: loss = 1.6703, accuracy = 0.4231\n"
          ]
        },
        {
          "output_type": "stream",
          "name": "stderr",
          "text": [
            "Epoch [3/50]: 100%|██████████| 29/29 [00:06<00:00,  4.35it/s, loss=1.05]\n"
          ]
        },
        {
          "output_type": "stream",
          "name": "stdout",
          "text": [
            "Train: loss = 1.0761, accuracy = 0.6192\n",
            "Valid: loss = 1.2169, accuracy = 0.6275\n"
          ]
        },
        {
          "output_type": "stream",
          "name": "stderr",
          "text": [
            "Epoch [4/50]: 100%|██████████| 29/29 [00:06<00:00,  4.37it/s, loss=0.835]\n"
          ]
        },
        {
          "output_type": "stream",
          "name": "stdout",
          "text": [
            "Train: loss = 1.0168, accuracy = 0.6537\n",
            "Valid: loss = 1.2150, accuracy = 0.5244\n"
          ]
        },
        {
          "output_type": "stream",
          "name": "stderr",
          "text": [
            "Epoch [5/50]: 100%|██████████| 29/29 [00:06<00:00,  4.36it/s, loss=0.576]\n"
          ]
        },
        {
          "output_type": "stream",
          "name": "stdout",
          "text": [
            "Train: loss = 0.5284, accuracy = 0.8476\n",
            "Valid: loss = 0.9141, accuracy = 0.6179\n"
          ]
        },
        {
          "output_type": "stream",
          "name": "stderr",
          "text": [
            "Epoch [6/50]: 100%|██████████| 29/29 [00:06<00:00,  4.35it/s, loss=0.428]\n"
          ]
        },
        {
          "output_type": "stream",
          "name": "stdout",
          "text": [
            "Train: loss = 0.3515, accuracy = 0.9035\n",
            "Valid: loss = 0.9246, accuracy = 0.6496\n"
          ]
        },
        {
          "output_type": "stream",
          "name": "stderr",
          "text": [
            "Epoch [7/50]: 100%|██████████| 29/29 [00:06<00:00,  4.37it/s, loss=0.382]\n"
          ]
        },
        {
          "output_type": "stream",
          "name": "stdout",
          "text": [
            "Train: loss = 0.2408, accuracy = 0.9588\n",
            "Valid: loss = 0.8818, accuracy = 0.6213\n"
          ]
        },
        {
          "output_type": "stream",
          "name": "stderr",
          "text": [
            "Epoch [8/50]: 100%|██████████| 29/29 [00:07<00:00,  4.13it/s, loss=0.234]\n"
          ]
        },
        {
          "output_type": "stream",
          "name": "stdout",
          "text": [
            "Train: loss = 0.1719, accuracy = 0.9781\n",
            "Valid: loss = 0.8720, accuracy = 0.7171\n"
          ]
        },
        {
          "output_type": "stream",
          "name": "stderr",
          "text": [
            "Epoch [9/50]: 100%|██████████| 29/29 [00:06<00:00,  4.38it/s, loss=0.177]\n"
          ]
        },
        {
          "output_type": "stream",
          "name": "stdout",
          "text": [
            "Train: loss = 0.1170, accuracy = 0.9965\n",
            "Valid: loss = 0.7818, accuracy = 0.7347\n"
          ]
        },
        {
          "output_type": "stream",
          "name": "stderr",
          "text": [
            "Epoch [10/50]: 100%|██████████| 29/29 [00:06<00:00,  4.51it/s, loss=0.0861]\n"
          ]
        },
        {
          "output_type": "stream",
          "name": "stdout",
          "text": [
            "Train: loss = 0.0655, accuracy = 0.9990\n",
            "Valid: loss = 0.7540, accuracy = 0.7155\n"
          ]
        },
        {
          "output_type": "stream",
          "name": "stderr",
          "text": [
            "Epoch [11/50]: 100%|██████████| 29/29 [00:06<00:00,  4.58it/s, loss=0.0607]\n"
          ]
        },
        {
          "output_type": "stream",
          "name": "stdout",
          "text": [
            "Train: loss = 0.0551, accuracy = 0.9990\n",
            "Valid: loss = 0.7910, accuracy = 0.6822\n"
          ]
        },
        {
          "output_type": "stream",
          "name": "stderr",
          "text": [
            "Epoch [12/50]: 100%|██████████| 29/29 [00:06<00:00,  4.65it/s, loss=0.0411]\n"
          ]
        },
        {
          "output_type": "stream",
          "name": "stdout",
          "text": [
            "Train: loss = 0.0456, accuracy = 0.9995\n",
            "Valid: loss = 0.7349, accuracy = 0.7365\n"
          ]
        },
        {
          "output_type": "stream",
          "name": "stderr",
          "text": [
            "Epoch [13/50]: 100%|██████████| 29/29 [00:06<00:00,  4.66it/s, loss=0.0409]\n"
          ]
        },
        {
          "output_type": "stream",
          "name": "stdout",
          "text": [
            "Train: loss = 0.0616, accuracy = 0.9991\n",
            "Valid: loss = 0.7517, accuracy = 0.7468\n"
          ]
        },
        {
          "output_type": "stream",
          "name": "stderr",
          "text": [
            "Epoch [14/50]: 100%|██████████| 29/29 [00:06<00:00,  4.68it/s, loss=0.0485]\n"
          ]
        },
        {
          "output_type": "stream",
          "name": "stdout",
          "text": [
            "Train: loss = 0.0358, accuracy = 0.9990\n",
            "Valid: loss = 0.8220, accuracy = 0.7130\n"
          ]
        },
        {
          "output_type": "stream",
          "name": "stderr",
          "text": [
            "Epoch [15/50]: 100%|██████████| 29/29 [00:06<00:00,  4.67it/s, loss=0.0542]\n"
          ]
        },
        {
          "output_type": "stream",
          "name": "stdout",
          "text": [
            "Train: loss = 0.0380, accuracy = 0.9989\n",
            "Valid: loss = 0.7847, accuracy = 0.7113\n"
          ]
        },
        {
          "output_type": "stream",
          "name": "stderr",
          "text": [
            "Epoch [16/50]: 100%|██████████| 29/29 [00:06<00:00,  4.68it/s, loss=0.027]\n"
          ]
        },
        {
          "output_type": "stream",
          "name": "stdout",
          "text": [
            "Train: loss = 0.0246, accuracy = 0.9993\n",
            "Valid: loss = 0.7004, accuracy = 0.7428\n"
          ]
        },
        {
          "output_type": "stream",
          "name": "stderr",
          "text": [
            "Epoch [17/50]: 100%|██████████| 29/29 [00:06<00:00,  4.65it/s, loss=0.0263]\n"
          ]
        },
        {
          "output_type": "stream",
          "name": "stdout",
          "text": [
            "Train: loss = 0.0202, accuracy = 0.9989\n",
            "Valid: loss = 0.7189, accuracy = 0.7397\n"
          ]
        },
        {
          "output_type": "stream",
          "name": "stderr",
          "text": [
            "Epoch [18/50]: 100%|██████████| 29/29 [00:06<00:00,  4.68it/s, loss=0.0432]\n"
          ]
        },
        {
          "output_type": "stream",
          "name": "stdout",
          "text": [
            "Train: loss = 0.0404, accuracy = 0.9993\n",
            "Valid: loss = 0.8766, accuracy = 0.6460\n"
          ]
        },
        {
          "output_type": "stream",
          "name": "stderr",
          "text": [
            "Epoch [19/50]: 100%|██████████| 29/29 [00:06<00:00,  4.66it/s, loss=0.0381]\n"
          ]
        },
        {
          "output_type": "stream",
          "name": "stdout",
          "text": [
            "Train: loss = 0.0277, accuracy = 0.9991\n",
            "Valid: loss = 0.7720, accuracy = 0.6649\n"
          ]
        },
        {
          "output_type": "stream",
          "name": "stderr",
          "text": [
            "Epoch [20/50]: 100%|██████████| 29/29 [00:06<00:00,  4.65it/s, loss=0.0174]\n"
          ]
        },
        {
          "output_type": "stream",
          "name": "stdout",
          "text": [
            "Train: loss = 0.0190, accuracy = 0.9989\n",
            "Valid: loss = 0.7221, accuracy = 0.7745\n"
          ]
        },
        {
          "output_type": "stream",
          "name": "stderr",
          "text": [
            "Epoch [21/50]: 100%|██████████| 29/29 [00:06<00:00,  4.52it/s, loss=0.0218]\n"
          ]
        },
        {
          "output_type": "stream",
          "name": "stdout",
          "text": [
            "Train: loss = 0.0141, accuracy = 0.9983\n",
            "Valid: loss = 0.7174, accuracy = 0.7551\n"
          ]
        },
        {
          "output_type": "stream",
          "name": "stderr",
          "text": [
            "Epoch [22/50]: 100%|██████████| 29/29 [00:06<00:00,  4.41it/s, loss=0.016]\n"
          ]
        },
        {
          "output_type": "stream",
          "name": "stdout",
          "text": [
            "Train: loss = 0.0179, accuracy = 0.9994\n",
            "Valid: loss = 0.7141, accuracy = 0.7434\n"
          ]
        },
        {
          "output_type": "stream",
          "name": "stderr",
          "text": [
            "Epoch [23/50]: 100%|██████████| 29/29 [00:06<00:00,  4.35it/s, loss=0.017]\n"
          ]
        },
        {
          "output_type": "stream",
          "name": "stdout",
          "text": [
            "Train: loss = 0.0144, accuracy = 0.9989\n",
            "Valid: loss = 0.7504, accuracy = 0.7405\n"
          ]
        },
        {
          "output_type": "stream",
          "name": "stderr",
          "text": [
            "Epoch [24/50]: 100%|██████████| 29/29 [00:06<00:00,  4.32it/s, loss=0.016]\n"
          ]
        },
        {
          "output_type": "stream",
          "name": "stdout",
          "text": [
            "Train: loss = 0.0144, accuracy = 0.9990\n",
            "Valid: loss = 0.7566, accuracy = 0.7353\n"
          ]
        },
        {
          "output_type": "stream",
          "name": "stderr",
          "text": [
            "Epoch [25/50]: 100%|██████████| 29/29 [00:06<00:00,  4.35it/s, loss=0.0108]\n"
          ]
        },
        {
          "output_type": "stream",
          "name": "stdout",
          "text": [
            "Train: loss = 0.0112, accuracy = 0.9994\n",
            "Valid: loss = 0.7108, accuracy = 0.7455\n"
          ]
        },
        {
          "output_type": "stream",
          "name": "stderr",
          "text": [
            "Epoch [26/50]: 100%|██████████| 29/29 [00:06<00:00,  4.36it/s, loss=0.0112]\n"
          ]
        },
        {
          "output_type": "stream",
          "name": "stdout",
          "text": [
            "Train: loss = 0.0167, accuracy = 0.9993\n",
            "Valid: loss = 0.7352, accuracy = 0.7674\n"
          ]
        },
        {
          "output_type": "stream",
          "name": "stderr",
          "text": [
            "Epoch [27/50]: 100%|██████████| 29/29 [00:06<00:00,  4.39it/s, loss=0.00943]\n"
          ]
        },
        {
          "output_type": "stream",
          "name": "stdout",
          "text": [
            "Train: loss = 0.0129, accuracy = 0.9961\n",
            "Valid: loss = 0.7082, accuracy = 0.7611\n"
          ]
        },
        {
          "output_type": "stream",
          "name": "stderr",
          "text": [
            "Epoch [28/50]: 100%|██████████| 29/29 [00:06<00:00,  4.34it/s, loss=0.0108]\n"
          ]
        },
        {
          "output_type": "stream",
          "name": "stdout",
          "text": [
            "Train: loss = 0.0084, accuracy = 0.9989\n",
            "Valid: loss = 0.7041, accuracy = 0.6486\n"
          ]
        },
        {
          "output_type": "stream",
          "name": "stderr",
          "text": [
            "Epoch [29/50]: 100%|██████████| 29/29 [00:06<00:00,  4.39it/s, loss=0.0188]\n"
          ]
        },
        {
          "output_type": "stream",
          "name": "stdout",
          "text": [
            "Train: loss = 0.0083, accuracy = 0.9991\n",
            "Valid: loss = 0.7552, accuracy = 0.7445\n"
          ]
        },
        {
          "output_type": "stream",
          "name": "stderr",
          "text": [
            "Epoch [30/50]: 100%|██████████| 29/29 [00:06<00:00,  4.48it/s, loss=0.0129]\n"
          ]
        },
        {
          "output_type": "stream",
          "name": "stdout",
          "text": [
            "Train: loss = 0.0109, accuracy = 0.9995\n",
            "Valid: loss = 0.7518, accuracy = 0.7551\n"
          ]
        },
        {
          "output_type": "stream",
          "name": "stderr",
          "text": [
            "Epoch [31/50]: 100%|██████████| 29/29 [00:06<00:00,  4.53it/s, loss=0.00982]\n"
          ]
        },
        {
          "output_type": "stream",
          "name": "stdout",
          "text": [
            "Train: loss = 0.0079, accuracy = 0.9995\n",
            "Valid: loss = 0.7343, accuracy = 0.7718\n"
          ]
        },
        {
          "output_type": "stream",
          "name": "stderr",
          "text": [
            "Epoch [32/50]: 100%|██████████| 29/29 [00:06<00:00,  4.69it/s, loss=0.0104]\n"
          ]
        },
        {
          "output_type": "stream",
          "name": "stdout",
          "text": [
            "Train: loss = 0.0101, accuracy = 0.9990\n",
            "Valid: loss = 0.7122, accuracy = 0.7518\n"
          ]
        },
        {
          "output_type": "stream",
          "name": "stderr",
          "text": [
            "Epoch [33/50]: 100%|██████████| 29/29 [00:06<00:00,  4.67it/s, loss=0.028]\n"
          ]
        },
        {
          "output_type": "stream",
          "name": "stdout",
          "text": [
            "Train: loss = 0.0073, accuracy = 0.9991\n",
            "Valid: loss = 0.7524, accuracy = 0.6753\n"
          ]
        },
        {
          "output_type": "stream",
          "name": "stderr",
          "text": [
            "Epoch [34/50]: 100%|██████████| 29/29 [00:06<00:00,  4.69it/s, loss=0.0135]\n"
          ]
        },
        {
          "output_type": "stream",
          "name": "stdout",
          "text": [
            "Train: loss = 0.0126, accuracy = 0.9959\n",
            "Valid: loss = 0.8441, accuracy = 0.6647\n"
          ]
        },
        {
          "output_type": "stream",
          "name": "stderr",
          "text": [
            "Epoch [35/50]: 100%|██████████| 29/29 [00:06<00:00,  4.70it/s, loss=0.00793]\n"
          ]
        },
        {
          "output_type": "stream",
          "name": "stdout",
          "text": [
            "Train: loss = 0.0067, accuracy = 0.9994\n",
            "Valid: loss = 0.7557, accuracy = 0.7516\n"
          ]
        },
        {
          "output_type": "stream",
          "name": "stderr",
          "text": [
            "Epoch [36/50]: 100%|██████████| 29/29 [00:06<00:00,  4.67it/s, loss=0.00876]\n"
          ]
        },
        {
          "output_type": "stream",
          "name": "stdout",
          "text": [
            "Train: loss = 0.0068, accuracy = 0.9994\n",
            "Valid: loss = 0.7241, accuracy = 0.7343\n"
          ]
        },
        {
          "output_type": "stream",
          "name": "stderr",
          "text": [
            "Epoch [37/50]: 100%|██████████| 29/29 [00:06<00:00,  4.69it/s, loss=0.014]\n"
          ]
        },
        {
          "output_type": "stream",
          "name": "stdout",
          "text": [
            "Train: loss = 0.0059, accuracy = 0.9995\n",
            "Valid: loss = 0.7658, accuracy = 0.7549\n"
          ]
        },
        {
          "output_type": "stream",
          "name": "stderr",
          "text": [
            "Epoch [38/50]: 100%|██████████| 29/29 [00:06<00:00,  4.68it/s, loss=0.0118]\n"
          ]
        },
        {
          "output_type": "stream",
          "name": "stdout",
          "text": [
            "Train: loss = 0.0069, accuracy = 0.9983\n",
            "Valid: loss = 0.7296, accuracy = 0.6695\n"
          ]
        },
        {
          "output_type": "stream",
          "name": "stderr",
          "text": [
            "Epoch [39/50]: 100%|██████████| 29/29 [00:06<00:00,  4.67it/s, loss=0.0121]\n"
          ]
        },
        {
          "output_type": "stream",
          "name": "stdout",
          "text": [
            "Train: loss = 0.0085, accuracy = 0.9993\n",
            "Valid: loss = 0.8023, accuracy = 0.7622\n"
          ]
        },
        {
          "output_type": "stream",
          "name": "stderr",
          "text": [
            "Epoch [40/50]: 100%|██████████| 29/29 [00:06<00:00,  4.67it/s, loss=0.00627]\n"
          ]
        },
        {
          "output_type": "stream",
          "name": "stdout",
          "text": [
            "Train: loss = 0.0062, accuracy = 0.9994\n",
            "Valid: loss = 0.6947, accuracy = 0.7486\n"
          ]
        },
        {
          "output_type": "stream",
          "name": "stderr",
          "text": [
            "Epoch [41/50]: 100%|██████████| 29/29 [00:06<00:00,  4.53it/s, loss=0.0069]\n"
          ]
        },
        {
          "output_type": "stream",
          "name": "stdout",
          "text": [
            "Train: loss = 0.0116, accuracy = 0.9993\n",
            "Valid: loss = 0.7915, accuracy = 0.6695\n"
          ]
        },
        {
          "output_type": "stream",
          "name": "stderr",
          "text": [
            "Epoch [42/50]: 100%|██████████| 29/29 [00:06<00:00,  4.41it/s, loss=0.00849]\n"
          ]
        },
        {
          "output_type": "stream",
          "name": "stdout",
          "text": [
            "Train: loss = 0.0064, accuracy = 0.9987\n",
            "Valid: loss = 0.7346, accuracy = 0.7430\n"
          ]
        },
        {
          "output_type": "stream",
          "name": "stderr",
          "text": [
            "Epoch [43/50]: 100%|██████████| 29/29 [00:06<00:00,  4.38it/s, loss=0.0051]\n"
          ]
        },
        {
          "output_type": "stream",
          "name": "stdout",
          "text": [
            "Train: loss = 0.0058, accuracy = 0.9989\n",
            "Valid: loss = 0.7049, accuracy = 0.7707\n"
          ]
        },
        {
          "output_type": "stream",
          "name": "stderr",
          "text": [
            "Epoch [44/50]: 100%|██████████| 29/29 [00:06<00:00,  4.34it/s, loss=0.00449]\n"
          ]
        },
        {
          "output_type": "stream",
          "name": "stdout",
          "text": [
            "Train: loss = 0.0060, accuracy = 0.9991\n",
            "Valid: loss = 0.7043, accuracy = 0.7455\n"
          ]
        },
        {
          "output_type": "stream",
          "name": "stderr",
          "text": [
            "Epoch [45/50]: 100%|██████████| 29/29 [00:06<00:00,  4.37it/s, loss=0.0151]\n"
          ]
        },
        {
          "output_type": "stream",
          "name": "stdout",
          "text": [
            "Train: loss = 0.0069, accuracy = 0.9983\n",
            "Valid: loss = 0.8627, accuracy = 0.7519\n"
          ]
        },
        {
          "output_type": "stream",
          "name": "stderr",
          "text": [
            "Epoch [46/50]: 100%|██████████| 29/29 [00:06<00:00,  4.35it/s, loss=0.0142]\n"
          ]
        },
        {
          "output_type": "stream",
          "name": "stdout",
          "text": [
            "Train: loss = 0.0133, accuracy = 0.9987\n",
            "Valid: loss = 0.9378, accuracy = 0.7304\n"
          ]
        },
        {
          "output_type": "stream",
          "name": "stderr",
          "text": [
            "Epoch [47/50]: 100%|██████████| 29/29 [00:06<00:00,  4.39it/s, loss=0.00929]\n"
          ]
        },
        {
          "output_type": "stream",
          "name": "stdout",
          "text": [
            "Train: loss = 0.0107, accuracy = 0.9992\n",
            "Valid: loss = 0.7709, accuracy = 0.7772\n"
          ]
        },
        {
          "output_type": "stream",
          "name": "stderr",
          "text": [
            "Epoch [48/50]: 100%|██████████| 29/29 [00:06<00:00,  4.38it/s, loss=0.00774]\n"
          ]
        },
        {
          "output_type": "stream",
          "name": "stdout",
          "text": [
            "Train: loss = 0.0083, accuracy = 0.9990\n",
            "Valid: loss = 0.8336, accuracy = 0.7460\n"
          ]
        },
        {
          "output_type": "stream",
          "name": "stderr",
          "text": [
            "Epoch [49/50]: 100%|██████████| 29/29 [00:06<00:00,  4.46it/s, loss=0.0129]\n"
          ]
        },
        {
          "output_type": "stream",
          "name": "stdout",
          "text": [
            "Train: loss = 0.0082, accuracy = 0.9983\n",
            "Valid: loss = 0.8036, accuracy = 0.7551\n"
          ]
        },
        {
          "output_type": "stream",
          "name": "stderr",
          "text": [
            "Epoch [50/50]: 100%|██████████| 29/29 [00:06<00:00,  4.56it/s, loss=0.00676]\n"
          ]
        },
        {
          "output_type": "stream",
          "name": "stdout",
          "text": [
            "Train: loss = 0.0058, accuracy = 0.9992\n",
            "Valid: loss = 0.7706, accuracy = 0.7322\n",
            "Net3: test_loss=0.7706, test_acc=0.7322\n"
          ]
        }
      ]
    },
    {
      "cell_type": "code",
      "source": [
        "# Plot a train & test loss per epoch graph for Net3\n",
        "plt.figure(figsize=(6, 4))\n",
        "epochs = np.arange(1, len(history['train_loss']) + 1)\n",
        "plt.plot(epochs, history['train_loss'], label='Train Loss', linestyle='-')\n",
        "plt.plot(epochs, history['val_loss'], label='Test Loss', linestyle='--')\n",
        "plt.title('Net3 - Loss per Epoch')\n",
        "plt.xlabel('Epoch')\n",
        "plt.ylabel('Loss')\n",
        "plt.legend()\n",
        "plt.grid(True)\n",
        "plt.tight_layout()\n",
        "plt.show()\n",
        "\n",
        "# Plot a train & test accuracy per epoch graph for Net3\n",
        "plt.figure(figsize=(6, 4))\n",
        "epochs = np.arange(1, len(history['train_acc']) + 1)\n",
        "plt.plot(epochs, history['train_acc'], label='Train Acc', linestyle='-')\n",
        "plt.plot(epochs, history['val_acc'], label='Test Acc', linestyle='--')\n",
        "plt.title('Net3 - Accuracy per Epoch')\n",
        "plt.xlabel('Epoch')\n",
        "plt.ylabel('Accuracy')\n",
        "plt.legend()\n",
        "plt.grid(True)\n",
        "plt.tight_layout()\n",
        "plt.show()"
      ],
      "metadata": {
        "id": "n7ERqzUDK6GJ",
        "colab": {
          "base_uri": "https://localhost:8080/",
          "height": 797
        },
        "outputId": "a4c0c743-b4a9-4b90-8d17-8f6abe4b9d46"
      },
      "execution_count": 72,
      "outputs": [
        {
          "output_type": "display_data",
          "data": {
            "text/plain": [
              "<Figure size 600x400 with 1 Axes>"
            ],
            "image/png": "[encoded data removed]"
          },
          "metadata": {}
        },
        {
          "output_type": "display_data",
          "data": {
            "text/plain": [
              "<Figure size 600x400 with 1 Axes>"
            ],
            "image/png": "[encoded data removed]"
          },
          "metadata": {}
        }
      ]
    },
    {
      "cell_type": "markdown",
      "source": [
        "# **Compute Metrics**"
      ],
      "metadata": {
        "id": "AukFvOQ4lbsI"
      }
    },
    {
      "cell_type": "code",
      "source": [
        "# Compute precision, recall, F1-score and confusion matrix of the model over the given data loader\n",
        "@torch.no_grad()\n",
        "def calculate_metrics(model, loader, loss_fn, device):\n",
        "  # Set model to eval mode\n",
        "  model.eval()\n",
        "\n",
        "  # Precision, recall, F1-score and confusion matrix accumulators\n",
        "  prec_metric = MulticlassPrecision(num_classes=10, average='macro').to(device)\n",
        "  rec_metric = MulticlassRecall(num_classes=10, average='macro').to(device)\n",
        "  f1_metric = MulticlassF1Score(num_classes=10, average='macro').to(device)\n",
        "  cm_metric = MulticlassConfusionMatrix(num_classes=10).to(device)\n",
        "\n",
        "  # Iterate through each batch\n",
        "  for batch in loader:\n",
        "    # Unpack batch into images and labels\n",
        "    imgs, labels = batch\n",
        "    imgs, labels = imgs.to(device), labels.to(device)\n",
        "\n",
        "    # Model predictions and predicted classes\n",
        "    outputs = model(imgs)\n",
        "    _, preds = torch.max(outputs, dim=1)\n",
        "\n",
        "    # Update all metrics with current batch\n",
        "    prec_metric.update(preds, labels)\n",
        "    rec_metric.update(preds, labels)\n",
        "    f1_metric.update(preds, labels)\n",
        "    cm_metric.update(preds, labels)\n",
        "\n",
        "  # Compute final metrics across entire data loader\n",
        "  prec = prec_metric.compute().item()\n",
        "  rec  = rec_metric.compute().item()\n",
        "  f1   = f1_metric.compute().item()\n",
        "  cm   = cm_metric.compute()\n",
        "\n",
        "  return prec, rec, f1, cm"
      ],
      "metadata": {
        "id": "wr1vRM8VKa3F"
      },
      "execution_count": 73,
      "outputs": []
    },
    {
      "cell_type": "code",
      "source": [
        "# Plot a confusion matrix\n",
        "def plot_confusion_matrix(cm, class_names):\n",
        "  # Convert the confusion matrix from tensor to numpy\n",
        "  cm = cm.cpu().numpy()\n",
        "\n",
        "  # Plot the confusion matrix\n",
        "  plt.figure(figsize=(6, 6))\n",
        "  sns.heatmap(cm, annot=True, fmt='d', cmap='Blues', xticklabels=class_names, yticklabels=class_names, cbar=True, square=True)\n",
        "  plt.xlabel('Predicted label')\n",
        "  plt.ylabel('True label')\n",
        "  plt.title('Confusion Matrix')\n",
        "  plt.tight_layout()\n",
        "  plt.show()"
      ],
      "metadata": {
        "id": "yltDPYmWf48G"
      },
      "execution_count": 74,
      "outputs": []
    },
    {
      "cell_type": "code",
      "source": [
        "# Calculate precision, recall, F1-score and confusion matrix of Net3 over the test set\n",
        "prec, rec, f1, cm = calculate_metrics(model, test_loader, loss_fn, device)\n",
        "\n",
        "# Print the precision, recall and F1-score\n",
        "print(f'Precision (macro): {prec:.4f}')\n",
        "print(f'Recall (macro): {rec:.4f}')\n",
        "print(f'F1-score (macro): {f1:.4f}')\n",
        "\n",
        "# Plot the confusion matrix\n",
        "plot_confusion_matrix(cm, test_loader.dataset.dataset.classes)"
      ],
      "metadata": {
        "id": "qlyGNYXad3DG",
        "colab": {
          "base_uri": "https://localhost:8080/",
          "height": 636
        },
        "outputId": "5955a411-c646-481b-92d3-83a8f6cade2d"
      },
      "execution_count": 75,
      "outputs": [
        {
          "output_type": "stream",
          "name": "stdout",
          "text": [
            "Precision (macro): 0.6437\n",
            "Recall (macro): 0.6573\n",
            "F1-score (macro): 0.6350\n"
          ]
        },
        {
          "output_type": "display_data",
          "data": {
            "text/plain": [
              "<Figure size 600x600 with 2 Axes>"
            ],
            "image/png": "[encoded data removed]"
          },
          "metadata": {}
        }
      ]
    },
    {
      "cell_type": "code",
      "source": [
        "# End comet experiment\n",
        "experiment.end()"
      ],
      "metadata": {
        "id": "Z0_Elfj3pktf",
        "colab": {
          "base_uri": "https://localhost:8080/"
        },
        "outputId": "713c8f1f-cc6f-49f3-c0ab-31b6635056d7"
      },
      "execution_count": 76,
      "outputs": [
        {
          "output_type": "stream",
          "name": "stderr",
          "text": [
            "\u001b[1;38;5;39mCOMET INFO:\u001b[0m ---------------------------------------------------------------------------------------\n",
            "\u001b[1;38;5;39mCOMET INFO:\u001b[0m Comet.ml Experiment Summary\n",
            "\u001b[1;38;5;39mCOMET INFO:\u001b[0m ---------------------------------------------------------------------------------------\n",
            "\u001b[1;38;5;39mCOMET INFO:\u001b[0m   Data:\n",
            "\u001b[1;38;5;39mCOMET INFO:\u001b[0m     display_summary_level : 1\n",
            "\u001b[1;38;5;39mCOMET INFO:\u001b[0m     name                  : residential_guava_224\n",
            "\u001b[1;38;5;39mCOMET INFO:\u001b[0m     url                   : https://www.comet.com/davidafshepherd/music-genre-classification/d91838756e214762b98511614d415b65\n",
            "\u001b[1;38;5;39mCOMET INFO:\u001b[0m   Others:\n",
            "\u001b[1;38;5;39mCOMET INFO:\u001b[0m     notebook_url : https://colab.research.google.com/notebook#fileId=1nt3Aj9SW4EnkYeO7O8R5FAG0PrOFEGvr\n",
            "\u001b[1;38;5;39mCOMET INFO:\u001b[0m   Uploads:\n",
            "\u001b[1;38;5;39mCOMET INFO:\u001b[0m     environment details : 1\n",
            "\u001b[1;38;5;39mCOMET INFO:\u001b[0m     filename            : 1\n",
            "\u001b[1;38;5;39mCOMET INFO:\u001b[0m     installed packages  : 1\n",
            "\u001b[1;38;5;39mCOMET INFO:\u001b[0m     model graph         : 1\n",
            "\u001b[1;38;5;39mCOMET INFO:\u001b[0m     notebook            : 2\n",
            "\u001b[1;38;5;39mCOMET INFO:\u001b[0m     os packages         : 1\n",
            "\u001b[1;38;5;39mCOMET INFO:\u001b[0m     source_code         : 1\n",
            "\u001b[1;38;5;39mCOMET INFO:\u001b[0m \n"
          ]
        }
      ]
    }
  ],
  "metadata": {
    "colab": {
      "provenance": [],
      "gpuType": "T4",
      "collapsed_sections": [
        "nlRVMalGY_HF",
        "9LOonaR9dTEp",
        "IlbY8BWrKi4O",
        "XrARqcmYL4QL",
        "Wzc1WGRUsZIK",
        "1lCqUF9hKsPx",
        "y06JUDa5yYml",
        "hB9pytfQktcF",
        "rOr0VwpuAcPG"
      ]
    },
    "kernelspec": {
      "display_name": "Python 3",
      "name": "python3"
    },
    "language_info": {
      "name": "python"
    },
    "accelerator": "GPU"
  },
  "nbformat": 4,
  "nbformat_minor": 0
}